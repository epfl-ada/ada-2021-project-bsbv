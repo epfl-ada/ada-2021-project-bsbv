{
 "cells": [
  {
   "cell_type": "code",
   "execution_count": 43,
   "metadata": {},
   "outputs": [],
   "source": [
    "from pyspark.sql.functions import *\n",
    "from pyspark.sql.types import *\n",
    "\n",
    "from pyspark.sql import SparkSession\n",
    "from pyspark import SparkContext\n",
    "import pandas as pd\n",
    "import json\n",
    "import glob\n",
    "import os \n",
    "\n",
    "import matplotlib.pyplot as plt"
   ]
  },
  {
   "cell_type": "code",
   "execution_count": 44,
   "metadata": {},
   "outputs": [],
   "source": [
    "spark = SparkSession.builder.config(\"spark.driver.memory\", \"30g\")\\\n",
    "    .config(\"spark.driver.maxResultSize\", '0').config(\"spark.executor.memory\", \"30g\")\\\n",
    "    .config('spark.sql.autoBroadcastJoinThreshold', '-1').config('spark.local.dir','/ada/tmp').getOrCreate()\n"
   ]
  },
  {
   "cell_type": "code",
   "execution_count": 45,
   "metadata": {},
   "outputs": [],
   "source": [
    "from pyspark.sql.functions import *\n",
    "from pyspark.sql.types import StructType,StructField, StringType, IntegerType, ArrayType, FloatType\n",
    "\n",
    "schema = StructType([\n",
    "    StructField('date', StringType(), True),\n",
    "    StructField('numOccurrences', StringType(), True),\n",
    "    StructField('phase', StringType(), True),\n",
    "    StructField('probas', ArrayType(ArrayType(StringType()))),\n",
    "    StructField(\"qids\", ArrayType(StringType()), True),\n",
    "    StructField('speaker', StringType(), True),\n",
    "#     StructField('quotation', StringType(), True),\n",
    "    StructField('quoteID', StringType(), True),\n",
    "    StructField('urls', ArrayType(StringType()), True)\n",
    "])"
   ]
  },
  {
   "cell_type": "code",
   "execution_count": 46,
   "metadata": {},
   "outputs": [],
   "source": [
    "quote_files = glob.glob(\"*\")\n",
    "quote_files = [k for k in quote_files if 'json' in k]\n"
   ]
  },
  {
   "cell_type": "code",
   "execution_count": 26,
   "metadata": {},
   "outputs": [],
   "source": [
    "quotes = spark.read.schema(schema).option(\"encoding\", \"UTF-8\").json(quote_files)\n",
    "\n",
    "# limit the dataset size for preliminary analysis and developing the pipeline\n",
    "quotes.createOrReplaceTempView(\"data\")\n"
   ]
  },
  {
   "cell_type": "code",
   "execution_count": 342,
   "metadata": {},
   "outputs": [
    {
     "data": {
      "text/plain": [
       "DataFrame[date: string, numOccurrences: string, phase: string, probas: array<array<string>>, qids: array<string>, speaker: string, quoteID: string, urls: array<string>]"
      ]
     },
     "execution_count": 342,
     "metadata": {},
     "output_type": "execute_result"
    }
   ],
   "source": []
  },
  {
   "cell_type": "code",
   "execution_count": null,
   "metadata": {},
   "outputs": [],
   "source": []
  },
  {
   "cell_type": "code",
   "execution_count": 90,
   "metadata": {},
   "outputs": [],
   "source": [
    "from tld import get_tld\n",
    "\n",
    "def get_domain(urls):\n",
    "    tlds = [get_tld(k, as_object=True).fld for k in urls]\n",
    "    return tlds\n",
    "\n",
    "def extract_smallest_qid(qids):\n",
    "    try: \n",
    "        if len(qids) > 1:\n",
    "            vals = [int(k[1:]) for k in qids]\n",
    "            vals.sort()\n",
    "            response = vals[0]\n",
    "        else:\n",
    "            response = int(qids[0][1:])\n",
    "        return response\n",
    "    except:\n",
    "        print('fail')\n",
    "        return None\n",
    "\n",
    "get_domain_udf = udf(get_domain, ArrayType(StringType()))\n",
    "extract_smallest_qid_udf = udf(extract_smallest_qid, IntegerType())"
   ]
  },
  {
   "cell_type": "code",
   "execution_count": 91,
   "metadata": {},
   "outputs": [],
   "source": [
    "# let's extract the top level domains\n",
    "quotes = quotes.filter(quotes.speaker != \"None\")\n",
    "quotes = quotes.withColumn('qid', extract_smallest_qid_udf(\"qids\"))\n",
    "\n",
    "quotes = quotes.withColumn(\"flds\", get_domain_udf(\"urls\"))\n"
   ]
  },
  {
   "cell_type": "code",
   "execution_count": 348,
   "metadata": {},
   "outputs": [],
   "source": [
    "q = quotes.withColumn(\"date_only\", to_date(col(\"date\")))\n"
   ]
  },
  {
   "cell_type": "code",
   "execution_count": 349,
   "metadata": {},
   "outputs": [],
   "source": [
    "q = q.withColumn(\"month\", date_trunc(\"month\", col(\"date_only\")))"
   ]
  },
  {
   "cell_type": "code",
   "execution_count": 352,
   "metadata": {},
   "outputs": [],
   "source": [
    "month_counts = q.groupby('month').count().toPandas()"
   ]
  },
  {
   "cell_type": "code",
   "execution_count": 357,
   "metadata": {},
   "outputs": [],
   "source": [
    "month_counts.sort_values(by= 'month').to_csv(\"C:/Users/Venia/ada_projects/month_counts.csv\",index=False)"
   ]
  },
  {
   "cell_type": "code",
   "execution_count": 92,
   "metadata": {},
   "outputs": [],
   "source": [
    "quotes = quotes.select(quotes.qid, explode(quotes.flds).alias('fld'))\n",
    "news_speaker_count = quotes.groupBy(['fld','qid']).count()"
   ]
  },
  {
   "cell_type": "code",
   "execution_count": 96,
   "metadata": {},
   "outputs": [],
   "source": [
    "news_speaker_count.write.parquet(\"news_speaker_count.parquet\")"
   ]
  },
  {
   "cell_type": "code",
   "execution_count": 97,
   "metadata": {},
   "outputs": [],
   "source": [
    "news_speaker_count = spark.read.load('news_speaker_count.parquet')"
   ]
  },
  {
   "cell_type": "code",
   "execution_count": 235,
   "metadata": {},
   "outputs": [],
   "source": [
    "# let's limit to pages with .com\n",
    "# news_speaker_count= news_speaker_count.filter(news_speaker_count.fld.contains(\".com\"))"
   ]
  },
  {
   "cell_type": "code",
   "execution_count": 236,
   "metadata": {},
   "outputs": [],
   "source": [
    "\n",
    "news_counts = news_speaker_count.groupby('fld').count()\n",
    "\n",
    "\n",
    "speaker_counts = news_speaker_count.groupby('qid').count()"
   ]
  },
  {
   "cell_type": "code",
   "execution_count": 240,
   "metadata": {},
   "outputs": [
    {
     "name": "stdout",
     "output_type": "stream",
     "text": [
      "news: \n",
      "speakers:\n"
     ]
    }
   ],
   "source": [
    "print('news: ')\n",
    "news_counts.write.parquet(\"news_counts_usa.parquet\")\n",
    "print('speakers:')\n",
    "speaker_counts.write.parquet(\"speaker_counts_usa.parquet\")"
   ]
  },
  {
   "cell_type": "code",
   "execution_count": 318,
   "metadata": {},
   "outputs": [],
   "source": [
    "news_counts_df = news_counts.toPandas()"
   ]
  },
  {
   "cell_type": "code",
   "execution_count": null,
   "metadata": {},
   "outputs": [],
   "source": []
  },
  {
   "cell_type": "code",
   "execution_count": 317,
   "metadata": {},
   "outputs": [],
   "source": [
    "news_counts = spark.read.load('news_counts.parquet')\n",
    "speaker_counts = spark.read.load(\"speaker_counts.parquet\")"
   ]
  },
  {
   "cell_type": "code",
   "execution_count": 260,
   "metadata": {},
   "outputs": [],
   "source": [
    "news_counts_df = news_counts.toPandas()\n",
    "speaker_counts_df = speaker_counts.toPandas()"
   ]
  },
  {
   "cell_type": "code",
   "execution_count": 263,
   "metadata": {},
   "outputs": [],
   "source": [
    "speaker_counts_df.to_csv(\"C:/Users/Venia/ada_projects/speaker_counts.csv\", index=False)\n",
    "news_counts_df.to_csv(\"C:/Users/Venia/ada_projects/news_counts.csv\", index=False)"
   ]
  },
  {
   "cell_type": "markdown",
   "metadata": {},
   "source": [
    "## Let's better understand the speaker and news site data\n",
    "- we'll see how many times different speakers are quoted\n",
    "- then we'll see how many news paper sites are there"
   ]
  },
  {
   "cell_type": "code",
   "execution_count": 103,
   "metadata": {},
   "outputs": [],
   "source": [
    "# distrubition of speaker counts\n",
    "speaker_counts_df = speaker_counts.toPandas()"
   ]
  },
  {
   "cell_type": "code",
   "execution_count": 112,
   "metadata": {},
   "outputs": [
    {
     "data": {
      "text/html": [
       "<div>\n",
       "<style scoped>\n",
       "    .dataframe tbody tr th:only-of-type {\n",
       "        vertical-align: middle;\n",
       "    }\n",
       "\n",
       "    .dataframe tbody tr th {\n",
       "        vertical-align: top;\n",
       "    }\n",
       "\n",
       "    .dataframe thead th {\n",
       "        text-align: right;\n",
       "    }\n",
       "</style>\n",
       "<table border=\"1\" class=\"dataframe\">\n",
       "  <thead>\n",
       "    <tr style=\"text-align: right;\">\n",
       "      <th></th>\n",
       "      <th>qid</th>\n",
       "      <th>count</th>\n",
       "    </tr>\n",
       "  </thead>\n",
       "  <tbody>\n",
       "    <tr>\n",
       "      <th>count</th>\n",
       "      <td>7.032880e+05</td>\n",
       "      <td>703288.000000</td>\n",
       "    </tr>\n",
       "    <tr>\n",
       "      <th>mean</th>\n",
       "      <td>1.786612e+07</td>\n",
       "      <td>50.235026</td>\n",
       "    </tr>\n",
       "    <tr>\n",
       "      <th>std</th>\n",
       "      <td>1.810502e+07</td>\n",
       "      <td>154.389625</td>\n",
       "    </tr>\n",
       "    <tr>\n",
       "      <th>min</th>\n",
       "      <td>7.600000e+01</td>\n",
       "      <td>1.000000</td>\n",
       "    </tr>\n",
       "    <tr>\n",
       "      <th>25%</th>\n",
       "      <td>4.707416e+06</td>\n",
       "      <td>2.000000</td>\n",
       "    </tr>\n",
       "    <tr>\n",
       "      <th>50%</th>\n",
       "      <td>7.822440e+06</td>\n",
       "      <td>6.000000</td>\n",
       "    </tr>\n",
       "    <tr>\n",
       "      <th>75%</th>\n",
       "      <td>2.704950e+07</td>\n",
       "      <td>29.000000</td>\n",
       "    </tr>\n",
       "    <tr>\n",
       "      <th>max</th>\n",
       "      <td>5.962784e+07</td>\n",
       "      <td>7463.000000</td>\n",
       "    </tr>\n",
       "  </tbody>\n",
       "</table>\n",
       "</div>"
      ],
      "text/plain": [
       "                qid          count\n",
       "count  7.032880e+05  703288.000000\n",
       "mean   1.786612e+07      50.235026\n",
       "std    1.810502e+07     154.389625\n",
       "min    7.600000e+01       1.000000\n",
       "25%    4.707416e+06       2.000000\n",
       "50%    7.822440e+06       6.000000\n",
       "75%    2.704950e+07      29.000000\n",
       "max    5.962784e+07    7463.000000"
      ]
     },
     "execution_count": 112,
     "metadata": {},
     "output_type": "execute_result"
    }
   ],
   "source": [
    "speaker_counts_df.describe()"
   ]
  },
  {
   "cell_type": "code",
   "execution_count": 114,
   "metadata": {},
   "outputs": [
    {
     "data": {
      "text/plain": [
       "6.0"
      ]
     },
     "execution_count": 114,
     "metadata": {},
     "output_type": "execute_result"
    }
   ],
   "source": [
    "speaker_counts_df['count'].median()"
   ]
  },
  {
   "cell_type": "code",
   "execution_count": 110,
   "metadata": {},
   "outputs": [
    {
     "data": {
      "image/png": "[encoded data removed]",
      "text/plain": [
       "<Figure size 432x288 with 1 Axes>"
      ]
     },
     "metadata": {
      "needs_background": "light"
     },
     "output_type": "display_data"
    }
   ],
   "source": [
    "fig, ax = plt.subplots()\n",
    "ax.hist(speaker_counts_df['count'], bins = 500, log = True)\n",
    "ax.set_title(\"Distribution of speaker counts (100 bins)\")\n",
    "ax.set_ylabel('frequency')\n",
    "plt.show()"
   ]
  },
  {
   "cell_type": "code",
   "execution_count": 106,
   "metadata": {},
   "outputs": [],
   "source": [
    "news_counts_df = news_counts.toPandas()"
   ]
  },
  {
   "cell_type": "code",
   "execution_count": 111,
   "metadata": {},
   "outputs": [
    {
     "data": {
      "text/html": [
       "<div>\n",
       "<style scoped>\n",
       "    .dataframe tbody tr th:only-of-type {\n",
       "        vertical-align: middle;\n",
       "    }\n",
       "\n",
       "    .dataframe tbody tr th {\n",
       "        vertical-align: top;\n",
       "    }\n",
       "\n",
       "    .dataframe thead th {\n",
       "        text-align: right;\n",
       "    }\n",
       "</style>\n",
       "<table border=\"1\" class=\"dataframe\">\n",
       "  <thead>\n",
       "    <tr style=\"text-align: right;\">\n",
       "      <th></th>\n",
       "      <th>count</th>\n",
       "    </tr>\n",
       "  </thead>\n",
       "  <tbody>\n",
       "    <tr>\n",
       "      <th>count</th>\n",
       "      <td>12939.000000</td>\n",
       "    </tr>\n",
       "    <tr>\n",
       "      <th>mean</th>\n",
       "      <td>2730.480794</td>\n",
       "    </tr>\n",
       "    <tr>\n",
       "      <th>std</th>\n",
       "      <td>6148.156141</td>\n",
       "    </tr>\n",
       "    <tr>\n",
       "      <th>min</th>\n",
       "      <td>1.000000</td>\n",
       "    </tr>\n",
       "    <tr>\n",
       "      <th>25%</th>\n",
       "      <td>47.000000</td>\n",
       "    </tr>\n",
       "    <tr>\n",
       "      <th>50%</th>\n",
       "      <td>406.000000</td>\n",
       "    </tr>\n",
       "    <tr>\n",
       "      <th>75%</th>\n",
       "      <td>2073.500000</td>\n",
       "    </tr>\n",
       "    <tr>\n",
       "      <th>max</th>\n",
       "      <td>145157.000000</td>\n",
       "    </tr>\n",
       "  </tbody>\n",
       "</table>\n",
       "</div>"
      ],
      "text/plain": [
       "               count\n",
       "count   12939.000000\n",
       "mean     2730.480794\n",
       "std      6148.156141\n",
       "min         1.000000\n",
       "25%        47.000000\n",
       "50%       406.000000\n",
       "75%      2073.500000\n",
       "max    145157.000000"
      ]
     },
     "execution_count": 111,
     "metadata": {},
     "output_type": "execute_result"
    }
   ],
   "source": [
    "news_counts_df.describe()"
   ]
  },
  {
   "cell_type": "code",
   "execution_count": 109,
   "metadata": {},
   "outputs": [
    {
     "data": {
      "image/png": "[encoded data removed]",
      "text/plain": [
       "<Figure size 432x288 with 1 Axes>"
      ]
     },
     "metadata": {
      "needs_background": "light"
     },
     "output_type": "display_data"
    }
   ],
   "source": [
    "fig, ax = plt.subplots()\n",
    "ax.hist(news_counts_df['count'], bins = 500, log = True)\n",
    "ax.set_title(\"Distribution of news counts (100 bins)\")\n",
    "ax.set_ylabel('frequency')\n",
    "plt.show()"
   ]
  },
  {
   "cell_type": "markdown",
   "metadata": {},
   "source": [
    "How to decide on the threshold for speakers and news articles posted?"
   ]
  },
  {
   "cell_type": "code",
   "execution_count": 246,
   "metadata": {},
   "outputs": [],
   "source": [
    "news_counts_filtered = news_counts.filter(news_counts['count'] > 10000)\n",
    "speakers_filtered = speaker_counts[speaker_counts['count'] > 20]"
   ]
  },
  {
   "cell_type": "code",
   "execution_count": 250,
   "metadata": {},
   "outputs": [],
   "source": [
    "speakers_filtered = speakers_filtered.withColumn('count_speaker', col('count')).select('qid','count_speaker')\n",
    "news_counts_filtered = news_counts_filtered.withColumn('count_news', col('count')).select('fld','count_news')"
   ]
  },
  {
   "cell_type": "code",
   "execution_count": 251,
   "metadata": {},
   "outputs": [],
   "source": [
    "## # analysis to get the term-frequencies and idf\n",
    "data = news_speaker_count.join(speakers_filtered, on ='qid', how = 'inner')\n",
    "\n",
    "# data= data.select('fld','qid','count')\n",
    "\n",
    "data = data.join(news_counts_filtered, on ='fld', how = 'inner')\n",
    "# data= data.select('fld','qid','count')\n"
   ]
  },
  {
   "cell_type": "code",
   "execution_count": 252,
   "metadata": {},
   "outputs": [],
   "source": [
    "N = news_counts_filtered.count()"
   ]
  },
  {
   "cell_type": "code",
   "execution_count": null,
   "metadata": {},
   "outputs": [],
   "source": []
  },
  {
   "cell_type": "code",
   "execution_count": 255,
   "metadata": {},
   "outputs": [],
   "source": [
    "data2 = data.withColumn('tfidf', col('count') * log(N/col('count_speaker')).alias('tf-idf'))"
   ]
  },
  {
   "cell_type": "code",
   "execution_count": 256,
   "metadata": {},
   "outputs": [],
   "source": [
    "data2.write.parquet(\"tfidf_possible_usa.parquet\")"
   ]
  },
  {
   "cell_type": "code",
   "execution_count": 36,
   "metadata": {},
   "outputs": [],
   "source": [
    "tfidf = spark.read.load('tfidf_possible.parquet')"
   ]
  },
  {
   "cell_type": "code",
   "execution_count": null,
   "metadata": {},
   "outputs": [],
   "source": [
    "tfidf_df = tfidf.toPandas()"
   ]
  },
  {
   "cell_type": "code",
   "execution_count": 64,
   "metadata": {},
   "outputs": [
    {
     "data": {
      "text/html": [
       "<div>\n",
       "<style scoped>\n",
       "    .dataframe tbody tr th:only-of-type {\n",
       "        vertical-align: middle;\n",
       "    }\n",
       "\n",
       "    .dataframe tbody tr th {\n",
       "        vertical-align: top;\n",
       "    }\n",
       "\n",
       "    .dataframe thead th {\n",
       "        text-align: right;\n",
       "    }\n",
       "</style>\n",
       "<table border=\"1\" class=\"dataframe\">\n",
       "  <thead>\n",
       "    <tr style=\"text-align: right;\">\n",
       "      <th></th>\n",
       "      <th>qid</th>\n",
       "      <th>count</th>\n",
       "      <th>count_speaker</th>\n",
       "      <th>count_news</th>\n",
       "      <th>tfidf</th>\n",
       "    </tr>\n",
       "  </thead>\n",
       "  <tbody>\n",
       "    <tr>\n",
       "      <th>count</th>\n",
       "      <td>3.260723e+07</td>\n",
       "      <td>3.260723e+07</td>\n",
       "      <td>3.260723e+07</td>\n",
       "      <td>3.260723e+07</td>\n",
       "      <td>3.260723e+07</td>\n",
       "    </tr>\n",
       "    <tr>\n",
       "      <th>mean</th>\n",
       "      <td>1.029060e+07</td>\n",
       "      <td>7.919392e+00</td>\n",
       "      <td>5.629782e+02</td>\n",
       "      <td>1.653862e+04</td>\n",
       "      <td>2.023598e+01</td>\n",
       "    </tr>\n",
       "    <tr>\n",
       "      <th>std</th>\n",
       "      <td>1.405103e+07</td>\n",
       "      <td>4.487051e+01</td>\n",
       "      <td>6.506846e+02</td>\n",
       "      <td>1.630550e+04</td>\n",
       "      <td>8.418194e+01</td>\n",
       "    </tr>\n",
       "    <tr>\n",
       "      <th>min</th>\n",
       "      <td>7.600000e+01</td>\n",
       "      <td>1.000000e+00</td>\n",
       "      <td>2.100000e+01</td>\n",
       "      <td>2.010000e+02</td>\n",
       "      <td>4.634337e-02</td>\n",
       "    </tr>\n",
       "    <tr>\n",
       "      <th>25%</th>\n",
       "      <td>8.884710e+05</td>\n",
       "      <td>1.000000e+00</td>\n",
       "      <td>1.350000e+02</td>\n",
       "      <td>6.098000e+03</td>\n",
       "      <td>4.201882e+00</td>\n",
       "    </tr>\n",
       "    <tr>\n",
       "      <th>50%</th>\n",
       "      <td>5.145011e+06</td>\n",
       "      <td>2.000000e+00</td>\n",
       "      <td>3.220000e+02</td>\n",
       "      <td>1.398300e+04</td>\n",
       "      <td>7.924473e+00</td>\n",
       "    </tr>\n",
       "    <tr>\n",
       "      <th>75%</th>\n",
       "      <td>1.590514e+07</td>\n",
       "      <td>5.000000e+00</td>\n",
       "      <td>7.400000e+02</td>\n",
       "      <td>2.149900e+04</td>\n",
       "      <td>1.644810e+01</td>\n",
       "    </tr>\n",
       "    <tr>\n",
       "      <th>max</th>\n",
       "      <td>5.962762e+07</td>\n",
       "      <td>4.999000e+03</td>\n",
       "      <td>7.463000e+03</td>\n",
       "      <td>1.451570e+05</td>\n",
       "      <td>2.900292e+04</td>\n",
       "    </tr>\n",
       "  </tbody>\n",
       "</table>\n",
       "</div>"
      ],
      "text/plain": [
       "                qid         count  count_speaker    count_news         tfidf\n",
       "count  3.260723e+07  3.260723e+07   3.260723e+07  3.260723e+07  3.260723e+07\n",
       "mean   1.029060e+07  7.919392e+00   5.629782e+02  1.653862e+04  2.023598e+01\n",
       "std    1.405103e+07  4.487051e+01   6.506846e+02  1.630550e+04  8.418194e+01\n",
       "min    7.600000e+01  1.000000e+00   2.100000e+01  2.010000e+02  4.634337e-02\n",
       "25%    8.884710e+05  1.000000e+00   1.350000e+02  6.098000e+03  4.201882e+00\n",
       "50%    5.145011e+06  2.000000e+00   3.220000e+02  1.398300e+04  7.924473e+00\n",
       "75%    1.590514e+07  5.000000e+00   7.400000e+02  2.149900e+04  1.644810e+01\n",
       "max    5.962762e+07  4.999000e+03   7.463000e+03  1.451570e+05  2.900292e+04"
      ]
     },
     "execution_count": 64,
     "metadata": {},
     "output_type": "execute_result"
    }
   ],
   "source": [
    "tfidf_df2.describe()"
   ]
  },
  {
   "cell_type": "code",
   "execution_count": 50,
   "metadata": {},
   "outputs": [],
   "source": [
    "# remove completely impossible numbers\n",
    "tfidf_df2 = tfidf_df[tfidf_df['count'] < 5000]"
   ]
  },
  {
   "cell_type": "code",
   "execution_count": 51,
   "metadata": {},
   "outputs": [],
   "source": [
    "pivoted = tfidf_df2.pivot(index='fld',columns ='qid', values='tfidf')\n"
   ]
  },
  {
   "cell_type": "code",
   "execution_count": 52,
   "metadata": {},
   "outputs": [],
   "source": [
    "pivoted = pivoted.fillna(0)"
   ]
  },
  {
   "cell_type": "code",
   "execution_count": 53,
   "metadata": {},
   "outputs": [],
   "source": [
    "# try standardizing?\n",
    "from sklearn.preprocessing import StandardScaler\n",
    "ss = StandardScaler()\n",
    "pivoted_ = ss.fit_transform(pivoted.values)"
   ]
  },
  {
   "cell_type": "code",
   "execution_count": 276,
   "metadata": {},
   "outputs": [],
   "source": [
    "# instead we'll normalize it \n",
    "# this is done as was recommended in lecture in class\n",
    "from sklearn.preprocessing import normalize\n",
    "nn = normalize(pivoted.values)"
   ]
  },
  {
   "cell_type": "code",
   "execution_count": 301,
   "metadata": {},
   "outputs": [],
   "source": [
    "# to do the LSA we need to run PCA\n",
    "from sklearn.decomposition import PCA \n",
    "pca = PCA(150)\n",
    "vecs = pca.fit_transform(nn)\n",
    "\n",
    "vecs_df = pd.DataFrame(vecs, index=pivoted.index)\n",
    "\n"
   ]
  },
  {
   "cell_type": "code",
   "execution_count": 303,
   "metadata": {},
   "outputs": [],
   "source": [
    "vecs_df[list(range(150))] = vecs_df[range(150)].divide(np.linalg.norm(vecs_df[range(150)], axis = 1), axis = 0)\n"
   ]
  },
  {
   "cell_type": "code",
   "execution_count": 304,
   "metadata": {},
   "outputs": [],
   "source": [
    "\n",
    "# we will use cosine similarity to find similarity\n",
    "from sklearn.metrics import pairwise\n",
    "cosine_similarity = pairwise.cosine_similarity(vecs_df.values)\n",
    "\n",
    "cosine_similarity_df = pd.DataFrame(cosine_similarity, index=vecs_df.index,columns = vecs_df.index)"
   ]
  },
  {
   "cell_type": "code",
   "execution_count": null,
   "metadata": {},
   "outputs": [],
   "source": []
  },
  {
   "cell_type": "code",
   "execution_count": 311,
   "metadata": {
    "scrolled": true
   },
   "outputs": [],
   "source": [
    "from sklearn.cluster import KMeans\n",
    "km = KMeans(50)\n",
    "km.fit(vecs)\n",
    "clusters = km.predict(vecs)"
   ]
  },
  {
   "cell_type": "code",
   "execution_count": 312,
   "metadata": {},
   "outputs": [],
   "source": [
    "vecs_df['cluster'] = clusters"
   ]
  },
  {
   "cell_type": "code",
   "execution_count": null,
   "metadata": {},
   "outputs": [],
   "source": []
  },
  {
   "cell_type": "code",
   "execution_count": 313,
   "metadata": {},
   "outputs": [],
   "source": [
    "bias_scores = pd.read_csv(\"bias_scores.csv\")"
   ]
  },
  {
   "cell_type": "code",
   "execution_count": 314,
   "metadata": {},
   "outputs": [],
   "source": [
    "domains = bias_scores.dropna(subset=['score'])"
   ]
  },
  {
   "cell_type": "code",
   "execution_count": null,
   "metadata": {},
   "outputs": [],
   "source": []
  },
  {
   "cell_type": "code",
   "execution_count": 315,
   "metadata": {},
   "outputs": [],
   "source": [
    "vecs_fb = vecs_df.merge(domains, left_index=True, right_on = 'domain', how = 'left')"
   ]
  },
  {
   "cell_type": "code",
   "execution_count": 316,
   "metadata": {},
   "outputs": [],
   "source": [
    "vecs_fb.to_csv(\"C:/Users/Venia/ada_projects/quote_embedding.csv\", index=False)"
   ]
  },
  {
   "cell_type": "code",
   "execution_count": 361,
   "metadata": {},
   "outputs": [],
   "source": [
    "# for tensorflow embedding\n",
    "vecs_fb[range(150)].to_csv(\"C:/Users/Venia/ada_projects/climate_vecs.tsv\", sep = '\\t', header=None,index=False)\n",
    "vecs_fb[['domain','cluster','score','partisan_score']].to_csv('climate_metadata.tsv', sep = '\\t', index=False)"
   ]
  },
  {
   "cell_type": "code",
   "execution_count": null,
   "metadata": {},
   "outputs": [],
   "source": []
  },
  {
   "cell_type": "code",
   "execution_count": 81,
   "metadata": {},
   "outputs": [],
   "source": [
    "# build embedding on climate quotes"
   ]
  },
  {
   "cell_type": "code",
   "execution_count": 82,
   "metadata": {},
   "outputs": [],
   "source": [
    "climate_quotes = pd.read_csv(\"C:/Users/Venia/ada_projects/climate_quotes_full2.csv\")"
   ]
  },
  {
   "cell_type": "code",
   "execution_count": null,
   "metadata": {},
   "outputs": [],
   "source": []
  },
  {
   "cell_type": "markdown",
   "metadata": {},
   "source": [
    "## Useless climate embedding generation"
   ]
  },
  {
   "cell_type": "code",
   "execution_count": 83,
   "metadata": {},
   "outputs": [],
   "source": [
    "climate_quotes.drop('urls',inplace=True,axis=1)"
   ]
  },
  {
   "cell_type": "code",
   "execution_count": 84,
   "metadata": {},
   "outputs": [],
   "source": [
    "climate_quotes['domains'] = climate_quotes['domains'].apply(lambda x: eval(x))"
   ]
  },
  {
   "cell_type": "code",
   "execution_count": 85,
   "metadata": {},
   "outputs": [],
   "source": [
    "climate_quotes_exploded = climate_quotes.explode('domains')"
   ]
  },
  {
   "cell_type": "code",
   "execution_count": 268,
   "metadata": {},
   "outputs": [
    {
     "data": {
      "text/html": [
       "<div>\n",
       "<style scoped>\n",
       "    .dataframe tbody tr th:only-of-type {\n",
       "        vertical-align: middle;\n",
       "    }\n",
       "\n",
       "    .dataframe tbody tr th {\n",
       "        vertical-align: top;\n",
       "    }\n",
       "\n",
       "    .dataframe thead th {\n",
       "        text-align: right;\n",
       "    }\n",
       "</style>\n",
       "<table border=\"1\" class=\"dataframe\">\n",
       "  <thead>\n",
       "    <tr style=\"text-align: right;\">\n",
       "      <th></th>\n",
       "      <th>date</th>\n",
       "      <th>numOccurrences</th>\n",
       "      <th>phase</th>\n",
       "      <th>probas</th>\n",
       "      <th>qids</th>\n",
       "      <th>speaker</th>\n",
       "      <th>quotation</th>\n",
       "      <th>quoteID</th>\n",
       "      <th>domains</th>\n",
       "    </tr>\n",
       "  </thead>\n",
       "  <tbody>\n",
       "    <tr>\n",
       "      <th>114243</th>\n",
       "      <td>2015-01-22 05:00:00</td>\n",
       "      <td>366</td>\n",
       "      <td>E</td>\n",
       "      <td>[['David Collings', '0.6466'], ['None', '0.333...</td>\n",
       "      <td>['Q3017697', 'Q58224653']</td>\n",
       "      <td>David Collings</td>\n",
       "      <td>I think it would've been a shame to have 1,000...</td>\n",
       "      <td>2015-01-22-033642</td>\n",
       "      <td>[bowdoinorient.com, bowdoinorient.com, bowdoin...</td>\n",
       "    </tr>\n",
       "  </tbody>\n",
       "</table>\n",
       "</div>"
      ],
      "text/plain": [
       "                       date  numOccurrences phase  \\\n",
       "114243  2015-01-22 05:00:00             366     E   \n",
       "\n",
       "                                                   probas  \\\n",
       "114243  [['David Collings', '0.6466'], ['None', '0.333...   \n",
       "\n",
       "                             qids         speaker  \\\n",
       "114243  ['Q3017697', 'Q58224653']  David Collings   \n",
       "\n",
       "                                                quotation            quoteID  \\\n",
       "114243  I think it would've been a shame to have 1,000...  2015-01-22-033642   \n",
       "\n",
       "                                                  domains  \n",
       "114243  [bowdoinorient.com, bowdoinorient.com, bowdoin...  "
      ]
     },
     "execution_count": 268,
     "metadata": {},
     "output_type": "execute_result"
    }
   ],
   "source": [
    "climate_quotes[climate_quotes['quoteID'] == '2015-01-22-033642']"
   ]
  },
  {
   "cell_type": "code",
   "execution_count": 265,
   "metadata": {},
   "outputs": [
    {
     "data": {
      "text/html": [
       "<div>\n",
       "<style scoped>\n",
       "    .dataframe tbody tr th:only-of-type {\n",
       "        vertical-align: middle;\n",
       "    }\n",
       "\n",
       "    .dataframe tbody tr th {\n",
       "        vertical-align: top;\n",
       "    }\n",
       "\n",
       "    .dataframe thead th {\n",
       "        text-align: right;\n",
       "    }\n",
       "</style>\n",
       "<table border=\"1\" class=\"dataframe\">\n",
       "  <thead>\n",
       "    <tr style=\"text-align: right;\">\n",
       "      <th></th>\n",
       "      <th>date</th>\n",
       "      <th>numOccurrences</th>\n",
       "      <th>phase</th>\n",
       "      <th>probas</th>\n",
       "      <th>qids</th>\n",
       "      <th>speaker</th>\n",
       "      <th>quotation</th>\n",
       "      <th>quoteID</th>\n",
       "      <th>domains</th>\n",
       "    </tr>\n",
       "  </thead>\n",
       "  <tbody>\n",
       "    <tr>\n",
       "      <th>0</th>\n",
       "      <td>2016-07-07 01:40:20</td>\n",
       "      <td>1</td>\n",
       "      <td>E</td>\n",
       "      <td>[['President Barack Obama', '0.6954'], ['None'...</td>\n",
       "      <td>['Q76']</td>\n",
       "      <td>President Barack Obama</td>\n",
       "      <td>I urge this Congress to come up with a biparti...</td>\n",
       "      <td>2016-07-07-042460</td>\n",
       "      <td>dissidentvoice.org</td>\n",
       "    </tr>\n",
       "  </tbody>\n",
       "</table>\n",
       "</div>"
      ],
      "text/plain": [
       "                  date  numOccurrences phase  \\\n",
       "0  2016-07-07 01:40:20               1     E   \n",
       "\n",
       "                                              probas     qids  \\\n",
       "0  [['President Barack Obama', '0.6954'], ['None'...  ['Q76']   \n",
       "\n",
       "                  speaker                                          quotation  \\\n",
       "0  President Barack Obama  I urge this Congress to come up with a biparti...   \n",
       "\n",
       "             quoteID             domains  \n",
       "0  2016-07-07-042460  dissidentvoice.org  "
      ]
     },
     "execution_count": 265,
     "metadata": {},
     "output_type": "execute_result"
    }
   ],
   "source": [
    "climate_quotes_exploded[climate_quotes_exploded['quoteID'] == '2016-07-07-042460']"
   ]
  },
  {
   "cell_type": "code",
   "execution_count": 150,
   "metadata": {},
   "outputs": [],
   "source": [
    "climate_quotes_exploded = climate_quotes_exploded[climate_quotes_exploded['speaker'] != 'None']"
   ]
  },
  {
   "cell_type": "code",
   "execution_count": 159,
   "metadata": {},
   "outputs": [],
   "source": [
    "domain_speaker_count = climate_quotes_exploded.groupby(['domains', 'speaker'])['qids'].count().reset_index()\n",
    "domain_count = climate_quotes_exploded.groupby('domains')['qids'].count().reset_index()\n",
    "speaker_count = climate_quotes_exploded.groupby('speaker')['qids'].count().reset_index()\n",
    "\n",
    "domain_speaker_count.columns = ['domains','speaker','count']\n",
    "speaker_count.columns = ['speaker','speaker_count']\n",
    "\n",
    "domain_count.columns = ['domains','domains_count']"
   ]
  },
  {
   "cell_type": "code",
   "execution_count": 169,
   "metadata": {},
   "outputs": [],
   "source": [
    "domain_count = domain_count[domain_count['domains_count'] > 20]\n",
    "speaker_count = speaker_count[speaker_count['speaker_count'] > 10]"
   ]
  },
  {
   "cell_type": "code",
   "execution_count": 210,
   "metadata": {},
   "outputs": [],
   "source": [
    "kk = domain_speaker_count.merge(domain_count)"
   ]
  },
  {
   "cell_type": "code",
   "execution_count": 211,
   "metadata": {},
   "outputs": [],
   "source": [
    "kk = kk.merge(speaker_count)"
   ]
  },
  {
   "cell_type": "code",
   "execution_count": 212,
   "metadata": {},
   "outputs": [],
   "source": [
    "N = len(domain_count)"
   ]
  },
  {
   "cell_type": "code",
   "execution_count": 213,
   "metadata": {},
   "outputs": [],
   "source": [
    "kk['tf-idf'] = kk['count'] *kk['speaker_count'].apply(lambda x: np.log(N/x))"
   ]
  },
  {
   "cell_type": "code",
   "execution_count": 214,
   "metadata": {},
   "outputs": [],
   "source": [
    "climate_pivoted = kk.pivot(index='domains',columns = 'speaker', values = 'tf-idf')"
   ]
  },
  {
   "cell_type": "code",
   "execution_count": 215,
   "metadata": {},
   "outputs": [],
   "source": [
    "climate_pivoted = climate_pivoted.fillna(0)"
   ]
  },
  {
   "cell_type": "code",
   "execution_count": 233,
   "metadata": {},
   "outputs": [],
   "source": [
    "from sklearn.decomposition import PCA \n",
    "pca = PCA(150)\n",
    "climate_vecs = pca.fit_transform(climate_pivoted)\n",
    "\n",
    "climate_vecs_df = pd.DataFrame(climate_vecs, index=climate_pivoted.index)"
   ]
  },
  {
   "cell_type": "code",
   "execution_count": 234,
   "metadata": {},
   "outputs": [],
   "source": [
    "climate_sim = pairwise.cosine_similarity(climate_vecs_df.values)\n"
   ]
  },
  {
   "cell_type": "code",
   "execution_count": 235,
   "metadata": {},
   "outputs": [],
   "source": [
    "cosine_similarity_df = pd.DataFrame(climate_sim, index=climate_vecs_df.index,columns = climate_vecs_df.index)"
   ]
  },
  {
   "cell_type": "code",
   "execution_count": 236,
   "metadata": {},
   "outputs": [],
   "source": [
    "climate_vecs_df.reset_index(inplace=True)"
   ]
  },
  {
   "cell_type": "code",
   "execution_count": null,
   "metadata": {},
   "outputs": [],
   "source": []
  },
  {
   "cell_type": "code",
   "execution_count": 238,
   "metadata": {},
   "outputs": [],
   "source": [
    "climate_vecs_df = climate_vecs_df.merge(domains, left_on = 'domains', right_on = 'domain', how = 'left')"
   ]
  },
  {
   "cell_type": "code",
   "execution_count": 249,
   "metadata": {},
   "outputs": [],
   "source": [
    "from sklearn.cluster import KMeans\n",
    "km = KMeans(50)\n",
    "km.fit(climate_vecs)\n",
    "clusters = km.predict(climate_vecs)\n",
    "climate_vecs_df['cluster'] = clusters"
   ]
  },
  {
   "cell_type": "code",
   "execution_count": 250,
   "metadata": {},
   "outputs": [],
   "source": [
    "climate_vecs_df[range(150)].to_csv(\"C:/Users/Venia/ada_projects/vecs_climate.tsv\", sep = '\\t', header=None)\n",
    "climate_vecs_df[['domains','score','fb_score','cluster']].to_csv(\"C:/Users/Venia/ada_projects/metadata_climate.tsv\", sep = '\\t')"
   ]
  },
  {
   "cell_type": "code",
   "execution_count": null,
   "metadata": {},
   "outputs": [],
   "source": []
  }
 ],
 "metadata": {
  "kernelspec": {
   "display_name": "Python 3",
   "language": "python",
   "name": "python3"
  },
  "language_info": {
   "codemirror_mode": {
    "name": "ipython",
    "version": 3
   },
   "file_extension": ".py",
   "mimetype": "text/x-python",
   "name": "python",
   "nbconvert_exporter": "python",
   "pygments_lexer": "ipython3",
   "version": "3.7.6"
  }
 },
 "nbformat": 4,
 "nbformat_minor": 4
}
