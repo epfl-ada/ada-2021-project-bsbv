{
 "cells": [
  {
   "cell_type": "code",
   "execution_count": 736,
   "metadata": {},
   "outputs": [],
   "source": [
    "import pandas as pd \n",
    "import numpy as np\n",
    "import matplotlib.pyplot as plt\n",
    "from sklearn.metrics.pairwise import cosine_similarity"
   ]
  },
  {
   "cell_type": "code",
   "execution_count": 737,
   "metadata": {},
   "outputs": [],
   "source": [
    "embedding_vecs = pd.read_csv('C:/Users/Venia/ada_projects/quote_embedding.csv')"
   ]
  },
  {
   "cell_type": "code",
   "execution_count": 818,
   "metadata": {},
   "outputs": [],
   "source": [
    "cq = pd.read_csv(\"/ada/projects/venia2021/data/quotebank/climate_quotes_topics.csv\")"
   ]
  },
  {
   "cell_type": "code",
   "execution_count": null,
   "metadata": {},
   "outputs": [],
   "source": []
  },
  {
   "cell_type": "code",
   "execution_count": 739,
   "metadata": {},
   "outputs": [],
   "source": [
    "news_counts = pd.read_csv(\"/ada/projects/venia2021/data/quotebank/news_counts.csv\")"
   ]
  },
  {
   "cell_type": "code",
   "execution_count": 740,
   "metadata": {},
   "outputs": [
    {
     "name": "stderr",
     "output_type": "stream",
     "text": [
      "/h/224/venia/miniconda3/lib/python3.7/site-packages/pandas/core/frame.py:3636: PerformanceWarning:\n",
      "\n",
      "DataFrame is highly fragmented.  This is usually the result of calling `frame.insert` many times, which has poor performance.  Consider using pd.concat instead.  To get a de-fragmented frame, use `newframe = frame.copy()`\n",
      "\n"
     ]
    }
   ],
   "source": [
    "# convert to ints\n",
    "embedding_vecs[list(range(150))] = embedding_vecs[[str(k) for k in range(150)]]\n",
    "embedding_vecs.drop([str(k) for k in range(150)], axis = 1, inplace=True)"
   ]
  },
  {
   "cell_type": "code",
   "execution_count": 741,
   "metadata": {},
   "outputs": [],
   "source": [
    "topic_info = pd.read_csv(\"/ada/projects/venia2021/data/quotebank/issues_by_news_site2.csv\")"
   ]
  },
  {
   "cell_type": "code",
   "execution_count": 742,
   "metadata": {},
   "outputs": [],
   "source": [
    "topic_info.columns = ['domain','topic','id','count']"
   ]
  },
  {
   "cell_type": "code",
   "execution_count": 743,
   "metadata": {},
   "outputs": [],
   "source": [
    "news_counts.columns = ['domain','total_count']\n",
    "\n"
   ]
  },
  {
   "cell_type": "code",
   "execution_count": 744,
   "metadata": {},
   "outputs": [],
   "source": [
    "# first we'll define the climate change vector\n",
    "# this will be the weighted average of the vecs for the locations climate change invoked\n",
    "\n",
    "climate_change_dist = topic_info.groupby('domain')['count'].sum().reset_index()\n"
   ]
  },
  {
   "cell_type": "code",
   "execution_count": 745,
   "metadata": {},
   "outputs": [],
   "source": [
    "climate_change_dist = climate_change_dist.merge(news_counts)"
   ]
  },
  {
   "cell_type": "code",
   "execution_count": null,
   "metadata": {},
   "outputs": [],
   "source": []
  },
  {
   "cell_type": "code",
   "execution_count": 746,
   "metadata": {},
   "outputs": [],
   "source": [
    "climate_change_dist['proportion'] = climate_change_dist['count'] / climate_change_dist['total_count'] \n",
    "\n"
   ]
  },
  {
   "cell_type": "code",
   "execution_count": 747,
   "metadata": {},
   "outputs": [],
   "source": [
    "# we note that sometimes that proportion can be greater than 1. \n",
    "# this is because when we built the total count we took counts if the speaker was None\n",
    "# it will be too computationally intensive to rerun.\n",
    "# however, this should work as a good estimate \n",
    "\n",
    "\n"
   ]
  },
  {
   "cell_type": "code",
   "execution_count": 748,
   "metadata": {},
   "outputs": [],
   "source": [
    "climate_change_dist['count'] = climate_change_dist.apply(lambda x: min(x['count'], x['total_count']), axis = 1)"
   ]
  },
  {
   "cell_type": "code",
   "execution_count": 749,
   "metadata": {},
   "outputs": [],
   "source": [
    "climate_change_dist['climate_score'] = climate_change_dist.apply(lambda x: np.log(x['count']) * x['proportion'], axis = 1)"
   ]
  },
  {
   "cell_type": "code",
   "execution_count": null,
   "metadata": {},
   "outputs": [],
   "source": []
  },
  {
   "cell_type": "code",
   "execution_count": 750,
   "metadata": {},
   "outputs": [],
   "source": [
    "# this idea to embed topics was taken from Rachel Kim's work on reddit and UBI. \n",
    "\n",
    "def define_vec(embedding, frequencies, merge_col):\n",
    "    \"\"\"embedding must have cols for each dimension\n",
    "    frequencies must be in the form index, count\"\"\"\n",
    "    df = embedding.merge(frequencies, on = merge_col, how = 'left')\n",
    "    N = frequencies['count'].sum()\n",
    "    for k in range(150):\n",
    "        df[k] = df[k] * df['climate_score'] / N\n",
    "    vec = df[range(150)].sum()\n",
    "    return vec\n",
    "\n",
    "def similarity_vec_embedding(embedding,vec,name):\n",
    "    \"\"\"embedding should be dataframe, vec should be series\"\"\"\n",
    "    scores = cosine_similarity(embedding[range(150)].values, vec.values.reshape(1,-1))\n",
    "    embedding2 = embedding.copy()\n",
    "    embedding2[name] = scores\n",
    "    embedding2 = embedding2.sort_values(by = name, ascending=False)\n",
    "    return embedding2"
   ]
  },
  {
   "cell_type": "code",
   "execution_count": 751,
   "metadata": {},
   "outputs": [],
   "source": [
    "climate_vec = define_vec(embedding_vecs,climate_change_dist, 'domain')\n"
   ]
  },
  {
   "cell_type": "code",
   "execution_count": 752,
   "metadata": {},
   "outputs": [],
   "source": [
    "climate_vec = climate_vec / np.linalg.norm(climate_vec)"
   ]
  },
  {
   "cell_type": "code",
   "execution_count": 753,
   "metadata": {},
   "outputs": [],
   "source": [
    "# normalize the vecs\n"
   ]
  },
  {
   "cell_type": "code",
   "execution_count": 754,
   "metadata": {},
   "outputs": [],
   "source": [
    "embedding2 = similarity_vec_embedding(embedding_vecs, climate_vec, 'climate_projection')"
   ]
  },
  {
   "cell_type": "code",
   "execution_count": 755,
   "metadata": {},
   "outputs": [],
   "source": [
    "embedding2 = embedding2.sort_values(by='climate_projection', ascending=False)"
   ]
  },
  {
   "cell_type": "code",
   "execution_count": null,
   "metadata": {},
   "outputs": [],
   "source": []
  },
  {
   "cell_type": "code",
   "execution_count": 756,
   "metadata": {},
   "outputs": [],
   "source": [
    "# for each of the subtopics \n",
    "# define a vector \n",
    "topic_info2 = topic_info.merge(news_counts)\n",
    "topic_info2['proportion'] = topic_info2['count'] / topic_info2['total_count']"
   ]
  },
  {
   "cell_type": "code",
   "execution_count": 757,
   "metadata": {
    "scrolled": false
   },
   "outputs": [
    {
     "name": "stderr",
     "output_type": "stream",
     "text": [
      "/h/224/venia/miniconda3/lib/python3.7/site-packages/pandas/core/frame.py:3607: SettingWithCopyWarning:\n",
      "\n",
      "\n",
      "A value is trying to be set on a copy of a slice from a DataFrame.\n",
      "Try using .loc[row_indexer,col_indexer] = value instead\n",
      "\n",
      "See the caveats in the documentation: https://pandas.pydata.org/pandas-docs/stable/user_guide/indexing.html#returning-a-view-versus-a-copy\n",
      "\n"
     ]
    }
   ],
   "source": [
    "topics = topic_info2.topic.unique()\n",
    "dic = {}\n",
    "for t in topics:\n",
    "    temp_topic = topic_info2[topic_info2['topic'] == t]\n",
    "    temp_topic['climate_score'] = temp_topic.apply(lambda x: np.log(x['count']) * x['proportion'], axis= 1)\n",
    "    vec = define_vec(embedding_vecs,temp_topic, 'domain').values\n",
    "    dic[t] = vec"
   ]
  },
  {
   "cell_type": "code",
   "execution_count": 758,
   "metadata": {},
   "outputs": [],
   "source": [
    "embedding = embedding2.copy()\n",
    "for t in topics:\n",
    "    embedding = similarity_vec_embedding(embedding, pd.Series(dic[t]), t)"
   ]
  },
  {
   "cell_type": "code",
   "execution_count": 759,
   "metadata": {},
   "outputs": [
    {
     "data": {
      "text/plain": [
       "<seaborn.matrix.ClusterGrid at 0x7f9530504350>"
      ]
     },
     "execution_count": 759,
     "metadata": {},
     "output_type": "execute_result"
    },
    {
     "data": {
      "image/png": "[encoded data removed]",
      "text/plain": [
       "<Figure size 720x720 with 4 Axes>"
      ]
     },
     "metadata": {
      "needs_background": "light"
     },
     "output_type": "display_data"
    }
   ],
   "source": [
    "import seaborn as sns\n",
    "import matplotlib.pyplot as plt\n",
    "sns.clustermap(embedding[topics].corr())"
   ]
  },
  {
   "cell_type": "code",
   "execution_count": null,
   "metadata": {},
   "outputs": [],
   "source": []
  },
  {
   "cell_type": "code",
   "execution_count": 783,
   "metadata": {},
   "outputs": [],
   "source": [
    "topics2 = ['next generation','trump','us admin.','net zero','eurozone','science','sea level','tax/trade','environment','gases','society']"
   ]
  },
  {
   "cell_type": "code",
   "execution_count": 784,
   "metadata": {},
   "outputs": [],
   "source": [
    "for t in topics:\n",
    "    embedding[t+\"_\"] = embedding[t] - embedding['climate_projection']"
   ]
  },
  {
   "cell_type": "code",
   "execution_count": 790,
   "metadata": {},
   "outputs": [],
   "source": [
    "sites = ['foxnews.com','cnn.com','breitbart.com','nytimes.com','elle.com','time.com']"
   ]
  },
  {
   "cell_type": "code",
   "execution_count": 791,
   "metadata": {},
   "outputs": [],
   "source": [
    "embedding_temp = embedding[embedding['domain'].isin(sites)]"
   ]
  },
  {
   "cell_type": "code",
   "execution_count": 792,
   "metadata": {},
   "outputs": [],
   "source": [
    "cols = [k+\"_\" for k in topics2]"
   ]
  },
  {
   "cell_type": "code",
   "execution_count": null,
   "metadata": {},
   "outputs": [],
   "source": []
  },
  {
   "cell_type": "code",
   "execution_count": 793,
   "metadata": {},
   "outputs": [],
   "source": [
    "t = embedding_temp.melt(id_vars = 'domain',value_vars = topics2)"
   ]
  },
  {
   "cell_type": "code",
   "execution_count": null,
   "metadata": {},
   "outputs": [],
   "source": []
  },
  {
   "cell_type": "code",
   "execution_count": 794,
   "metadata": {},
   "outputs": [
    {
     "data": {
      "application/vnd.plotly.v1+json": {
       "config": {
        "plotlyServerURL": "https://plot.ly"
       },
       "data": [
        {
         "hovertemplate": "domain=elle.com<br>Variance=%{x}<br>Dimension=%{y}<extra></extra>",
         "legendgroup": "elle.com",
         "marker": {
          "color": "#636efa",
          "opacity": 0.5,
          "size": 15,
          "symbol": "circle"
         },
         "mode": "markers",
         "name": "elle.com",
         "orientation": "h",
         "showlegend": true,
         "type": "scatter",
         "x": [
          -0.06378779357831642,
          -0.03160608796566906,
          -0.07866595694019908,
          -0.10936492410650617,
          -0.10749652189393345,
          -0.0867908874701657,
          -0.11009348679309568,
          -0.07790157013948291,
          -0.12475638593357738,
          -0.09822176479925128,
          -0.1382878675426026
         ],
         "xaxis": "x",
         "y": [
          "next generation",
          "trump",
          "us admin.",
          "net zero",
          "eurozone",
          "science",
          "sea level",
          "tax/trade",
          "environment",
          "gases",
          "society"
         ],
         "yaxis": "y"
        },
        {
         "hovertemplate": "domain=cnn.com<br>Variance=%{x}<br>Dimension=%{y}<extra></extra>",
         "legendgroup": "cnn.com",
         "marker": {
          "color": "#EF553B",
          "opacity": 0.5,
          "size": 15,
          "symbol": "circle"
         },
         "mode": "markers",
         "name": "cnn.com",
         "orientation": "h",
         "showlegend": true,
         "type": "scatter",
         "x": [
          0.21402577953181787,
          0.5118677832345786,
          0.3737608478724196,
          -0.0464136008575231,
          -0.021979918409109685,
          0.1747111119277051,
          0.1805540557042258,
          -0.18998049366887654,
          -0.2775020350863546,
          -0.13995828062126991,
          -0.0737927427367848
         ],
         "xaxis": "x",
         "y": [
          "next generation",
          "trump",
          "us admin.",
          "net zero",
          "eurozone",
          "science",
          "sea level",
          "tax/trade",
          "environment",
          "gases",
          "society"
         ],
         "yaxis": "y"
        },
        {
         "hovertemplate": "domain=nytimes.com<br>Variance=%{x}<br>Dimension=%{y}<extra></extra>",
         "legendgroup": "nytimes.com",
         "marker": {
          "color": "#00cc96",
          "opacity": 0.5,
          "size": 15,
          "symbol": "circle"
         },
         "mode": "markers",
         "name": "nytimes.com",
         "orientation": "h",
         "showlegend": true,
         "type": "scatter",
         "x": [
          0.184518560569911,
          0.42179695342421597,
          0.31550014509309704,
          -0.05886599878144748,
          -0.005917698426424181,
          0.1431840903039177,
          0.14480921252203127,
          -0.19292136011464672,
          -0.2839005796744055,
          -0.15641001860794074,
          -0.10718983461161567
         ],
         "xaxis": "x",
         "y": [
          "next generation",
          "trump",
          "us admin.",
          "net zero",
          "eurozone",
          "science",
          "sea level",
          "tax/trade",
          "environment",
          "gases",
          "society"
         ],
         "yaxis": "y"
        },
        {
         "hovertemplate": "domain=foxnews.com<br>Variance=%{x}<br>Dimension=%{y}<extra></extra>",
         "legendgroup": "foxnews.com",
         "marker": {
          "color": "#ab63fa",
          "opacity": 0.5,
          "size": 15,
          "symbol": "circle"
         },
         "mode": "markers",
         "name": "foxnews.com",
         "orientation": "h",
         "showlegend": true,
         "type": "scatter",
         "x": [
          0.17034398681220456,
          0.5042079230272047,
          0.34775007882302056,
          -0.12300008875979523,
          -0.12706995274319338,
          0.16536230586010867,
          0.12731792257071375,
          -0.19513233194553148,
          -0.29912066859289294,
          -0.14755502213551963,
          -0.0825201033133233
         ],
         "xaxis": "x",
         "y": [
          "next generation",
          "trump",
          "us admin.",
          "net zero",
          "eurozone",
          "science",
          "sea level",
          "tax/trade",
          "environment",
          "gases",
          "society"
         ],
         "yaxis": "y"
        },
        {
         "hovertemplate": "domain=time.com<br>Variance=%{x}<br>Dimension=%{y}<extra></extra>",
         "legendgroup": "time.com",
         "marker": {
          "color": "#FFA15A",
          "opacity": 0.5,
          "size": 15,
          "symbol": "circle"
         },
         "mode": "markers",
         "name": "time.com",
         "orientation": "h",
         "showlegend": true,
         "type": "scatter",
         "x": [
          0.1275904169264299,
          0.43418001258315975,
          0.2884402993938199,
          -0.09832061969676861,
          -0.11229539992653449,
          0.11487390261899992,
          0.11425998498848627,
          -0.2080872211814895,
          -0.2927335292734344,
          -0.1598383989598282,
          -0.15931339660824645
         ],
         "xaxis": "x",
         "y": [
          "next generation",
          "trump",
          "us admin.",
          "net zero",
          "eurozone",
          "science",
          "sea level",
          "tax/trade",
          "environment",
          "gases",
          "society"
         ],
         "yaxis": "y"
        },
        {
         "hovertemplate": "domain=breitbart.com<br>Variance=%{x}<br>Dimension=%{y}<extra></extra>",
         "legendgroup": "breitbart.com",
         "marker": {
          "color": "#19d3f3",
          "opacity": 0.5,
          "size": 15,
          "symbol": "circle"
         },
         "mode": "markers",
         "name": "breitbart.com",
         "orientation": "h",
         "showlegend": true,
         "type": "scatter",
         "x": [
          0.14399238384669222,
          0.30475397396979964,
          0.13710242269832792,
          0.03996761985560452,
          0.06797788912599596,
          -0.022934855852506573,
          0.02484441140370601,
          -0.24251569343376359,
          -0.3851923658304547,
          -0.2703390569986651,
          -0.3244228768558303
         ],
         "xaxis": "x",
         "y": [
          "next generation",
          "trump",
          "us admin.",
          "net zero",
          "eurozone",
          "science",
          "sea level",
          "tax/trade",
          "environment",
          "gases",
          "society"
         ],
         "yaxis": "y"
        }
       ],
       "layout": {
        "font": {
         "size": 23
        },
        "height": 800,
        "legend": {
         "title": {
          "text": "domain"
         },
         "tracegroupgap": 0
        },
        "margin": {
         "t": 60
        },
        "showlegend": true,
        "template": {
         "data": {
          "bar": [
           {
            "error_x": {
             "color": "rgb(36,36,36)"
            },
            "error_y": {
             "color": "rgb(36,36,36)"
            },
            "marker": {
             "line": {
              "color": "white",
              "width": 0.5
             }
            },
            "type": "bar"
           }
          ],
          "barpolar": [
           {
            "marker": {
             "line": {
              "color": "white",
              "width": 0.5
             }
            },
            "type": "barpolar"
           }
          ],
          "carpet": [
           {
            "aaxis": {
             "endlinecolor": "rgb(36,36,36)",
             "gridcolor": "white",
             "linecolor": "white",
             "minorgridcolor": "white",
             "startlinecolor": "rgb(36,36,36)"
            },
            "baxis": {
             "endlinecolor": "rgb(36,36,36)",
             "gridcolor": "white",
             "linecolor": "white",
             "minorgridcolor": "white",
             "startlinecolor": "rgb(36,36,36)"
            },
            "type": "carpet"
           }
          ],
          "choropleth": [
           {
            "colorbar": {
             "outlinewidth": 1,
             "tickcolor": "rgb(36,36,36)",
             "ticks": "outside"
            },
            "type": "choropleth"
           }
          ],
          "contour": [
           {
            "colorbar": {
             "outlinewidth": 1,
             "tickcolor": "rgb(36,36,36)",
             "ticks": "outside"
            },
            "colorscale": [
             [
              0,
              "#440154"
             ],
             [
              0.1111111111111111,
              "#482878"
             ],
             [
              0.2222222222222222,
              "#3e4989"
             ],
             [
              0.3333333333333333,
              "#31688e"
             ],
             [
              0.4444444444444444,
              "#26828e"
             ],
             [
              0.5555555555555556,
              "#1f9e89"
             ],
             [
              0.6666666666666666,
              "#35b779"
             ],
             [
              0.7777777777777778,
              "#6ece58"
             ],
             [
              0.8888888888888888,
              "#b5de2b"
             ],
             [
              1,
              "#fde725"
             ]
            ],
            "type": "contour"
           }
          ],
          "contourcarpet": [
           {
            "colorbar": {
             "outlinewidth": 1,
             "tickcolor": "rgb(36,36,36)",
             "ticks": "outside"
            },
            "type": "contourcarpet"
           }
          ],
          "heatmap": [
           {
            "colorbar": {
             "outlinewidth": 1,
             "tickcolor": "rgb(36,36,36)",
             "ticks": "outside"
            },
            "colorscale": [
             [
              0,
              "#440154"
             ],
             [
              0.1111111111111111,
              "#482878"
             ],
             [
              0.2222222222222222,
              "#3e4989"
             ],
             [
              0.3333333333333333,
              "#31688e"
             ],
             [
              0.4444444444444444,
              "#26828e"
             ],
             [
              0.5555555555555556,
              "#1f9e89"
             ],
             [
              0.6666666666666666,
              "#35b779"
             ],
             [
              0.7777777777777778,
              "#6ece58"
             ],
             [
              0.8888888888888888,
              "#b5de2b"
             ],
             [
              1,
              "#fde725"
             ]
            ],
            "type": "heatmap"
           }
          ],
          "heatmapgl": [
           {
            "colorbar": {
             "outlinewidth": 1,
             "tickcolor": "rgb(36,36,36)",
             "ticks": "outside"
            },
            "colorscale": [
             [
              0,
              "#440154"
             ],
             [
              0.1111111111111111,
              "#482878"
             ],
             [
              0.2222222222222222,
              "#3e4989"
             ],
             [
              0.3333333333333333,
              "#31688e"
             ],
             [
              0.4444444444444444,
              "#26828e"
             ],
             [
              0.5555555555555556,
              "#1f9e89"
             ],
             [
              0.6666666666666666,
              "#35b779"
             ],
             [
              0.7777777777777778,
              "#6ece58"
             ],
             [
              0.8888888888888888,
              "#b5de2b"
             ],
             [
              1,
              "#fde725"
             ]
            ],
            "type": "heatmapgl"
           }
          ],
          "histogram": [
           {
            "marker": {
             "line": {
              "color": "white",
              "width": 0.6
             }
            },
            "type": "histogram"
           }
          ],
          "histogram2d": [
           {
            "colorbar": {
             "outlinewidth": 1,
             "tickcolor": "rgb(36,36,36)",
             "ticks": "outside"
            },
            "colorscale": [
             [
              0,
              "#440154"
             ],
             [
              0.1111111111111111,
              "#482878"
             ],
             [
              0.2222222222222222,
              "#3e4989"
             ],
             [
              0.3333333333333333,
              "#31688e"
             ],
             [
              0.4444444444444444,
              "#26828e"
             ],
             [
              0.5555555555555556,
              "#1f9e89"
             ],
             [
              0.6666666666666666,
              "#35b779"
             ],
             [
              0.7777777777777778,
              "#6ece58"
             ],
             [
              0.8888888888888888,
              "#b5de2b"
             ],
             [
              1,
              "#fde725"
             ]
            ],
            "type": "histogram2d"
           }
          ],
          "histogram2dcontour": [
           {
            "colorbar": {
             "outlinewidth": 1,
             "tickcolor": "rgb(36,36,36)",
             "ticks": "outside"
            },
            "colorscale": [
             [
              0,
              "#440154"
             ],
             [
              0.1111111111111111,
              "#482878"
             ],
             [
              0.2222222222222222,
              "#3e4989"
             ],
             [
              0.3333333333333333,
              "#31688e"
             ],
             [
              0.4444444444444444,
              "#26828e"
             ],
             [
              0.5555555555555556,
              "#1f9e89"
             ],
             [
              0.6666666666666666,
              "#35b779"
             ],
             [
              0.7777777777777778,
              "#6ece58"
             ],
             [
              0.8888888888888888,
              "#b5de2b"
             ],
             [
              1,
              "#fde725"
             ]
            ],
            "type": "histogram2dcontour"
           }
          ],
          "mesh3d": [
           {
            "colorbar": {
             "outlinewidth": 1,
             "tickcolor": "rgb(36,36,36)",
             "ticks": "outside"
            },
            "type": "mesh3d"
           }
          ],
          "parcoords": [
           {
            "line": {
             "colorbar": {
              "outlinewidth": 1,
              "tickcolor": "rgb(36,36,36)",
              "ticks": "outside"
             }
            },
            "type": "parcoords"
           }
          ],
          "pie": [
           {
            "automargin": true,
            "type": "pie"
           }
          ],
          "scatter": [
           {
            "marker": {
             "colorbar": {
              "outlinewidth": 1,
              "tickcolor": "rgb(36,36,36)",
              "ticks": "outside"
             }
            },
            "type": "scatter"
           }
          ],
          "scatter3d": [
           {
            "line": {
             "colorbar": {
              "outlinewidth": 1,
              "tickcolor": "rgb(36,36,36)",
              "ticks": "outside"
             }
            },
            "marker": {
             "colorbar": {
              "outlinewidth": 1,
              "tickcolor": "rgb(36,36,36)",
              "ticks": "outside"
             }
            },
            "type": "scatter3d"
           }
          ],
          "scattercarpet": [
           {
            "marker": {
             "colorbar": {
              "outlinewidth": 1,
              "tickcolor": "rgb(36,36,36)",
              "ticks": "outside"
             }
            },
            "type": "scattercarpet"
           }
          ],
          "scattergeo": [
           {
            "marker": {
             "colorbar": {
              "outlinewidth": 1,
              "tickcolor": "rgb(36,36,36)",
              "ticks": "outside"
             }
            },
            "type": "scattergeo"
           }
          ],
          "scattergl": [
           {
            "marker": {
             "colorbar": {
              "outlinewidth": 1,
              "tickcolor": "rgb(36,36,36)",
              "ticks": "outside"
             }
            },
            "type": "scattergl"
           }
          ],
          "scattermapbox": [
           {
            "marker": {
             "colorbar": {
              "outlinewidth": 1,
              "tickcolor": "rgb(36,36,36)",
              "ticks": "outside"
             }
            },
            "type": "scattermapbox"
           }
          ],
          "scatterpolar": [
           {
            "marker": {
             "colorbar": {
              "outlinewidth": 1,
              "tickcolor": "rgb(36,36,36)",
              "ticks": "outside"
             }
            },
            "type": "scatterpolar"
           }
          ],
          "scatterpolargl": [
           {
            "marker": {
             "colorbar": {
              "outlinewidth": 1,
              "tickcolor": "rgb(36,36,36)",
              "ticks": "outside"
             }
            },
            "type": "scatterpolargl"
           }
          ],
          "scatterternary": [
           {
            "marker": {
             "colorbar": {
              "outlinewidth": 1,
              "tickcolor": "rgb(36,36,36)",
              "ticks": "outside"
             }
            },
            "type": "scatterternary"
           }
          ],
          "surface": [
           {
            "colorbar": {
             "outlinewidth": 1,
             "tickcolor": "rgb(36,36,36)",
             "ticks": "outside"
            },
            "colorscale": [
             [
              0,
              "#440154"
             ],
             [
              0.1111111111111111,
              "#482878"
             ],
             [
              0.2222222222222222,
              "#3e4989"
             ],
             [
              0.3333333333333333,
              "#31688e"
             ],
             [
              0.4444444444444444,
              "#26828e"
             ],
             [
              0.5555555555555556,
              "#1f9e89"
             ],
             [
              0.6666666666666666,
              "#35b779"
             ],
             [
              0.7777777777777778,
              "#6ece58"
             ],
             [
              0.8888888888888888,
              "#b5de2b"
             ],
             [
              1,
              "#fde725"
             ]
            ],
            "type": "surface"
           }
          ],
          "table": [
           {
            "cells": {
             "fill": {
              "color": "rgb(237,237,237)"
             },
             "line": {
              "color": "white"
             }
            },
            "header": {
             "fill": {
              "color": "rgb(217,217,217)"
             },
             "line": {
              "color": "white"
             }
            },
            "type": "table"
           }
          ]
         },
         "layout": {
          "annotationdefaults": {
           "arrowhead": 0,
           "arrowwidth": 1
          },
          "autotypenumbers": "strict",
          "coloraxis": {
           "colorbar": {
            "outlinewidth": 1,
            "tickcolor": "rgb(36,36,36)",
            "ticks": "outside"
           }
          },
          "colorscale": {
           "diverging": [
            [
             0,
             "rgb(103,0,31)"
            ],
            [
             0.1,
             "rgb(178,24,43)"
            ],
            [
             0.2,
             "rgb(214,96,77)"
            ],
            [
             0.3,
             "rgb(244,165,130)"
            ],
            [
             0.4,
             "rgb(253,219,199)"
            ],
            [
             0.5,
             "rgb(247,247,247)"
            ],
            [
             0.6,
             "rgb(209,229,240)"
            ],
            [
             0.7,
             "rgb(146,197,222)"
            ],
            [
             0.8,
             "rgb(67,147,195)"
            ],
            [
             0.9,
             "rgb(33,102,172)"
            ],
            [
             1,
             "rgb(5,48,97)"
            ]
           ],
           "sequential": [
            [
             0,
             "#440154"
            ],
            [
             0.1111111111111111,
             "#482878"
            ],
            [
             0.2222222222222222,
             "#3e4989"
            ],
            [
             0.3333333333333333,
             "#31688e"
            ],
            [
             0.4444444444444444,
             "#26828e"
            ],
            [
             0.5555555555555556,
             "#1f9e89"
            ],
            [
             0.6666666666666666,
             "#35b779"
            ],
            [
             0.7777777777777778,
             "#6ece58"
            ],
            [
             0.8888888888888888,
             "#b5de2b"
            ],
            [
             1,
             "#fde725"
            ]
           ],
           "sequentialminus": [
            [
             0,
             "#440154"
            ],
            [
             0.1111111111111111,
             "#482878"
            ],
            [
             0.2222222222222222,
             "#3e4989"
            ],
            [
             0.3333333333333333,
             "#31688e"
            ],
            [
             0.4444444444444444,
             "#26828e"
            ],
            [
             0.5555555555555556,
             "#1f9e89"
            ],
            [
             0.6666666666666666,
             "#35b779"
            ],
            [
             0.7777777777777778,
             "#6ece58"
            ],
            [
             0.8888888888888888,
             "#b5de2b"
            ],
            [
             1,
             "#fde725"
            ]
           ]
          },
          "colorway": [
           "#1F77B4",
           "#FF7F0E",
           "#2CA02C",
           "#D62728",
           "#9467BD",
           "#8C564B",
           "#E377C2",
           "#7F7F7F",
           "#BCBD22",
           "#17BECF"
          ],
          "font": {
           "color": "rgb(36,36,36)"
          },
          "geo": {
           "bgcolor": "white",
           "lakecolor": "white",
           "landcolor": "white",
           "showlakes": true,
           "showland": true,
           "subunitcolor": "white"
          },
          "hoverlabel": {
           "align": "left"
          },
          "hovermode": "closest",
          "mapbox": {
           "style": "light"
          },
          "paper_bgcolor": "white",
          "plot_bgcolor": "white",
          "polar": {
           "angularaxis": {
            "gridcolor": "rgb(232,232,232)",
            "linecolor": "rgb(36,36,36)",
            "showgrid": false,
            "showline": true,
            "ticks": "outside"
           },
           "bgcolor": "white",
           "radialaxis": {
            "gridcolor": "rgb(232,232,232)",
            "linecolor": "rgb(36,36,36)",
            "showgrid": false,
            "showline": true,
            "ticks": "outside"
           }
          },
          "scene": {
           "xaxis": {
            "backgroundcolor": "white",
            "gridcolor": "rgb(232,232,232)",
            "gridwidth": 2,
            "linecolor": "rgb(36,36,36)",
            "showbackground": true,
            "showgrid": false,
            "showline": true,
            "ticks": "outside",
            "zeroline": false,
            "zerolinecolor": "rgb(36,36,36)"
           },
           "yaxis": {
            "backgroundcolor": "white",
            "gridcolor": "rgb(232,232,232)",
            "gridwidth": 2,
            "linecolor": "rgb(36,36,36)",
            "showbackground": true,
            "showgrid": false,
            "showline": true,
            "ticks": "outside",
            "zeroline": false,
            "zerolinecolor": "rgb(36,36,36)"
           },
           "zaxis": {
            "backgroundcolor": "white",
            "gridcolor": "rgb(232,232,232)",
            "gridwidth": 2,
            "linecolor": "rgb(36,36,36)",
            "showbackground": true,
            "showgrid": false,
            "showline": true,
            "ticks": "outside",
            "zeroline": false,
            "zerolinecolor": "rgb(36,36,36)"
           }
          },
          "shapedefaults": {
           "fillcolor": "black",
           "line": {
            "width": 0
           },
           "opacity": 0.3
          },
          "ternary": {
           "aaxis": {
            "gridcolor": "rgb(232,232,232)",
            "linecolor": "rgb(36,36,36)",
            "showgrid": false,
            "showline": true,
            "ticks": "outside"
           },
           "baxis": {
            "gridcolor": "rgb(232,232,232)",
            "linecolor": "rgb(36,36,36)",
            "showgrid": false,
            "showline": true,
            "ticks": "outside"
           },
           "bgcolor": "white",
           "caxis": {
            "gridcolor": "rgb(232,232,232)",
            "linecolor": "rgb(36,36,36)",
            "showgrid": false,
            "showline": true,
            "ticks": "outside"
           }
          },
          "title": {
           "x": 0.05
          },
          "xaxis": {
           "automargin": true,
           "gridcolor": "rgb(232,232,232)",
           "linecolor": "rgb(36,36,36)",
           "showgrid": false,
           "showline": true,
           "ticks": "outside",
           "title": {
            "standoff": 15
           },
           "zeroline": false,
           "zerolinecolor": "rgb(36,36,36)"
          },
          "yaxis": {
           "automargin": true,
           "gridcolor": "rgb(232,232,232)",
           "linecolor": "rgb(36,36,36)",
           "showgrid": false,
           "showline": true,
           "ticks": "outside",
           "title": {
            "standoff": 15
           },
           "zeroline": false,
           "zerolinecolor": "rgb(36,36,36)"
          }
         }
        },
        "width": 1000,
        "xaxis": {
         "anchor": "y",
         "domain": [
          0,
          1
         ],
         "title": {
          "text": "Variance"
         }
        },
        "yaxis": {
         "anchor": "x",
         "domain": [
          0,
          1
         ],
         "showline": false,
         "title": {
          "text": "Dimension"
         },
         "type": "category"
        }
       }
      },
      "text/html": [
       "<div>                            <div id=\"2f720abe-6712-44fe-8099-ea62ab9fe9af\" class=\"plotly-graph-div\" style=\"height:800px; width:1000px;\"></div>            <script type=\"text/javascript\">                require([\"plotly\"], function(Plotly) {                    window.PLOTLYENV=window.PLOTLYENV || {};                                    if (document.getElementById(\"2f720abe-6712-44fe-8099-ea62ab9fe9af\")) {                    Plotly.newPlot(                        \"2f720abe-6712-44fe-8099-ea62ab9fe9af\",                        [{\"hovertemplate\": \"domain=elle.com<br>Variance=%{x}<br>Dimension=%{y}<extra></extra>\", \"legendgroup\": \"elle.com\", \"marker\": {\"color\": \"#636efa\", \"opacity\": 0.5, \"size\": 15, \"symbol\": \"circle\"}, \"mode\": \"markers\", \"name\": \"elle.com\", \"orientation\": \"h\", \"showlegend\": true, \"type\": \"scatter\", \"x\": [-0.06378779357831642, -0.03160608796566906, -0.07866595694019908, -0.10936492410650617, -0.10749652189393345, -0.0867908874701657, -0.11009348679309568, -0.07790157013948291, -0.12475638593357738, -0.09822176479925128, -0.1382878675426026], \"xaxis\": \"x\", \"y\": [\"next generation\", \"trump\", \"us admin.\", \"net zero\", \"eurozone\", \"science\", \"sea level\", \"tax/trade\", \"environment\", \"gases\", \"society\"], \"yaxis\": \"y\"}, {\"hovertemplate\": \"domain=cnn.com<br>Variance=%{x}<br>Dimension=%{y}<extra></extra>\", \"legendgroup\": \"cnn.com\", \"marker\": {\"color\": \"#EF553B\", \"opacity\": 0.5, \"size\": 15, \"symbol\": \"circle\"}, \"mode\": \"markers\", \"name\": \"cnn.com\", \"orientation\": \"h\", \"showlegend\": true, \"type\": \"scatter\", \"x\": [0.21402577953181787, 0.5118677832345786, 0.3737608478724196, -0.0464136008575231, -0.021979918409109685, 0.1747111119277051, 0.1805540557042258, -0.18998049366887654, -0.2775020350863546, -0.13995828062126991, -0.0737927427367848], \"xaxis\": \"x\", \"y\": [\"next generation\", \"trump\", \"us admin.\", \"net zero\", \"eurozone\", \"science\", \"sea level\", \"tax/trade\", \"environment\", \"gases\", \"society\"], \"yaxis\": \"y\"}, {\"hovertemplate\": \"domain=nytimes.com<br>Variance=%{x}<br>Dimension=%{y}<extra></extra>\", \"legendgroup\": \"nytimes.com\", \"marker\": {\"color\": \"#00cc96\", \"opacity\": 0.5, \"size\": 15, \"symbol\": \"circle\"}, \"mode\": \"markers\", \"name\": \"nytimes.com\", \"orientation\": \"h\", \"showlegend\": true, \"type\": \"scatter\", \"x\": [0.184518560569911, 0.42179695342421597, 0.31550014509309704, -0.05886599878144748, -0.005917698426424181, 0.1431840903039177, 0.14480921252203127, -0.19292136011464672, -0.2839005796744055, -0.15641001860794074, -0.10718983461161567], \"xaxis\": \"x\", \"y\": [\"next generation\", \"trump\", \"us admin.\", \"net zero\", \"eurozone\", \"science\", \"sea level\", \"tax/trade\", \"environment\", \"gases\", \"society\"], \"yaxis\": \"y\"}, {\"hovertemplate\": \"domain=foxnews.com<br>Variance=%{x}<br>Dimension=%{y}<extra></extra>\", \"legendgroup\": \"foxnews.com\", \"marker\": {\"color\": \"#ab63fa\", \"opacity\": 0.5, \"size\": 15, \"symbol\": \"circle\"}, \"mode\": \"markers\", \"name\": \"foxnews.com\", \"orientation\": \"h\", \"showlegend\": true, \"type\": \"scatter\", \"x\": [0.17034398681220456, 0.5042079230272047, 0.34775007882302056, -0.12300008875979523, -0.12706995274319338, 0.16536230586010867, 0.12731792257071375, -0.19513233194553148, -0.29912066859289294, -0.14755502213551963, -0.0825201033133233], \"xaxis\": \"x\", \"y\": [\"next generation\", \"trump\", \"us admin.\", \"net zero\", \"eurozone\", \"science\", \"sea level\", \"tax/trade\", \"environment\", \"gases\", \"society\"], \"yaxis\": \"y\"}, {\"hovertemplate\": \"domain=time.com<br>Variance=%{x}<br>Dimension=%{y}<extra></extra>\", \"legendgroup\": \"time.com\", \"marker\": {\"color\": \"#FFA15A\", \"opacity\": 0.5, \"size\": 15, \"symbol\": \"circle\"}, \"mode\": \"markers\", \"name\": \"time.com\", \"orientation\": \"h\", \"showlegend\": true, \"type\": \"scatter\", \"x\": [0.1275904169264299, 0.43418001258315975, 0.2884402993938199, -0.09832061969676861, -0.11229539992653449, 0.11487390261899992, 0.11425998498848627, -0.2080872211814895, -0.2927335292734344, -0.1598383989598282, -0.15931339660824645], \"xaxis\": \"x\", \"y\": [\"next generation\", \"trump\", \"us admin.\", \"net zero\", \"eurozone\", \"science\", \"sea level\", \"tax/trade\", \"environment\", \"gases\", \"society\"], \"yaxis\": \"y\"}, {\"hovertemplate\": \"domain=breitbart.com<br>Variance=%{x}<br>Dimension=%{y}<extra></extra>\", \"legendgroup\": \"breitbart.com\", \"marker\": {\"color\": \"#19d3f3\", \"opacity\": 0.5, \"size\": 15, \"symbol\": \"circle\"}, \"mode\": \"markers\", \"name\": \"breitbart.com\", \"orientation\": \"h\", \"showlegend\": true, \"type\": \"scatter\", \"x\": [0.14399238384669222, 0.30475397396979964, 0.13710242269832792, 0.03996761985560452, 0.06797788912599596, -0.022934855852506573, 0.02484441140370601, -0.24251569343376359, -0.3851923658304547, -0.2703390569986651, -0.3244228768558303], \"xaxis\": \"x\", \"y\": [\"next generation\", \"trump\", \"us admin.\", \"net zero\", \"eurozone\", \"science\", \"sea level\", \"tax/trade\", \"environment\", \"gases\", \"society\"], \"yaxis\": \"y\"}],                        {\"font\": {\"size\": 23}, \"height\": 800, \"legend\": {\"title\": {\"text\": \"domain\"}, \"tracegroupgap\": 0}, \"margin\": {\"t\": 60}, \"showlegend\": true, \"template\": {\"data\": {\"bar\": [{\"error_x\": {\"color\": \"rgb(36,36,36)\"}, \"error_y\": {\"color\": \"rgb(36,36,36)\"}, \"marker\": {\"line\": {\"color\": \"white\", \"width\": 0.5}}, \"type\": \"bar\"}], \"barpolar\": [{\"marker\": {\"line\": {\"color\": \"white\", \"width\": 0.5}}, \"type\": \"barpolar\"}], \"carpet\": [{\"aaxis\": {\"endlinecolor\": \"rgb(36,36,36)\", \"gridcolor\": \"white\", \"linecolor\": \"white\", \"minorgridcolor\": \"white\", \"startlinecolor\": \"rgb(36,36,36)\"}, \"baxis\": {\"endlinecolor\": \"rgb(36,36,36)\", \"gridcolor\": \"white\", \"linecolor\": \"white\", \"minorgridcolor\": \"white\", \"startlinecolor\": \"rgb(36,36,36)\"}, \"type\": \"carpet\"}], \"choropleth\": [{\"colorbar\": {\"outlinewidth\": 1, \"tickcolor\": \"rgb(36,36,36)\", \"ticks\": \"outside\"}, \"type\": \"choropleth\"}], \"contour\": [{\"colorbar\": {\"outlinewidth\": 1, \"tickcolor\": \"rgb(36,36,36)\", \"ticks\": \"outside\"}, \"colorscale\": [[0.0, \"#440154\"], [0.1111111111111111, \"#482878\"], [0.2222222222222222, \"#3e4989\"], [0.3333333333333333, \"#31688e\"], [0.4444444444444444, \"#26828e\"], [0.5555555555555556, \"#1f9e89\"], [0.6666666666666666, \"#35b779\"], [0.7777777777777778, \"#6ece58\"], [0.8888888888888888, \"#b5de2b\"], [1.0, \"#fde725\"]], \"type\": \"contour\"}], \"contourcarpet\": [{\"colorbar\": {\"outlinewidth\": 1, \"tickcolor\": \"rgb(36,36,36)\", \"ticks\": \"outside\"}, \"type\": \"contourcarpet\"}], \"heatmap\": [{\"colorbar\": {\"outlinewidth\": 1, \"tickcolor\": \"rgb(36,36,36)\", \"ticks\": \"outside\"}, \"colorscale\": [[0.0, \"#440154\"], [0.1111111111111111, \"#482878\"], [0.2222222222222222, \"#3e4989\"], [0.3333333333333333, \"#31688e\"], [0.4444444444444444, \"#26828e\"], [0.5555555555555556, \"#1f9e89\"], [0.6666666666666666, \"#35b779\"], [0.7777777777777778, \"#6ece58\"], [0.8888888888888888, \"#b5de2b\"], [1.0, \"#fde725\"]], \"type\": \"heatmap\"}], \"heatmapgl\": [{\"colorbar\": {\"outlinewidth\": 1, \"tickcolor\": \"rgb(36,36,36)\", \"ticks\": \"outside\"}, \"colorscale\": [[0.0, \"#440154\"], [0.1111111111111111, \"#482878\"], [0.2222222222222222, \"#3e4989\"], [0.3333333333333333, \"#31688e\"], [0.4444444444444444, \"#26828e\"], [0.5555555555555556, \"#1f9e89\"], [0.6666666666666666, \"#35b779\"], [0.7777777777777778, \"#6ece58\"], [0.8888888888888888, \"#b5de2b\"], [1.0, \"#fde725\"]], \"type\": \"heatmapgl\"}], \"histogram\": [{\"marker\": {\"line\": {\"color\": \"white\", \"width\": 0.6}}, \"type\": \"histogram\"}], \"histogram2d\": [{\"colorbar\": {\"outlinewidth\": 1, \"tickcolor\": \"rgb(36,36,36)\", \"ticks\": \"outside\"}, \"colorscale\": [[0.0, \"#440154\"], [0.1111111111111111, \"#482878\"], [0.2222222222222222, \"#3e4989\"], [0.3333333333333333, \"#31688e\"], [0.4444444444444444, \"#26828e\"], [0.5555555555555556, \"#1f9e89\"], [0.6666666666666666, \"#35b779\"], [0.7777777777777778, \"#6ece58\"], [0.8888888888888888, \"#b5de2b\"], [1.0, \"#fde725\"]], \"type\": \"histogram2d\"}], \"histogram2dcontour\": [{\"colorbar\": {\"outlinewidth\": 1, \"tickcolor\": \"rgb(36,36,36)\", \"ticks\": \"outside\"}, \"colorscale\": [[0.0, \"#440154\"], [0.1111111111111111, \"#482878\"], [0.2222222222222222, \"#3e4989\"], [0.3333333333333333, \"#31688e\"], [0.4444444444444444, \"#26828e\"], [0.5555555555555556, \"#1f9e89\"], [0.6666666666666666, \"#35b779\"], [0.7777777777777778, \"#6ece58\"], [0.8888888888888888, \"#b5de2b\"], [1.0, \"#fde725\"]], \"type\": \"histogram2dcontour\"}], \"mesh3d\": [{\"colorbar\": {\"outlinewidth\": 1, \"tickcolor\": \"rgb(36,36,36)\", \"ticks\": \"outside\"}, \"type\": \"mesh3d\"}], \"parcoords\": [{\"line\": {\"colorbar\": {\"outlinewidth\": 1, \"tickcolor\": \"rgb(36,36,36)\", \"ticks\": \"outside\"}}, \"type\": \"parcoords\"}], \"pie\": [{\"automargin\": true, \"type\": \"pie\"}], \"scatter\": [{\"marker\": {\"colorbar\": {\"outlinewidth\": 1, \"tickcolor\": \"rgb(36,36,36)\", \"ticks\": \"outside\"}}, \"type\": \"scatter\"}], \"scatter3d\": [{\"line\": {\"colorbar\": {\"outlinewidth\": 1, \"tickcolor\": \"rgb(36,36,36)\", \"ticks\": \"outside\"}}, \"marker\": {\"colorbar\": {\"outlinewidth\": 1, \"tickcolor\": \"rgb(36,36,36)\", \"ticks\": \"outside\"}}, \"type\": \"scatter3d\"}], \"scattercarpet\": [{\"marker\": {\"colorbar\": {\"outlinewidth\": 1, \"tickcolor\": \"rgb(36,36,36)\", \"ticks\": \"outside\"}}, \"type\": \"scattercarpet\"}], \"scattergeo\": [{\"marker\": {\"colorbar\": {\"outlinewidth\": 1, \"tickcolor\": \"rgb(36,36,36)\", \"ticks\": \"outside\"}}, \"type\": \"scattergeo\"}], \"scattergl\": [{\"marker\": {\"colorbar\": {\"outlinewidth\": 1, \"tickcolor\": \"rgb(36,36,36)\", \"ticks\": \"outside\"}}, \"type\": \"scattergl\"}], \"scattermapbox\": [{\"marker\": {\"colorbar\": {\"outlinewidth\": 1, \"tickcolor\": \"rgb(36,36,36)\", \"ticks\": \"outside\"}}, \"type\": \"scattermapbox\"}], \"scatterpolar\": [{\"marker\": {\"colorbar\": {\"outlinewidth\": 1, \"tickcolor\": \"rgb(36,36,36)\", \"ticks\": \"outside\"}}, \"type\": \"scatterpolar\"}], \"scatterpolargl\": [{\"marker\": {\"colorbar\": {\"outlinewidth\": 1, \"tickcolor\": \"rgb(36,36,36)\", \"ticks\": \"outside\"}}, \"type\": \"scatterpolargl\"}], \"scatterternary\": [{\"marker\": {\"colorbar\": {\"outlinewidth\": 1, \"tickcolor\": \"rgb(36,36,36)\", \"ticks\": \"outside\"}}, \"type\": \"scatterternary\"}], \"surface\": [{\"colorbar\": {\"outlinewidth\": 1, \"tickcolor\": \"rgb(36,36,36)\", \"ticks\": \"outside\"}, \"colorscale\": [[0.0, \"#440154\"], [0.1111111111111111, \"#482878\"], [0.2222222222222222, \"#3e4989\"], [0.3333333333333333, \"#31688e\"], [0.4444444444444444, \"#26828e\"], [0.5555555555555556, \"#1f9e89\"], [0.6666666666666666, \"#35b779\"], [0.7777777777777778, \"#6ece58\"], [0.8888888888888888, \"#b5de2b\"], [1.0, \"#fde725\"]], \"type\": \"surface\"}], \"table\": [{\"cells\": {\"fill\": {\"color\": \"rgb(237,237,237)\"}, \"line\": {\"color\": \"white\"}}, \"header\": {\"fill\": {\"color\": \"rgb(217,217,217)\"}, \"line\": {\"color\": \"white\"}}, \"type\": \"table\"}]}, \"layout\": {\"annotationdefaults\": {\"arrowhead\": 0, \"arrowwidth\": 1}, \"autotypenumbers\": \"strict\", \"coloraxis\": {\"colorbar\": {\"outlinewidth\": 1, \"tickcolor\": \"rgb(36,36,36)\", \"ticks\": \"outside\"}}, \"colorscale\": {\"diverging\": [[0.0, \"rgb(103,0,31)\"], [0.1, \"rgb(178,24,43)\"], [0.2, \"rgb(214,96,77)\"], [0.3, \"rgb(244,165,130)\"], [0.4, \"rgb(253,219,199)\"], [0.5, \"rgb(247,247,247)\"], [0.6, \"rgb(209,229,240)\"], [0.7, \"rgb(146,197,222)\"], [0.8, \"rgb(67,147,195)\"], [0.9, \"rgb(33,102,172)\"], [1.0, \"rgb(5,48,97)\"]], \"sequential\": [[0.0, \"#440154\"], [0.1111111111111111, \"#482878\"], [0.2222222222222222, \"#3e4989\"], [0.3333333333333333, \"#31688e\"], [0.4444444444444444, \"#26828e\"], [0.5555555555555556, \"#1f9e89\"], [0.6666666666666666, \"#35b779\"], [0.7777777777777778, \"#6ece58\"], [0.8888888888888888, \"#b5de2b\"], [1.0, \"#fde725\"]], \"sequentialminus\": [[0.0, \"#440154\"], [0.1111111111111111, \"#482878\"], [0.2222222222222222, \"#3e4989\"], [0.3333333333333333, \"#31688e\"], [0.4444444444444444, \"#26828e\"], [0.5555555555555556, \"#1f9e89\"], [0.6666666666666666, \"#35b779\"], [0.7777777777777778, \"#6ece58\"], [0.8888888888888888, \"#b5de2b\"], [1.0, \"#fde725\"]]}, \"colorway\": [\"#1F77B4\", \"#FF7F0E\", \"#2CA02C\", \"#D62728\", \"#9467BD\", \"#8C564B\", \"#E377C2\", \"#7F7F7F\", \"#BCBD22\", \"#17BECF\"], \"font\": {\"color\": \"rgb(36,36,36)\"}, \"geo\": {\"bgcolor\": \"white\", \"lakecolor\": \"white\", \"landcolor\": \"white\", \"showlakes\": true, \"showland\": true, \"subunitcolor\": \"white\"}, \"hoverlabel\": {\"align\": \"left\"}, \"hovermode\": \"closest\", \"mapbox\": {\"style\": \"light\"}, \"paper_bgcolor\": \"white\", \"plot_bgcolor\": \"white\", \"polar\": {\"angularaxis\": {\"gridcolor\": \"rgb(232,232,232)\", \"linecolor\": \"rgb(36,36,36)\", \"showgrid\": false, \"showline\": true, \"ticks\": \"outside\"}, \"bgcolor\": \"white\", \"radialaxis\": {\"gridcolor\": \"rgb(232,232,232)\", \"linecolor\": \"rgb(36,36,36)\", \"showgrid\": false, \"showline\": true, \"ticks\": \"outside\"}}, \"scene\": {\"xaxis\": {\"backgroundcolor\": \"white\", \"gridcolor\": \"rgb(232,232,232)\", \"gridwidth\": 2, \"linecolor\": \"rgb(36,36,36)\", \"showbackground\": true, \"showgrid\": false, \"showline\": true, \"ticks\": \"outside\", \"zeroline\": false, \"zerolinecolor\": \"rgb(36,36,36)\"}, \"yaxis\": {\"backgroundcolor\": \"white\", \"gridcolor\": \"rgb(232,232,232)\", \"gridwidth\": 2, \"linecolor\": \"rgb(36,36,36)\", \"showbackground\": true, \"showgrid\": false, \"showline\": true, \"ticks\": \"outside\", \"zeroline\": false, \"zerolinecolor\": \"rgb(36,36,36)\"}, \"zaxis\": {\"backgroundcolor\": \"white\", \"gridcolor\": \"rgb(232,232,232)\", \"gridwidth\": 2, \"linecolor\": \"rgb(36,36,36)\", \"showbackground\": true, \"showgrid\": false, \"showline\": true, \"ticks\": \"outside\", \"zeroline\": false, \"zerolinecolor\": \"rgb(36,36,36)\"}}, \"shapedefaults\": {\"fillcolor\": \"black\", \"line\": {\"width\": 0}, \"opacity\": 0.3}, \"ternary\": {\"aaxis\": {\"gridcolor\": \"rgb(232,232,232)\", \"linecolor\": \"rgb(36,36,36)\", \"showgrid\": false, \"showline\": true, \"ticks\": \"outside\"}, \"baxis\": {\"gridcolor\": \"rgb(232,232,232)\", \"linecolor\": \"rgb(36,36,36)\", \"showgrid\": false, \"showline\": true, \"ticks\": \"outside\"}, \"bgcolor\": \"white\", \"caxis\": {\"gridcolor\": \"rgb(232,232,232)\", \"linecolor\": \"rgb(36,36,36)\", \"showgrid\": false, \"showline\": true, \"ticks\": \"outside\"}}, \"title\": {\"x\": 0.05}, \"xaxis\": {\"automargin\": true, \"gridcolor\": \"rgb(232,232,232)\", \"linecolor\": \"rgb(36,36,36)\", \"showgrid\": false, \"showline\": true, \"ticks\": \"outside\", \"title\": {\"standoff\": 15}, \"zeroline\": false, \"zerolinecolor\": \"rgb(36,36,36)\"}, \"yaxis\": {\"automargin\": true, \"gridcolor\": \"rgb(232,232,232)\", \"linecolor\": \"rgb(36,36,36)\", \"showgrid\": false, \"showline\": true, \"ticks\": \"outside\", \"title\": {\"standoff\": 15}, \"zeroline\": false, \"zerolinecolor\": \"rgb(36,36,36)\"}}}, \"width\": 1000, \"xaxis\": {\"anchor\": \"y\", \"domain\": [0.0, 1.0], \"title\": {\"text\": \"Variance\"}}, \"yaxis\": {\"anchor\": \"x\", \"domain\": [0.0, 1.0], \"showline\": false, \"title\": {\"text\": \"Dimension\"}, \"type\": \"category\"}},                        {\"responsive\": true}                    ).then(function(){\n",
       "                            \n",
       "var gd = document.getElementById('2f720abe-6712-44fe-8099-ea62ab9fe9af');\n",
       "var x = new MutationObserver(function (mutations, observer) {{\n",
       "        var display = window.getComputedStyle(gd).display;\n",
       "        if (!display || display === 'none') {{\n",
       "            console.log([gd, 'removed!']);\n",
       "            Plotly.purge(gd);\n",
       "            observer.disconnect();\n",
       "        }}\n",
       "}});\n",
       "\n",
       "// Listen for the removal of the full notebook cells\n",
       "var notebookContainer = gd.closest('#notebook-container');\n",
       "if (notebookContainer) {{\n",
       "    x.observe(notebookContainer, {childList: true});\n",
       "}}\n",
       "\n",
       "// Listen for the clearing of the current output cell\n",
       "var outputEl = gd.closest('.output');\n",
       "if (outputEl) {{\n",
       "    x.observe(outputEl, {childList: true});\n",
       "}}\n",
       "\n",
       "                        })                };                });            </script>        </div>"
      ]
     },
     "metadata": {},
     "output_type": "display_data"
    }
   ],
   "source": [
    "import plotly.express as px\n",
    "from kaleido.scopes.plotly import PlotlyScope\n",
    "scope = PlotlyScope()\n",
    "\n",
    "fig = px.scatter(t,\n",
    "                 x=\"value\",\n",
    "                 y=\"variable\",\n",
    "                 opacity=0.5,\n",
    "                 color=\"domain\",\n",
    "                 labels=dict(dimension=\"\",value=\"Variance\",variable=\"Dimension\"))\n",
    "args = {\n",
    "    \"font\":{\"size\": 23},\n",
    "    \"height\": 800,\n",
    "    \"width\": 1000,    \n",
    "    \"template\":\"simple_white\",\n",
    "    \"yaxis_type\": 'category',\n",
    "    \"showlegend\": True,\n",
    "    \"yaxis\":{\"showline\": False},\n",
    "}\n",
    "    \n",
    "fig.update_traces(marker={'size': 15})\n",
    "fig.update_layout(**args)\n",
    "# with open(\"/u/venia/dimension_variance.pdf\", \"wb\") as f:\n",
    "#     f.write(scope.transform(fig, format=\"pdf\"))\n",
    "# fig.write_html(\"/ada/projects/venia2021/data/quotebank/sample_plot.html\")\n",
    "# fig.write_image(\"/u/venia/partisan_variance.png\") "
   ]
  },
  {
   "cell_type": "code",
   "execution_count": null,
   "metadata": {},
   "outputs": [],
   "source": []
  },
  {
   "cell_type": "markdown",
   "metadata": {},
   "source": [
    "## Here I try to define my own \"cultural dimensions\""
   ]
  },
  {
   "cell_type": "code",
   "execution_count": 796,
   "metadata": {},
   "outputs": [],
   "source": [
    "# we'll use the PMI for weights\n",
    "\n",
    "def pmi(dff, x, y):\n",
    "    df = dff.copy()\n",
    "    df['f_x'] = df.groupby(x)[x].transform('count')\n",
    "    df['f_y'] = df.groupby(y)[y].transform('count')\n",
    "    df['f_xy'] = df['count']\n",
    "    df['pmi'] = np.log(len(df.index) * df['f_xy'] / (df['f_x'] * df['f_y']) )\n",
    "    return df"
   ]
  },
  {
   "cell_type": "code",
   "execution_count": 797,
   "metadata": {},
   "outputs": [],
   "source": [
    "import numpy as np \n",
    "\n",
    "def create_cultural_vec(embedding, seeds1, seeds2):\n",
    "    left_ = np.zeros(150)\n",
    "    right_ = np.zeros(150)\n",
    "    \n",
    "    vecs2 = embedding[embedding['domain'].isin(seeds1)][range(150)].values\n",
    "    vecs1 = embedding[embedding['domain'].isin(seeds2)][range(150)].values\n",
    "    \n",
    "    n1 = len(seeds1)\n",
    "    n2 = len(seeds2)\n",
    "    for k in vecs1:\n",
    "        left_ += k\n",
    "    left_ = left_/n1\n",
    "    for j in vecs2:\n",
    "        right_ += j\n",
    "    right_ = right_/ n2\n",
    "    left_ = left_ / np.linalg.norm(left_)\n",
    "    right_ = right_/np.linalg.norm(right_)\n",
    "\n",
    "    vec_dif = right_ - left_\n",
    "    vec_dif = vec_dif / np.linalg.norm(vec_dif)\n",
    "    return vec_dif"
   ]
  },
  {
   "cell_type": "code",
   "execution_count": null,
   "metadata": {},
   "outputs": [],
   "source": []
  },
  {
   "cell_type": "code",
   "execution_count": 798,
   "metadata": {},
   "outputs": [],
   "source": [
    "male_female = create_cultural_vec(embedding, ['mensxp.com'], ['elle.com'])"
   ]
  },
  {
   "cell_type": "code",
   "execution_count": 799,
   "metadata": {},
   "outputs": [],
   "source": [
    "cosine_similarity_p = pairwise.cosine_similarity(embedding[range(150)].values, male_female.reshape(1,-1))\n"
   ]
  },
  {
   "cell_type": "code",
   "execution_count": 800,
   "metadata": {},
   "outputs": [],
   "source": [
    "embedding['male_female'] = cosine_similarity_p"
   ]
  },
  {
   "cell_type": "code",
   "execution_count": null,
   "metadata": {},
   "outputs": [],
   "source": []
  },
  {
   "cell_type": "code",
   "execution_count": 801,
   "metadata": {},
   "outputs": [],
   "source": [
    "old_young = create_cultural_vec(embedding, ['teenvogue.com','seventeen.com'], ['vogue.com'])"
   ]
  },
  {
   "cell_type": "code",
   "execution_count": 802,
   "metadata": {},
   "outputs": [],
   "source": [
    "old_young_sim = pairwise.cosine_similarity(embedding[range(150)].values, old_young.reshape(1,-1))\n"
   ]
  },
  {
   "cell_type": "code",
   "execution_count": 803,
   "metadata": {},
   "outputs": [],
   "source": [
    "embedding['old_young'] = old_young_sim"
   ]
  },
  {
   "cell_type": "markdown",
   "metadata": {},
   "source": [
    "## Table for the top 10 most and least similar sites to climate change"
   ]
  },
  {
   "cell_type": "code",
   "execution_count": 820,
   "metadata": {},
   "outputs": [],
   "source": [
    "cq['domain'] = cq['domains']\n",
    "cq.drop('domains',axis=1,inplace=True)\n",
    "cq['domain'] = cq['domain'].apply(lambda x: eval(x))\n",
    "cq = cq.explode('domain')"
   ]
  },
  {
   "cell_type": "code",
   "execution_count": 821,
   "metadata": {},
   "outputs": [],
   "source": [
    "embedding2 = embedding.merge(cq.groupby('domain')['quoteID'].count().reset_index(), how = 'left')"
   ]
  },
  {
   "cell_type": "code",
   "execution_count": 822,
   "metadata": {
    "scrolled": true
   },
   "outputs": [
    {
     "name": "stdout",
     "output_type": "stream",
     "text": [
      "<table border=\"1\" class=\"dataframe\">\n",
      "  <thead>\n",
      "    <tr style=\"text-align: right;\">\n",
      "      <th></th>\n",
      "      <th>domain</th>\n",
      "      <th>climate_projection</th>\n",
      "    </tr>\n",
      "  </thead>\n",
      "  <tbody>\n",
      "    <tr>\n",
      "      <th>295</th>\n",
      "      <td>yaleclimateconnections.org</td>\n",
      "      <td>0.890519</td>\n",
      "    </tr>\n",
      "    <tr>\n",
      "      <th>303</th>\n",
      "      <td>climatecentral.org</td>\n",
      "      <td>0.884039</td>\n",
      "    </tr>\n",
      "    <tr>\n",
      "      <th>345</th>\n",
      "      <td>mongabay.com</td>\n",
      "      <td>0.830271</td>\n",
      "    </tr>\n",
      "    <tr>\n",
      "      <th>318</th>\n",
      "      <td>greenbiz.com</td>\n",
      "      <td>0.830028</td>\n",
      "    </tr>\n",
      "    <tr>\n",
      "      <th>300</th>\n",
      "      <td>desmogblog.com</td>\n",
      "      <td>0.829195</td>\n",
      "    </tr>\n",
      "    <tr>\n",
      "      <th>239</th>\n",
      "      <td>treehugger.com</td>\n",
      "      <td>0.807636</td>\n",
      "    </tr>\n",
      "    <tr>\n",
      "      <th>325</th>\n",
      "      <td>blueandgreentomorrow.com</td>\n",
      "      <td>0.804560</td>\n",
      "    </tr>\n",
      "    <tr>\n",
      "      <th>323</th>\n",
      "      <td>carbonbrief.org</td>\n",
      "      <td>0.802666</td>\n",
      "    </tr>\n",
      "    <tr>\n",
      "      <th>284</th>\n",
      "      <td>theenergycollective.com</td>\n",
      "      <td>0.800073</td>\n",
      "    </tr>\n",
      "    <tr>\n",
      "      <th>278</th>\n",
      "      <td>theclimategroup.org</td>\n",
      "      <td>0.791573</td>\n",
      "    </tr>\n",
      "  </tbody>\n",
      "</table>\n"
     ]
    }
   ],
   "source": [
    "print(embedding2[['domain','climate_projection']].sort_values(by ='climate_projection',ascending=False).head(10).to_html())\n",
    "\n"
   ]
  },
  {
   "cell_type": "code",
   "execution_count": 823,
   "metadata": {
    "scrolled": true
   },
   "outputs": [
    {
     "name": "stdout",
     "output_type": "stream",
     "text": [
      "<table border=\"1\" class=\"dataframe\">\n",
      "  <thead>\n",
      "    <tr style=\"text-align: right;\">\n",
      "      <th></th>\n",
      "      <th>domain</th>\n",
      "      <th>climate_projection</th>\n",
      "    </tr>\n",
      "  </thead>\n",
      "  <tbody>\n",
      "    <tr>\n",
      "      <th>7813</th>\n",
      "      <td>wdef.com</td>\n",
      "      <td>-0.473759</td>\n",
      "    </tr>\n",
      "    <tr>\n",
      "      <th>7768</th>\n",
      "      <td>usatoday.com</td>\n",
      "      <td>-0.457636</td>\n",
      "    </tr>\n",
      "    <tr>\n",
      "      <th>7815</th>\n",
      "      <td>valleymorningstar.com</td>\n",
      "      <td>-0.448353</td>\n",
      "    </tr>\n",
      "    <tr>\n",
      "      <th>7796</th>\n",
      "      <td>brownsvilleherald.com</td>\n",
      "      <td>-0.442978</td>\n",
      "    </tr>\n",
      "    <tr>\n",
      "      <th>7708</th>\n",
      "      <td>thecourierexpress.com</td>\n",
      "      <td>-0.439536</td>\n",
      "    </tr>\n",
      "    <tr>\n",
      "      <th>7802</th>\n",
      "      <td>fox13memphis.com</td>\n",
      "      <td>-0.438362</td>\n",
      "    </tr>\n",
      "    <tr>\n",
      "      <th>7773</th>\n",
      "      <td>10thousandcouples.com</td>\n",
      "      <td>-0.437220</td>\n",
      "    </tr>\n",
      "    <tr>\n",
      "      <th>7816</th>\n",
      "      <td>abc-7.com</td>\n",
      "      <td>-0.434763</td>\n",
      "    </tr>\n",
      "    <tr>\n",
      "      <th>7814</th>\n",
      "      <td>wsmv.com</td>\n",
      "      <td>-0.432836</td>\n",
      "    </tr>\n",
      "    <tr>\n",
      "      <th>7781</th>\n",
      "      <td>wtvq.com</td>\n",
      "      <td>-0.432725</td>\n",
      "    </tr>\n",
      "  </tbody>\n",
      "</table>\n"
     ]
    }
   ],
   "source": [
    "print(embedding2[['domain','climate_projection']].sort_values(by ='climate_projection',ascending=True).head(10).to_html())\n"
   ]
  },
  {
   "cell_type": "markdown",
   "metadata": {},
   "source": [
    "## Generalist-Specialist Score\n",
    "Inspired from https://www.cs.toronto.edu/~ashton/pubs/actdiv-www2019.pdf"
   ]
  },
  {
   "cell_type": "code",
   "execution_count": 966,
   "metadata": {},
   "outputs": [],
   "source": [
    "cq = cq.merge(embedding[['domain','cluster','score'] + list(range(150))])"
   ]
  },
  {
   "cell_type": "code",
   "execution_count": 967,
   "metadata": {},
   "outputs": [],
   "source": [
    "cq = cq.drop_duplicates(subset= 'quoteID')\n"
   ]
  },
  {
   "cell_type": "code",
   "execution_count": 968,
   "metadata": {},
   "outputs": [],
   "source": [
    "mean_vecs = cq.groupby('topic')[list(range(150))].apply(lambda x: np.mean(x) / np.linalg.norm(np.mean(x)))"
   ]
  },
  {
   "cell_type": "code",
   "execution_count": 969,
   "metadata": {},
   "outputs": [],
   "source": [
    "topics = cq.topic.unique()\n",
    "gs_scores = {}\n",
    "for t in topics:\n",
    "    mean_vec = mean_vecs[mean_vecs.index == t]\n",
    "    p = cq[cq['topic'] == t][range(150)]\n",
    "    c = cosine_similarity(p, mean_vec.values.reshape(1,-1)).mean()\n",
    "    gs_scores[t] = c"
   ]
  },
  {
   "cell_type": "code",
   "execution_count": 970,
   "metadata": {},
   "outputs": [],
   "source": [
    "gs_score = pd.DataFrame.from_dict(gs_scores, orient= 'index').sort_values(by=0, ascending=True)"
   ]
  },
  {
   "cell_type": "code",
   "execution_count": 971,
   "metadata": {},
   "outputs": [],
   "source": [
    "gs_score.columns = ['gs_score']"
   ]
  },
  {
   "cell_type": "code",
   "execution_count": null,
   "metadata": {},
   "outputs": [],
   "source": []
  },
  {
   "cell_type": "code",
   "execution_count": null,
   "metadata": {},
   "outputs": [],
   "source": []
  },
  {
   "cell_type": "code",
   "execution_count": 973,
   "metadata": {
    "scrolled": false
   },
   "outputs": [
    {
     "name": "stdout",
     "output_type": "stream",
     "text": [
      "<table border=\"1\" class=\"dataframe\">\n",
      "  <thead>\n",
      "    <tr style=\"text-align: right;\">\n",
      "      <th></th>\n",
      "      <th>gs_score</th>\n",
      "    </tr>\n",
      "  </thead>\n",
      "  <tbody>\n",
      "    <tr>\n",
      "      <th>society</th>\n",
      "      <td>0.149831</td>\n",
      "    </tr>\n",
      "    <tr>\n",
      "      <th>concern</th>\n",
      "      <td>0.153984</td>\n",
      "    </tr>\n",
      "    <tr>\n",
      "      <th>reduction</th>\n",
      "      <td>0.155351</td>\n",
      "    </tr>\n",
      "    <tr>\n",
      "      <th>power/footprint</th>\n",
      "      <td>0.164052</td>\n",
      "    </tr>\n",
      "    <tr>\n",
      "      <th>biodiversity</th>\n",
      "      <td>0.167376</td>\n",
      "    </tr>\n",
      "  </tbody>\n",
      "</table>\n"
     ]
    }
   ],
   "source": [
    "print(gs_score.head(5).to_html())"
   ]
  },
  {
   "cell_type": "code",
   "execution_count": 974,
   "metadata": {
    "scrolled": false
   },
   "outputs": [
    {
     "name": "stdout",
     "output_type": "stream",
     "text": [
      "<table border=\"1\" class=\"dataframe\">\n",
      "  <thead>\n",
      "    <tr style=\"text-align: right;\">\n",
      "      <th></th>\n",
      "      <th>gs_score</th>\n",
      "    </tr>\n",
      "  </thead>\n",
      "  <tbody>\n",
      "    <tr>\n",
      "      <th>eurozone</th>\n",
      "      <td>0.328310</td>\n",
      "    </tr>\n",
      "    <tr>\n",
      "      <th>models</th>\n",
      "      <td>0.316398</td>\n",
      "    </tr>\n",
      "    <tr>\n",
      "      <th>tax/trade</th>\n",
      "      <td>0.314999</td>\n",
      "    </tr>\n",
      "    <tr>\n",
      "      <th>trump</th>\n",
      "      <td>0.312403</td>\n",
      "    </tr>\n",
      "    <tr>\n",
      "      <th>science</th>\n",
      "      <td>0.276532</td>\n",
      "    </tr>\n",
      "  </tbody>\n",
      "</table>\n"
     ]
    }
   ],
   "source": [
    "print(gs_score.sort_values(ascending=False, by='gs_score').head(5).to_html())"
   ]
  },
  {
   "cell_type": "code",
   "execution_count": 833,
   "metadata": {},
   "outputs": [],
   "source": [
    "top_news_by_cluster = cq.groupby(['cluster', 'domain'])['quoteID'].count().sort_values(ascending=False).groupby('cluster').head(1)"
   ]
  },
  {
   "cell_type": "code",
   "execution_count": 834,
   "metadata": {},
   "outputs": [],
   "source": [
    "top_news2 = ['un.org','huffingtonpost.com','eurekaltert.org','indiatimes.com','theglobeandmail.com','nhl.com', 'enewspf.com','environmentalhealthnews.com','phys.org','euronews.com']"
   ]
  },
  {
   "cell_type": "code",
   "execution_count": 835,
   "metadata": {
    "scrolled": true
   },
   "outputs": [],
   "source": [
    "# extract the top newspaper from each cluster to see what issues it cares about\n",
    "top_news = top_news_by_cluster.reset_index()['domain'].values\n",
    "\n",
    "temp_news = embedding[embedding['domain'].isin(top_news2)]"
   ]
  },
  {
   "cell_type": "code",
   "execution_count": 836,
   "metadata": {},
   "outputs": [
    {
     "data": {
      "text/plain": [
       "['un.org',\n",
       " 'huffingtonpost.com',\n",
       " 'eurekaltert.org',\n",
       " 'indiatimes.com',\n",
       " 'theglobeandmail.com',\n",
       " 'nhl.com',\n",
       " 'enewspf.com',\n",
       " 'environmentalhealthnews.com',\n",
       " 'phys.org',\n",
       " 'euronews.com']"
      ]
     },
     "execution_count": 836,
     "metadata": {},
     "output_type": "execute_result"
    }
   ],
   "source": [
    "top_news2"
   ]
  },
  {
   "cell_type": "code",
   "execution_count": 837,
   "metadata": {},
   "outputs": [],
   "source": [
    "scores = temp_news.melt(id_vars='domain',value_vars = topics2)"
   ]
  },
  {
   "cell_type": "code",
   "execution_count": 851,
   "metadata": {},
   "outputs": [
    {
     "data": {
      "text/plain": [
       "'eurozone'"
      ]
     },
     "execution_count": 851,
     "metadata": {},
     "output_type": "execute_result"
    }
   ],
   "source": [
    "scores[scores['domain'] == 'un.org'].sort_values(by = 'value').head(1)['variable'].values[0]"
   ]
  },
  {
   "cell_type": "code",
   "execution_count": 873,
   "metadata": {},
   "outputs": [],
   "source": [
    "import plotly.express as px\n",
    "from kaleido.scopes.plotly import PlotlyScope\n",
    "scope = PlotlyScope()\n",
    "\n",
    "fig = px.scatter(scores,\n",
    "                 x=\"value\",\n",
    "                 y=\"domain\",\n",
    "                 opacity=0.5,\n",
    "                 color=\"variable\",\n",
    "                 labels=dict(dimension=\"\",value=\"Projection\",variable=\"Topic\"),\n",
    "                )\n",
    "args = {\n",
    "    \"font\":{\"size\": 23},\n",
    "    \"height\": 500,\n",
    "    \"width\": 800,    \n",
    "    \"template\":\"simple_white\",\n",
    "    \"yaxis_type\": 'category',\n",
    "    \"showlegend\": False,\n",
    "    \"yaxis\":{\"showline\": False, 'tickmode': 'linear', 'title':''},\n",
    "}\n",
    "\n",
    "font_color = '#656565'\n",
    "\n",
    "\n",
    "for i, site in enumerate(scores['domain'].unique()):\n",
    "    y = i + 0.3\n",
    "\n",
    "    top1 = scores[scores['domain'] == site].sort_values(by = 'value').head(1)\n",
    "    top1_x = top1['value'].values[0]\n",
    "    top1_name =  top1['variable'].values[0]\n",
    "    \n",
    "    bottom1 = scores[scores['domain'] == site].sort_values(by = 'value').tail(1)\n",
    "    bottom1_x = bottom1['value'].values[0]\n",
    "    bottom1_name =  bottom1['variable'].values[0]\n",
    "\n",
    "    fig.add_annotation(x=top1_x, y=y,\n",
    "                text=top1_name,\n",
    "                showarrow=False,\n",
    "                arrowhead=2,\n",
    "                font_size = 11,\n",
    "                font_color = font_color)   \n",
    "    \n",
    "    fig.add_annotation(x=bottom1_x, y=y,\n",
    "                text=bottom1_name,\n",
    "                showarrow=False,\n",
    "                arrowhead=2,\n",
    "                font_size = 11,\n",
    "                font_color = font_color) \n",
    "\n",
    "fig.update_traces(marker={'size': 15})\n",
    "fig.update_layout(**args)\n",
    "fig.write_html(\"/ada/projects/venia2021/data/quotebank/news_interests.html\")\n"
   ]
  },
  {
   "cell_type": "markdown",
   "metadata": {},
   "source": [
    "# Show if climate change was polarized overtime"
   ]
  },
  {
   "cell_type": "code",
   "execution_count": 854,
   "metadata": {},
   "outputs": [],
   "source": [
    "cq['date'] = pd.to_datetime(cq['date'])\n",
    "cq['month_date'] = cq['date'].dt.strftime('%Y-%m')"
   ]
  },
  {
   "cell_type": "code",
   "execution_count": 855,
   "metadata": {},
   "outputs": [
    {
     "name": "stderr",
     "output_type": "stream",
     "text": [
      "/h/224/venia/miniconda3/lib/python3.7/site-packages/pandas/core/frame.py:3607: SettingWithCopyWarning:\n",
      "\n",
      "\n",
      "A value is trying to be set on a copy of a slice from a DataFrame.\n",
      "Try using .loc[row_indexer,col_indexer] = value instead\n",
      "\n",
      "See the caveats in the documentation: https://pandas.pydata.org/pandas-docs/stable/user_guide/indexing.html#returning-a-view-versus-a-copy\n",
      "\n"
     ]
    }
   ],
   "source": [
    "polarization = cq.dropna(subset=['score'])\n",
    "\n",
    "polarization['partisan_bin'] = pd.cut(polarization['score'], bins = 20, labels = False)"
   ]
  },
  {
   "cell_type": "code",
   "execution_count": 856,
   "metadata": {},
   "outputs": [],
   "source": [
    "p_grouped = polarization.groupby(['month_date','partisan_bin'])['score'].count().reset_index()\n",
    "p_grouped['total_count'] = p_grouped.groupby('month_date')['score'].transform('sum')\n",
    "p_grouped['proportion'] = p_grouped['score'].divide(p_grouped['total_count'])"
   ]
  },
  {
   "cell_type": "code",
   "execution_count": 874,
   "metadata": {},
   "outputs": [],
   "source": [
    "import plotly.express as px\n",
    "\n",
    "\n",
    "fig = px.bar(p_grouped, x=\"month_date\", y=\"proportion\", color=\"partisan_bin\", title=\"Polarization of climate change\", color_continuous_scale = 'Bluered')\n",
    "args = {\n",
    "    \"font\":{\"size\": 20},\n",
    "    \"yaxis\":{\"showline\": True, 'tickmode': 'linear', 'title':'Proportion'},\n",
    "    \"xaxis\": {'title': \"\"},\n",
    "    \"showlegend\": False,\n",
    "}\n",
    "fig.update_traces(marker_showscale=False)\n",
    "\n",
    "fig.update_layout(**args)\n",
    "fig.update(layout_coloraxis_showscale=False)\n",
    "fig.write_html(\"/ada/projects/venia2021/data/quotebank/polarization.html\")\n"
   ]
  },
  {
   "cell_type": "code",
   "execution_count": null,
   "metadata": {},
   "outputs": [],
   "source": [
    "# NORMALIZE BY POPULARITY OF BIN"
   ]
  },
  {
   "cell_type": "markdown",
   "metadata": {},
   "source": [
    "## Polarization histograms by topic"
   ]
  },
  {
   "cell_type": "code",
   "execution_count": 859,
   "metadata": {},
   "outputs": [],
   "source": [
    "top_topics = polarization.groupby('topic')['quoteID'].count().sort_values(ascending=False).index"
   ]
  },
  {
   "cell_type": "code",
   "execution_count": 871,
   "metadata": {},
   "outputs": [],
   "source": [
    "top_25_topics = ['power/footprint', 'gases', 'models', 'sustainability',\n",
    "       'impact on vulnerable', 'adaptation', 'renewable', 'challenges',\n",
    "       'science', 'next generation', 'us admin.', 'trump', 'united states', 'tax/trade', 'eurozone', 'paris',\n",
    "       'developing world', 'biodiversity', 'sea level', 'environment',\n",
    "       'society', 'future', 'net zero', 'concern', 'reduction']"
   ]
  },
  {
   "cell_type": "code",
   "execution_count": null,
   "metadata": {},
   "outputs": [],
   "source": [
    "# PLOT THIS WITH Z-SCORE"
   ]
  },
  {
   "cell_type": "code",
   "execution_count": 876,
   "metadata": {},
   "outputs": [
    {
     "data": {
      "image/png": "[encoded data removed]",
      "text/plain": [
       "<Figure size 1224x1224 with 25 Axes>"
      ]
     },
     "metadata": {
      "needs_background": "light"
     },
     "output_type": "display_data"
    }
   ],
   "source": [
    "fig, axs=plt.subplots(5,5, figsize = (17,17), sharex = True, sharey=True)\n",
    "\n",
    "median_line = polarization[polarization['topic'].isin(top_25_topics)]['score'].mean()\n",
    "cm = plt.cm.get_cmap('RdBu_r')\n",
    "\n",
    "for i, ax in enumerate(axs.flatten()):\n",
    "    t = top_25_topics[i]\n",
    "    temp = polarization[polarization['topic'] == t]\n",
    "    n, bins, patches = ax.hist(temp['score'], bins = 10, density=True)\n",
    "    bin_centers = 0.5 * (bins[:-1] + bins[1:])\n",
    "\n",
    "    # scale values to interval [0,1]\n",
    "    col = bin_centers - min(bin_centers)\n",
    "    col /= max(col)\n",
    "\n",
    "    for c, p in zip(col, patches):\n",
    "        plt.setp(p, 'facecolor', cm(c))\n",
    "        \n",
    "    ax.axvline(temp['score'].mean(), color='k', linestyle='dashed',alpha = 0.5, linewidth=1, label = 'topic median')\n",
    "    ax.axvline(median_line, color='k', linestyle='dashed', linewidth=1, label = 'total median')\n",
    "    ax.set_title(t)\n",
    "    ax.text(s = 'Std: {}'.format(temp['score'].std().round(2)), fontsize = 8, x = 1, y =2.12, ha = 'right')\n",
    "    ax.text(s = 'Mean diff: {}'.format((temp['score'].mean() - median_line).round(2)), fontsize = 8, x = 1, y =1.99, ha = 'right')\n",
    "    if i == 24:\n",
    "        handles, labels = ax.get_legend_handles_labels()\n",
    "        fig.legend(handles, labels, loc = 'right')\n",
    "plt.savefig(\"/ada/projects/venia2021/data/quotebank/topic_distribution.png\", dpi = 300, bbox_inches='tight')"
   ]
  },
  {
   "cell_type": "code",
   "execution_count": null,
   "metadata": {},
   "outputs": [],
   "source": []
  },
  {
   "cell_type": "code",
   "execution_count": null,
   "metadata": {},
   "outputs": [],
   "source": []
  },
  {
   "cell_type": "markdown",
   "metadata": {},
   "source": [
    "## Compare climate change discussion to overall discussion"
   ]
  },
  {
   "cell_type": "code",
   "execution_count": 951,
   "metadata": {},
   "outputs": [],
   "source": [
    "\n",
    "# Groups should be in format [{name:..., weights:...}] or [{name:...., score_col: (hist, bin_edges) }]\n",
    "def many_densities(groups, dimen_list, data, bins=30, density_scaling_factor=5, figsize=(8,5), all_label=\"Difference\"):\n",
    "    n_groups = len(groups)\n",
    "    n_dimens = len(dimen_list)\n",
    "    fig, axs = plt.subplots(1, n_dimens, figsize=figsize)\n",
    "    min_maxs = []\n",
    "    for i, dimen in enumerate(dimen_list):\n",
    "        ax = axs\n",
    "        name = dimen\n",
    "        ax.set_title(name, fontsize = 16)\n",
    "        ax.set_frame_on(False)\n",
    "        ax.tick_params(axis='x', labelrotation=90, labelsize = 14)\n",
    "        if i == 0:\n",
    "            ax.set_yticks(range(-1, n_groups + 1))\n",
    "            group_labels = [\"%s\\nn=%s\" % (group if type(group) is not dict else group[\"name\"], \"{:,}\".format(round(sum(group['weights'])))) for i, group in enumerate(groups)]\n",
    "            ax.set_yticklabels([None]+[all_label]  + group_labels, ha='right', fontsize=14)\n",
    "        else:\n",
    "            ax.set_yticks([])\n",
    "        \n",
    "        ax.set_ylim(-1, n_groups + 1)\n",
    "        min_max = (np.min(data[dimen]), np.max(data[dimen]))\n",
    "#         min_max = (-2.5, 2.5)\n",
    "        min_maxs.append(min_max)\n",
    "        ax.set_xlim(min_max[0], min_max[1])\n",
    "#         if name == 'partisan-ness':\n",
    "#             ax.set_xticks([-1,1.5,5])\n",
    "#         else:\n",
    "#             ax.set_xticks([-2.5,0,2.5])\n",
    "        median = np.median(data[name])\n",
    "        ax.axvline(median, color='black', linestyle='--', linewidth=1)\n",
    "    weights = np.empty(len(data))\n",
    "    for i, group in enumerate([None] + groups):\n",
    "        if group is None:\n",
    "            weights1 = groups[i-1].get('weights',None)\n",
    "            weights2 = groups[i-2].get('weights', None)\n",
    "        else:\n",
    "            weights = group.get(\"weights\", None)      \n",
    "        for j, dimen in enumerate(dimen_list):    \n",
    "            name = dimen\n",
    "            if group is not None and name in group:\n",
    "                hist, bin_edges = data[name]\n",
    "            elif group is None:\n",
    "                hist1, bin_edges1 = np.histogram(data[name], bins=bins, range=min_maxs[j], weights=weights1, density=False)\n",
    "                hist2, bin_edges2 = np.histogram(data[name], bins=bins, range=min_maxs[j], weights=weights2, density=False)\n",
    "                hist1 = hist1 / np.sum(hist1)\n",
    "                hist2 = hist2 / np.sum(hist2)\n",
    "                bin_edges = bin_edges1[:-1]\n",
    "                bin_edges2 = bin_edges2[:-1]\n",
    "                hist=hist1-hist2\n",
    "            else:\n",
    "                hist, bin_edges = np.histogram(data[name], bins=bins, range=min_maxs[j], weights=weights, density=False)\n",
    "                hist = hist / np.sum(hist)\n",
    "                bin_edges = bin_edges[:-1]\n",
    "            scaling_factor = (min_maxs[j][1] - min_maxs[j][0]) * density_scaling_factor\n",
    "            x = bin_edges[1:-1]\n",
    "            y = (scaling_factor * hist) + i\n",
    "            y = y[1:-1]\n",
    "            score = 0.4\n",
    "            # y = savgol_filter(y,7,5)\n",
    "            if group is None:\n",
    "#                 y = y*1.7\n",
    "                axs.plot(x,y,color='black')\n",
    "                score=0.8\n",
    "                axs.fill_between(x, y, i, where=  y>=i, facecolor=\"#FFCB9E\", alpha = score, interpolate = True)\n",
    "                axs.fill_between(x, y, i, where = y<=i, facecolor=\"#A5C8E1\", alpha = score, interpolate=True)\n",
    "            else:\n",
    "                axs.plot(x, y, color='black')\n",
    "                axs.fill_between(x, y, i, alpha=score)"
   ]
  },
  {
   "cell_type": "code",
   "execution_count": 882,
   "metadata": {},
   "outputs": [],
   "source": [
    "news_counts2 = news_counts.merge(embedding[['domain', 'score']]).dropna()"
   ]
  },
  {
   "cell_type": "code",
   "execution_count": 954,
   "metadata": {},
   "outputs": [],
   "source": [
    "climate_quotes_g = cq.groupby('domain').agg({'quoteID': 'count', 'score':'mean'}).reset_index().dropna()"
   ]
  },
  {
   "cell_type": "code",
   "execution_count": 955,
   "metadata": {},
   "outputs": [],
   "source": [
    "news_counts2.columns = ['domain','total_count_all','score']\n",
    "climate_quotes_g.columns = ['domain','total_count','partisan_score']"
   ]
  },
  {
   "cell_type": "code",
   "execution_count": 956,
   "metadata": {},
   "outputs": [],
   "source": [
    "climate_quotes_g = climate_quotes_g.merge(news_counts2[['domain','total_count_all']])"
   ]
  },
  {
   "cell_type": "code",
   "execution_count": 957,
   "metadata": {},
   "outputs": [],
   "source": [
    "weights = [{\"name\": \"Climate Related\", \"weights\": climate_quotes_g['total_count'].values},{\"name\": \"All quotes\", \"weights\": climate_quotes_g['total_count_all'].values}]"
   ]
  },
  {
   "cell_type": "code",
   "execution_count": 960,
   "metadata": {},
   "outputs": [],
   "source": [
    "dimen_list = ['partisan_score']\n"
   ]
  },
  {
   "cell_type": "code",
   "execution_count": null,
   "metadata": {},
   "outputs": [],
   "source": []
  },
  {
   "cell_type": "code",
   "execution_count": 963,
   "metadata": {},
   "outputs": [
    {
     "data": {
      "image/png": "[encoded data removed]",
      "text/plain": [
       "<Figure size 576x360 with 1 Axes>"
      ]
     },
     "metadata": {
      "needs_background": "light"
     },
     "output_type": "display_data"
    }
   ],
   "source": [
    "many_densities(weights,dimen_list, climate_quotes_g)\n",
    "plt.savefig(\"/ada/projects/venia2021/data/quotebank/difference_plot.png\", dpi = 300, bbox_inches = \"tight\")"
   ]
  },
  {
   "cell_type": "code",
   "execution_count": null,
   "metadata": {},
   "outputs": [],
   "source": []
  },
  {
   "cell_type": "markdown",
   "metadata": {},
   "source": [
    "### Connecting to wikidata\n"
   ]
  },
  {
   "cell_type": "code",
   "execution_count": 978,
   "metadata": {},
   "outputs": [],
   "source": [
    "import glob\n",
    "k = glob.glob('/ada/projects/venia2021/data/quotebank/*')\n",
    "k = [j for j in k if  \"snappy\" in j]"
   ]
  },
  {
   "cell_type": "code",
   "execution_count": 1041,
   "metadata": {},
   "outputs": [],
   "source": [
    "from pyspark.sql.functions import *\n",
    "from pyspark.sql.types import *\n",
    "\n",
    "from pyspark.sql import SparkSession\n",
    "from pyspark import SparkContext\n",
    "import pandas as pd\n",
    "import json\n",
    "import glob\n",
    "import os \n",
    "\n",
    "# import matplotlib.pyplot as plt\n",
    "# spark = SparkSession.builder.config(\"spark.driver.memory\", \"700g\")\\\n",
    "#     .config(\"spark.driver.maxResultSize\", '0').config(\"spark.executor.memory\", \"700g\")\\\n",
    "#     .config('spark.sql.autoBroadcastJoinThreshold', '-1').config('spark.local.dir','/ada/tmp').getOrCreate()\n",
    "\n",
    "# wikidata = spark.read.load(k)"
   ]
  },
  {
   "cell_type": "code",
   "execution_count": 1015,
   "metadata": {},
   "outputs": [],
   "source": [
    "names = spark.read.csv(\"/ada/projects/venia2021/data/quotebank/wikidata_labels_descriptions.csv.bz2\", header=True)"
   ]
  },
  {
   "cell_type": "code",
   "execution_count": 1016,
   "metadata": {},
   "outputs": [],
   "source": [
    "def extract_smallest_qid(qids):\n",
    "    try: \n",
    "        if len(qids) > 1:\n",
    "            vals = [int(k[1:]) for k in qids]\n",
    "            vals.sort()\n",
    "            response = f'Q{vals[0]}'\n",
    "        else:\n",
    "            response = qids[0]\n",
    "        return response\n",
    "    except:\n",
    "        return None\n",
    "extract_smallest_qid_udf = udf(extract_smallest_qid, IntegerType())"
   ]
  },
  {
   "cell_type": "code",
   "execution_count": 1017,
   "metadata": {},
   "outputs": [],
   "source": [
    "# cq['qids'] = cq['qids'].apply(lambda x: eval(x))\n",
    "cq['qid'] = cq['qids'].apply(lambda x: extract_smallest_qid(x))"
   ]
  },
  {
   "cell_type": "code",
   "execution_count": 1018,
   "metadata": {},
   "outputs": [],
   "source": [
    "wikidata = wikidata.select(*['nationality','gender','occupation','id'])"
   ]
  },
  {
   "cell_type": "code",
   "execution_count": 1031,
   "metadata": {},
   "outputs": [],
   "source": [
    "qids = cq[cq['qid']!=\"None\"]['qid'].dropna()"
   ]
  },
  {
   "cell_type": "code",
   "execution_count": null,
   "metadata": {},
   "outputs": [],
   "source": []
  },
  {
   "cell_type": "code",
   "execution_count": 1035,
   "metadata": {},
   "outputs": [],
   "source": [
    "df = spark.createDataFrame(qids.reset_index())\n",
    "df = df.withColumn('id', col('qid'))"
   ]
  },
  {
   "cell_type": "code",
   "execution_count": 1037,
   "metadata": {},
   "outputs": [],
   "source": [
    "joined = df.join(wikidata, how = 'inner')"
   ]
  },
  {
   "cell_type": "code",
   "execution_count": null,
   "metadata": {},
   "outputs": [],
   "source": []
  },
  {
   "cell_type": "code",
   "execution_count": null,
   "metadata": {},
   "outputs": [],
   "source": []
  },
  {
   "cell_type": "code",
   "execution_count": null,
   "metadata": {},
   "outputs": [],
   "source": []
  }
 ],
 "metadata": {
  "kernelspec": {
   "display_name": "Python 3",
   "language": "python",
   "name": "python3"
  },
  "language_info": {
   "codemirror_mode": {
    "name": "ipython",
    "version": 3
   },
   "file_extension": ".py",
   "mimetype": "text/x-python",
   "name": "python",
   "nbconvert_exporter": "python",
   "pygments_lexer": "ipython3",
   "version": "3.7.6"
  }
 },
 "nbformat": 4,
 "nbformat_minor": 4
}
