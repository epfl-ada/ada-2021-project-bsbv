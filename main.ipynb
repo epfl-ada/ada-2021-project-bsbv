{
  "nbformat": 4,
  "nbformat_minor": 0,
  "metadata": {
    "colab": {
      "name": "main.ipynb",
      "provenance": [],
      "collapsed_sections": [
        "fQMGz4mTZ3eq"
      ]
    },
    "kernelspec": {
      "display_name": "Python 3",
      "name": "python3"
    },
    "language_info": {
      "name": "python"
    }
  },
  "cells": [
    {
      "cell_type": "markdown",
      "metadata": {
        "id": "n8GBKB6W2Xom"
      },
      "source": [
        "# Climate change through the years\n",
        "---\n",
        "\n",
        "Nowadays Climate Change is a hot topic in many discussions and the concern about the long-term alteration of temperature and typical weather patterns in certain places is incresing through the years. We believe the Quotebank datasets will allows us to analyze how the sensitivity about this topic has evolve in society. Note that we will be working with Quotebank data from 2015 to 2020, inclusive."
      ]
    },
    {
      "cell_type": "markdown",
      "metadata": {
        "id": "OjP5Dx8uFPe5"
      },
      "source": [
        "## Importing data"
      ]
    },
    {
      "cell_type": "markdown",
      "metadata": {
        "id": "wcfUl8LW6Kfv"
      },
      "source": [
        "First, let's mount our Google Drive to use files from it."
      ]
    },
    {
      "cell_type": "code",
      "metadata": {
        "colab": {
          "base_uri": "https://localhost:8080/"
        },
        "id": "5Kjnv62X-Em1",
        "outputId": "9c7c80cf-4e54-4ade-b4ff-d64ed4d4bc20"
      },
      "source": [
        "from google.colab import drive\n",
        "drive.mount('/content/drive')"
      ],
      "execution_count": null,
      "outputs": [
        {
          "output_type": "stream",
          "name": "stdout",
          "text": [
            "Mounted at /content/drive\n"
          ]
        }
      ]
    },
    {
      "cell_type": "markdown",
      "metadata": {
        "id": "QfcB98Xz6k15"
      },
      "source": [
        "We will now import the necessary libraries to be able to run **pyspark**. Pyspark nicely parallelizes and will let us work with data without importing the whole dataset."
      ]
    },
    {
      "cell_type": "code",
      "metadata": {
        "colab": {
          "base_uri": "https://localhost:8080/"
        },
        "id": "lQdk3f4U-H9U",
        "outputId": "f36ab826-561c-43be-a9f5-787ee82c1cc3"
      },
      "source": [
        "!pip install tld\n",
        "!pip install pyspark\n",
        "\n",
        "!apt-get install openjdk-8-jdk-headless -qq > /dev/null\n",
        "!wget -q https://archive.apache.org/dist/spark/spark-3.0.0/spark-3.0.0-bin-hadoop3.2.tgz\n",
        "!tar xf spark-3.0.0-bin-hadoop3.2.tgz\n",
        "!pip install -q findspark"
      ],
      "execution_count": null,
      "outputs": [
        {
          "output_type": "stream",
          "name": "stdout",
          "text": [
            "Collecting tld\n",
            "  Downloading tld-0.12.6-py37-none-any.whl (412 kB)\n",
            "\u001b[K     |████████████████████████████████| 412 kB 5.1 MB/s \n",
            "\u001b[?25hInstalling collected packages: tld\n",
            "Successfully installed tld-0.12.6\n",
            "Collecting pyspark\n",
            "  Downloading pyspark-3.2.0.tar.gz (281.3 MB)\n",
            "\u001b[K     |████████████████████████████████| 281.3 MB 24 kB/s \n",
            "\u001b[?25hCollecting py4j==0.10.9.2\n",
            "  Downloading py4j-0.10.9.2-py2.py3-none-any.whl (198 kB)\n",
            "\u001b[K     |████████████████████████████████| 198 kB 50.2 MB/s \n",
            "\u001b[?25hBuilding wheels for collected packages: pyspark\n",
            "  Building wheel for pyspark (setup.py) ... \u001b[?25l\u001b[?25hdone\n",
            "  Created wheel for pyspark: filename=pyspark-3.2.0-py2.py3-none-any.whl size=281805912 sha256=c7ee2352fb9b8b8ff196cc94a14b5d7e2c7b3db9929e425a4b7019670bdd0992\n",
            "  Stored in directory: /root/.cache/pip/wheels/0b/de/d2/9be5d59d7331c6c2a7c1b6d1a4f463ce107332b1ecd4e80718\n",
            "Successfully built pyspark\n",
            "Installing collected packages: py4j, pyspark\n",
            "Successfully installed py4j-0.10.9.2 pyspark-3.2.0\n"
          ]
        }
      ]
    },
    {
      "cell_type": "code",
      "metadata": {
        "id": "b_Iy9Etl_qg_"
      },
      "source": [
        "import os\n",
        "os.environ[\"JAVA_HOME\"] = \"/usr/lib/jvm/java-8-openjdk-amd64\"\n",
        "os.environ[\"SPARK_HOME\"] = \"/content/spark-3.0.0-bin-hadoop3.2\""
      ],
      "execution_count": null,
      "outputs": []
    },
    {
      "cell_type": "code",
      "metadata": {
        "id": "5k7XoZxzBC2J"
      },
      "source": [
        "import findspark\n",
        "findspark.init()\n",
        "from pyspark.sql import SparkSession\n",
        "spark = SparkSession.builder.master(\"local[*]\").config('spark.driver.maxResultSize', '10g').config('spark.executor.memory','8g').config('spark.driver.memory','8g').getOrCreate()"
      ],
      "execution_count": null,
      "outputs": []
    },
    {
      "cell_type": "code",
      "metadata": {
        "id": "yKXMdkIzGIdn"
      },
      "source": [
        "from pyspark.sql.functions import *\n",
        "from pyspark.sql.types import StructType,StructField, StringType, IntegerType, ArrayType, FloatType\n",
        "\n",
        "schema = StructType([\n",
        "    StructField('date', StringType(), True),\n",
        "    StructField('numOccurrences', StringType(), True),\n",
        "    StructField('phase', StringType(), True),\n",
        "    StructField('probas', ArrayType(ArrayType(StringType()))),\n",
        "    StructField(\"qids\", ArrayType(StringType()), True),\n",
        "    StructField('speaker', StringType(), True),\n",
        "    StructField('quotation', StringType(), True),\n",
        "    StructField('quoteID', StringType(), True),\n",
        "    StructField('urls', ArrayType(StringType()), True)\n",
        "])"
      ],
      "execution_count": null,
      "outputs": []
    },
    {
      "cell_type": "markdown",
      "metadata": {
        "id": "TsItPm0jPyZ8"
      },
      "source": [
        "## Getting a randomized sample of data"
      ]
    },
    {
      "cell_type": "markdown",
      "metadata": {
        "id": "-akGlG4ZrGAb"
      },
      "source": [
        "Quotebank dataset is very large. So, for this milestone of the project we will use a randomized sample of data from each year."
      ]
    },
    {
      "cell_type": "code",
      "metadata": {
        "id": "feKklDIC2EQm"
      },
      "source": [
        "import glob\n",
        "import pandas as pd"
      ],
      "execution_count": null,
      "outputs": []
    },
    {
      "cell_type": "code",
      "metadata": {
        "id": "PrRLaj5oRUE4",
        "colab": {
          "base_uri": "https://localhost:8080/"
        },
        "outputId": "d76e91ac-729d-4807-992e-18d9aca01e81"
      },
      "source": [
        "quote_files = glob.glob(\"/content/drive/MyDrive/Quotebank/*\")\n",
        "quote_spark = spark.read.schema(schema).option(\"encoding\", \"UTF-8\").json(quote_files)\n",
        "\n",
        "# limit the dataset size for preliminary analysis and developing the pipeline\n",
        "quote_spark.createOrReplaceTempView(\"data\")\n",
        "\n",
        "quotes = spark.read.schema(schema).option(\"encoding\", \"UTF-8\").json(quote_files)\n",
        "\n",
        "quotes = spark.sql(\"SELECT * FROM data WHERE rand() < 0.015\")\n",
        "quotes.head()"
      ],
      "execution_count": null,
      "outputs": [
        {
          "output_type": "execute_result",
          "data": {
            "text/plain": [
              "Row(date='2020-02-07 22:11:55', numOccurrences='1', phase='E', probas=[['Seamus Ryan', '0.6351'], ['None', '0.3649']], qids=['Q7440788'], speaker='Seamus Ryan', quotation='All future inquiries should be directed to the principals of the company.', quoteID='2020-02-07-003833', urls=['https://www.koaa.com/news/news5-investigates/homeowners-say-solar-company-left-them-with-a-financial-mess'])"
            ]
          },
          "metadata": {},
          "execution_count": 7
        }
      ]
    },
    {
      "cell_type": "code",
      "metadata": {
        "id": "nMknA1ZSv8J9"
      },
      "source": [
        "# we will now save the files\n",
        "df_pd = quotes.toPandas()\n",
        "df_pd.to_csv(\"/content/drive/MyDrive/quote_samples.csv\")"
      ],
      "execution_count": null,
      "outputs": []
    },
    {
      "cell_type": "code",
      "metadata": {
        "id": "MwObbBD0xax6"
      },
      "source": [
        "# import the two datasets\n",
        "quotes = pd.read_csv(\"/content/drive/MyDrive/quote_samples.csv\")\n",
        "wikidata = spark.read.parquet(\"/content/drive/MyDrive/Project datasets/speaker_attributes.parquet\")"
      ],
      "execution_count": null,
      "outputs": []
    },
    {
      "cell_type": "markdown",
      "metadata": {
        "id": "6qFcGcKJAou0"
      },
      "source": [
        "## Exploratory data analysis"
      ]
    },
    {
      "cell_type": "markdown",
      "metadata": {
        "id": "rW658DMprMHP"
      },
      "source": [
        "As a first step, we will drop all duplicates in the sample as they don't give us any new useful information."
      ]
    },
    {
      "cell_type": "code",
      "metadata": {
        "colab": {
          "base_uri": "https://localhost:8080/",
          "height": 1000
        },
        "id": "72RvDXZoZWIe",
        "outputId": "86da8173-fe74-42be-dcd5-058054e2654c"
      },
      "source": [
        "quotes.drop_duplicates(subset=['quoteID'])"
      ],
      "execution_count": null,
      "outputs": [
        {
          "output_type": "execute_result",
          "data": {
            "text/html": [
              "<div>\n",
              "<style scoped>\n",
              "    .dataframe tbody tr th:only-of-type {\n",
              "        vertical-align: middle;\n",
              "    }\n",
              "\n",
              "    .dataframe tbody tr th {\n",
              "        vertical-align: top;\n",
              "    }\n",
              "\n",
              "    .dataframe thead th {\n",
              "        text-align: right;\n",
              "    }\n",
              "</style>\n",
              "<table border=\"1\" class=\"dataframe\">\n",
              "  <thead>\n",
              "    <tr style=\"text-align: right;\">\n",
              "      <th></th>\n",
              "      <th>Unnamed: 0</th>\n",
              "      <th>date</th>\n",
              "      <th>numOccurrences</th>\n",
              "      <th>phase</th>\n",
              "      <th>probas</th>\n",
              "      <th>qids</th>\n",
              "      <th>speaker</th>\n",
              "      <th>quotation</th>\n",
              "      <th>quoteID</th>\n",
              "      <th>urls</th>\n",
              "    </tr>\n",
              "  </thead>\n",
              "  <tbody>\n",
              "    <tr>\n",
              "      <th>0</th>\n",
              "      <td>0</td>\n",
              "      <td>2020-02-18 09:39:38</td>\n",
              "      <td>1</td>\n",
              "      <td>E</td>\n",
              "      <td>[['Leon Krier', '0.8559'], ['None', '0.1441']]</td>\n",
              "      <td>['Q970000']</td>\n",
              "      <td>Leon Krier</td>\n",
              "      <td>A city is not an accident but the result of co...</td>\n",
              "      <td>2020-02-18-000907</td>\n",
              "      <td>['http://allafrica.com/stories/202002180401.ht...</td>\n",
              "    </tr>\n",
              "    <tr>\n",
              "      <th>1</th>\n",
              "      <td>1</td>\n",
              "      <td>2020-02-16 13:00:00</td>\n",
              "      <td>9</td>\n",
              "      <td>E</td>\n",
              "      <td>[['David Elliott', '0.6047'], ['None', '0.3953']]</td>\n",
              "      <td>['Q2051773', 'Q21280660', 'Q24299940', 'Q37031...</td>\n",
              "      <td>David Elliott</td>\n",
              "      <td>an expectation of the contact Aboriginal and T...</td>\n",
              "      <td>2020-02-16-002091</td>\n",
              "      <td>['http://msn.com/en-au/news/australia/systemic...</td>\n",
              "    </tr>\n",
              "    <tr>\n",
              "      <th>2</th>\n",
              "      <td>2</td>\n",
              "      <td>2020-01-10 05:31:29</td>\n",
              "      <td>2</td>\n",
              "      <td>E</td>\n",
              "      <td>[['Jerry Yates', '0.3703'], ['None', '0.3142']...</td>\n",
              "      <td>['Q23463606']</td>\n",
              "      <td>Jerry Yates</td>\n",
              "      <td>And because Jerry is under the age of 24, Roth...</td>\n",
              "      <td>2020-01-10-004685</td>\n",
              "      <td>['http://www.gazetteandherald.co.uk/sport/1815...</td>\n",
              "    </tr>\n",
              "    <tr>\n",
              "      <th>3</th>\n",
              "      <td>3</td>\n",
              "      <td>2020-03-03 23:38:13</td>\n",
              "      <td>1</td>\n",
              "      <td>E</td>\n",
              "      <td>[['None', '0.984'], ['President Donald Trump',...</td>\n",
              "      <td>[]</td>\n",
              "      <td>None</td>\n",
              "      <td>But you know what? President Donald J. Trump -...</td>\n",
              "      <td>2020-03-03-008475</td>\n",
              "      <td>['https://www.westernjournal.com/black-comedia...</td>\n",
              "    </tr>\n",
              "    <tr>\n",
              "      <th>4</th>\n",
              "      <td>4</td>\n",
              "      <td>2020-03-19 12:04:38</td>\n",
              "      <td>4</td>\n",
              "      <td>E</td>\n",
              "      <td>[['Kareena Kapoor Khan', '0.6061'], ['None', '...</td>\n",
              "      <td>['Q184885']</td>\n",
              "      <td>Kareena Kapoor Khan</td>\n",
              "      <td>Does refusing to run on the treadmill count as...</td>\n",
              "      <td>2020-03-19-013834</td>\n",
              "      <td>['https://www.pinkvilla.com/entertainment/news...</td>\n",
              "    </tr>\n",
              "    <tr>\n",
              "      <th>...</th>\n",
              "      <td>...</td>\n",
              "      <td>...</td>\n",
              "      <td>...</td>\n",
              "      <td>...</td>\n",
              "      <td>...</td>\n",
              "      <td>...</td>\n",
              "      <td>...</td>\n",
              "      <td>...</td>\n",
              "      <td>...</td>\n",
              "      <td>...</td>\n",
              "    </tr>\n",
              "    <tr>\n",
              "      <th>1735238</th>\n",
              "      <td>1735238</td>\n",
              "      <td>2020-01-12 20:07:07</td>\n",
              "      <td>1</td>\n",
              "      <td>E</td>\n",
              "      <td>[['John D. Lynch', '0.8007'], ['None', '0.1993']]</td>\n",
              "      <td>['Q1699831']</td>\n",
              "      <td>John D. Lynch</td>\n",
              "      <td>We can't allow anybody in there, so we're basi...</td>\n",
              "      <td>2020-01-12-046632</td>\n",
              "      <td>['https://www.necn.com/news/national-internati...</td>\n",
              "    </tr>\n",
              "    <tr>\n",
              "      <th>1735239</th>\n",
              "      <td>1735239</td>\n",
              "      <td>2020-03-06 05:00:00</td>\n",
              "      <td>1</td>\n",
              "      <td>E</td>\n",
              "      <td>[['Helen Taylor', '0.8355'], ['None', '0.0945'...</td>\n",
              "      <td>['Q43392993', 'Q43395652', 'Q57420024']</td>\n",
              "      <td>Helen Taylor</td>\n",
              "      <td>What does fiction reading mean to women?</td>\n",
              "      <td>2020-03-06-080274</td>\n",
              "      <td>['https://www.brisbanetimes.com.au/culture/boo...</td>\n",
              "    </tr>\n",
              "    <tr>\n",
              "      <th>1735240</th>\n",
              "      <td>1735240</td>\n",
              "      <td>2020-02-04 11:05:00</td>\n",
              "      <td>6</td>\n",
              "      <td>E</td>\n",
              "      <td>[['None', '0.8854'], ['Elon Musk', '0.1146']]</td>\n",
              "      <td>[]</td>\n",
              "      <td>None</td>\n",
              "      <td>Whether you like Musk or not, he almost always...</td>\n",
              "      <td>2020-02-04-114051</td>\n",
              "      <td>['http://abs-cbnnews.com/business/02/05/20/ico...</td>\n",
              "    </tr>\n",
              "    <tr>\n",
              "      <th>1735241</th>\n",
              "      <td>1735241</td>\n",
              "      <td>2020-01-06 08:15:43</td>\n",
              "      <td>1</td>\n",
              "      <td>E</td>\n",
              "      <td>[['None', '0.8728'], ['Lee Hsien Loong', '0.12...</td>\n",
              "      <td>[]</td>\n",
              "      <td>None</td>\n",
              "      <td>While the uncertainties are not completely in ...</td>\n",
              "      <td>2020-01-06-084317</td>\n",
              "      <td>['http://www.businesstimes.com.sg/banking-fina...</td>\n",
              "    </tr>\n",
              "    <tr>\n",
              "      <th>1735242</th>\n",
              "      <td>1735242</td>\n",
              "      <td>2020-03-28 17:00:40</td>\n",
              "      <td>1</td>\n",
              "      <td>E</td>\n",
              "      <td>[['Amy Winehouse', '0.9469'], ['None', '0.0477...</td>\n",
              "      <td>['Q15897']</td>\n",
              "      <td>Amy Winehouse</td>\n",
              "      <td>You Know I' m No Good</td>\n",
              "      <td>2020-03-28-040445</td>\n",
              "      <td>['https://www.goldderby.com/article/2020/the-m...</td>\n",
              "    </tr>\n",
              "  </tbody>\n",
              "</table>\n",
              "<p>1735243 rows × 10 columns</p>\n",
              "</div>"
            ],
            "text/plain": [
              "         Unnamed: 0  ...                                               urls\n",
              "0                 0  ...  ['http://allafrica.com/stories/202002180401.ht...\n",
              "1                 1  ...  ['http://msn.com/en-au/news/australia/systemic...\n",
              "2                 2  ...  ['http://www.gazetteandherald.co.uk/sport/1815...\n",
              "3                 3  ...  ['https://www.westernjournal.com/black-comedia...\n",
              "4                 4  ...  ['https://www.pinkvilla.com/entertainment/news...\n",
              "...             ...  ...                                                ...\n",
              "1735238     1735238  ...  ['https://www.necn.com/news/national-internati...\n",
              "1735239     1735239  ...  ['https://www.brisbanetimes.com.au/culture/boo...\n",
              "1735240     1735240  ...  ['http://abs-cbnnews.com/business/02/05/20/ico...\n",
              "1735241     1735241  ...  ['http://www.businesstimes.com.sg/banking-fina...\n",
              "1735242     1735242  ...  ['https://www.goldderby.com/article/2020/the-m...\n",
              "\n",
              "[1735243 rows x 10 columns]"
            ]
          },
          "metadata": {},
          "execution_count": 8
        }
      ]
    },
    {
      "cell_type": "markdown",
      "metadata": {
        "id": "y53_KidRZWg0"
      },
      "source": [
        "We now obtain the number of quotes and features for each quote."
      ]
    },
    {
      "cell_type": "code",
      "metadata": {
        "colab": {
          "base_uri": "https://localhost:8080/",
          "height": 570
        },
        "id": "uC0oNBnzS2sd",
        "outputId": "67b216a5-396b-473c-e87b-b4cb1e6601fd"
      },
      "source": [
        "n_quotes = quotes.shape[0]\n",
        "n_features = quotes.shape[1]\n",
        "\n",
        "print('Number of quotes:', n_quotes)\n",
        "print('Number of features:', n_features)\n",
        "print('')\n",
        "\n",
        "quotes.head()"
      ],
      "execution_count": null,
      "outputs": [
        {
          "output_type": "stream",
          "name": "stdout",
          "text": [
            "Number of quotes: 1735243\n",
            "Number of features: 10\n",
            "\n"
          ]
        },
        {
          "output_type": "execute_result",
          "data": {
            "text/html": [
              "<div>\n",
              "<style scoped>\n",
              "    .dataframe tbody tr th:only-of-type {\n",
              "        vertical-align: middle;\n",
              "    }\n",
              "\n",
              "    .dataframe tbody tr th {\n",
              "        vertical-align: top;\n",
              "    }\n",
              "\n",
              "    .dataframe thead th {\n",
              "        text-align: right;\n",
              "    }\n",
              "</style>\n",
              "<table border=\"1\" class=\"dataframe\">\n",
              "  <thead>\n",
              "    <tr style=\"text-align: right;\">\n",
              "      <th></th>\n",
              "      <th>Unnamed: 0</th>\n",
              "      <th>date</th>\n",
              "      <th>numOccurrences</th>\n",
              "      <th>phase</th>\n",
              "      <th>probas</th>\n",
              "      <th>qids</th>\n",
              "      <th>speaker</th>\n",
              "      <th>quotation</th>\n",
              "      <th>quoteID</th>\n",
              "      <th>urls</th>\n",
              "    </tr>\n",
              "  </thead>\n",
              "  <tbody>\n",
              "    <tr>\n",
              "      <th>0</th>\n",
              "      <td>0</td>\n",
              "      <td>2020-02-18 09:39:38</td>\n",
              "      <td>1</td>\n",
              "      <td>E</td>\n",
              "      <td>[['Leon Krier', '0.8559'], ['None', '0.1441']]</td>\n",
              "      <td>['Q970000']</td>\n",
              "      <td>Leon Krier</td>\n",
              "      <td>A city is not an accident but the result of co...</td>\n",
              "      <td>2020-02-18-000907</td>\n",
              "      <td>['http://allafrica.com/stories/202002180401.ht...</td>\n",
              "    </tr>\n",
              "    <tr>\n",
              "      <th>1</th>\n",
              "      <td>1</td>\n",
              "      <td>2020-02-16 13:00:00</td>\n",
              "      <td>9</td>\n",
              "      <td>E</td>\n",
              "      <td>[['David Elliott', '0.6047'], ['None', '0.3953']]</td>\n",
              "      <td>['Q2051773', 'Q21280660', 'Q24299940', 'Q37031...</td>\n",
              "      <td>David Elliott</td>\n",
              "      <td>an expectation of the contact Aboriginal and T...</td>\n",
              "      <td>2020-02-16-002091</td>\n",
              "      <td>['http://msn.com/en-au/news/australia/systemic...</td>\n",
              "    </tr>\n",
              "    <tr>\n",
              "      <th>2</th>\n",
              "      <td>2</td>\n",
              "      <td>2020-01-10 05:31:29</td>\n",
              "      <td>2</td>\n",
              "      <td>E</td>\n",
              "      <td>[['Jerry Yates', '0.3703'], ['None', '0.3142']...</td>\n",
              "      <td>['Q23463606']</td>\n",
              "      <td>Jerry Yates</td>\n",
              "      <td>And because Jerry is under the age of 24, Roth...</td>\n",
              "      <td>2020-01-10-004685</td>\n",
              "      <td>['http://www.gazetteandherald.co.uk/sport/1815...</td>\n",
              "    </tr>\n",
              "    <tr>\n",
              "      <th>3</th>\n",
              "      <td>3</td>\n",
              "      <td>2020-03-03 23:38:13</td>\n",
              "      <td>1</td>\n",
              "      <td>E</td>\n",
              "      <td>[['None', '0.984'], ['President Donald Trump',...</td>\n",
              "      <td>[]</td>\n",
              "      <td>None</td>\n",
              "      <td>But you know what? President Donald J. Trump -...</td>\n",
              "      <td>2020-03-03-008475</td>\n",
              "      <td>['https://www.westernjournal.com/black-comedia...</td>\n",
              "    </tr>\n",
              "    <tr>\n",
              "      <th>4</th>\n",
              "      <td>4</td>\n",
              "      <td>2020-03-19 12:04:38</td>\n",
              "      <td>4</td>\n",
              "      <td>E</td>\n",
              "      <td>[['Kareena Kapoor Khan', '0.6061'], ['None', '...</td>\n",
              "      <td>['Q184885']</td>\n",
              "      <td>Kareena Kapoor Khan</td>\n",
              "      <td>Does refusing to run on the treadmill count as...</td>\n",
              "      <td>2020-03-19-013834</td>\n",
              "      <td>['https://www.pinkvilla.com/entertainment/news...</td>\n",
              "    </tr>\n",
              "  </tbody>\n",
              "</table>\n",
              "</div>"
            ],
            "text/plain": [
              "   Unnamed: 0  ...                                               urls\n",
              "0           0  ...  ['http://allafrica.com/stories/202002180401.ht...\n",
              "1           1  ...  ['http://msn.com/en-au/news/australia/systemic...\n",
              "2           2  ...  ['http://www.gazetteandherald.co.uk/sport/1815...\n",
              "3           3  ...  ['https://www.westernjournal.com/black-comedia...\n",
              "4           4  ...  ['https://www.pinkvilla.com/entertainment/news...\n",
              "\n",
              "[5 rows x 10 columns]"
            ]
          },
          "metadata": {},
          "execution_count": 9
        }
      ]
    },
    {
      "cell_type": "markdown",
      "metadata": {
        "id": "NxtlQbvKaVa1"
      },
      "source": [
        "We can see that there are some quotes with no speaker assigned. Let's compute the percentage of it and see if we can affort dropping them."
      ]
    },
    {
      "cell_type": "code",
      "metadata": {
        "colab": {
          "base_uri": "https://localhost:8080/"
        },
        "id": "fpoNSlyHXi0o",
        "outputId": "7a1233e6-99d1-460b-823c-0af18e9b516e"
      },
      "source": [
        "none_speaker = quotes[quotes['speaker'] == 'None'].shape[0]/n_quotes * 100\n",
        "print('Percentage of rows with no speaker assigned: {none_speaker} %.'.format(none_speaker=none_speaker))"
      ],
      "execution_count": null,
      "outputs": [
        {
          "output_type": "stream",
          "name": "stdout",
          "text": [
            "Percentage of rows with no speaker assigned: 34.56311306255089 %.\n"
          ]
        }
      ]
    },
    {
      "cell_type": "markdown",
      "metadata": {
        "id": "pbLhqpoxgaqy"
      },
      "source": [
        "As we will work with speakers in future steps, we believe this percentage it is not high enough to support the idea of keeping them. Thus, we will drop them."
      ]
    },
    {
      "cell_type": "code",
      "metadata": {
        "colab": {
          "base_uri": "https://localhost:8080/",
          "height": 587
        },
        "id": "-274gsYfg3Tg",
        "outputId": "bb201b6b-aaa8-48f0-9825-f96570b357e3"
      },
      "source": [
        "quotes = quotes[quotes['speaker'] != 'None']\n",
        "\n",
        "n_quotes = quotes.shape[0]\n",
        "n_features = quotes.shape[1]\n",
        "\n",
        "print('Number of quotes:', n_quotes)\n",
        "print('Number of features:', n_features)\n",
        "print('')\n",
        "\n",
        "quotes.head()"
      ],
      "execution_count": null,
      "outputs": [
        {
          "output_type": "stream",
          "name": "stdout",
          "text": [
            "Number of quotes: 1135489\n",
            "Number of features: 10\n",
            "\n"
          ]
        },
        {
          "output_type": "execute_result",
          "data": {
            "text/html": [
              "<div>\n",
              "<style scoped>\n",
              "    .dataframe tbody tr th:only-of-type {\n",
              "        vertical-align: middle;\n",
              "    }\n",
              "\n",
              "    .dataframe tbody tr th {\n",
              "        vertical-align: top;\n",
              "    }\n",
              "\n",
              "    .dataframe thead th {\n",
              "        text-align: right;\n",
              "    }\n",
              "</style>\n",
              "<table border=\"1\" class=\"dataframe\">\n",
              "  <thead>\n",
              "    <tr style=\"text-align: right;\">\n",
              "      <th></th>\n",
              "      <th>Unnamed: 0</th>\n",
              "      <th>date</th>\n",
              "      <th>numOccurrences</th>\n",
              "      <th>phase</th>\n",
              "      <th>probas</th>\n",
              "      <th>qids</th>\n",
              "      <th>speaker</th>\n",
              "      <th>quotation</th>\n",
              "      <th>quoteID</th>\n",
              "      <th>urls</th>\n",
              "    </tr>\n",
              "  </thead>\n",
              "  <tbody>\n",
              "    <tr>\n",
              "      <th>0</th>\n",
              "      <td>0</td>\n",
              "      <td>2020-02-18 09:39:38</td>\n",
              "      <td>1</td>\n",
              "      <td>E</td>\n",
              "      <td>[['Leon Krier', '0.8559'], ['None', '0.1441']]</td>\n",
              "      <td>['Q970000']</td>\n",
              "      <td>Leon Krier</td>\n",
              "      <td>A city is not an accident but the result of co...</td>\n",
              "      <td>2020-02-18-000907</td>\n",
              "      <td>['http://allafrica.com/stories/202002180401.ht...</td>\n",
              "    </tr>\n",
              "    <tr>\n",
              "      <th>1</th>\n",
              "      <td>1</td>\n",
              "      <td>2020-02-16 13:00:00</td>\n",
              "      <td>9</td>\n",
              "      <td>E</td>\n",
              "      <td>[['David Elliott', '0.6047'], ['None', '0.3953']]</td>\n",
              "      <td>['Q2051773', 'Q21280660', 'Q24299940', 'Q37031...</td>\n",
              "      <td>David Elliott</td>\n",
              "      <td>an expectation of the contact Aboriginal and T...</td>\n",
              "      <td>2020-02-16-002091</td>\n",
              "      <td>['http://msn.com/en-au/news/australia/systemic...</td>\n",
              "    </tr>\n",
              "    <tr>\n",
              "      <th>2</th>\n",
              "      <td>2</td>\n",
              "      <td>2020-01-10 05:31:29</td>\n",
              "      <td>2</td>\n",
              "      <td>E</td>\n",
              "      <td>[['Jerry Yates', '0.3703'], ['None', '0.3142']...</td>\n",
              "      <td>['Q23463606']</td>\n",
              "      <td>Jerry Yates</td>\n",
              "      <td>And because Jerry is under the age of 24, Roth...</td>\n",
              "      <td>2020-01-10-004685</td>\n",
              "      <td>['http://www.gazetteandherald.co.uk/sport/1815...</td>\n",
              "    </tr>\n",
              "    <tr>\n",
              "      <th>4</th>\n",
              "      <td>4</td>\n",
              "      <td>2020-03-19 12:04:38</td>\n",
              "      <td>4</td>\n",
              "      <td>E</td>\n",
              "      <td>[['Kareena Kapoor Khan', '0.6061'], ['None', '...</td>\n",
              "      <td>['Q184885']</td>\n",
              "      <td>Kareena Kapoor Khan</td>\n",
              "      <td>Does refusing to run on the treadmill count as...</td>\n",
              "      <td>2020-03-19-013834</td>\n",
              "      <td>['https://www.pinkvilla.com/entertainment/news...</td>\n",
              "    </tr>\n",
              "    <tr>\n",
              "      <th>5</th>\n",
              "      <td>5</td>\n",
              "      <td>2020-03-30 15:35:01</td>\n",
              "      <td>1</td>\n",
              "      <td>E</td>\n",
              "      <td>[['George Burns', '0.8485'], ['None', '0.1515']]</td>\n",
              "      <td>['Q5537452']</td>\n",
              "      <td>George Burns</td>\n",
              "      <td>Further, although we have no immediate need fo...</td>\n",
              "      <td>2020-03-30-013219</td>\n",
              "      <td>['http://juniorminingnetwork.com/junior-miner-...</td>\n",
              "    </tr>\n",
              "  </tbody>\n",
              "</table>\n",
              "</div>"
            ],
            "text/plain": [
              "   Unnamed: 0  ...                                               urls\n",
              "0           0  ...  ['http://allafrica.com/stories/202002180401.ht...\n",
              "1           1  ...  ['http://msn.com/en-au/news/australia/systemic...\n",
              "2           2  ...  ['http://www.gazetteandherald.co.uk/sport/1815...\n",
              "4           4  ...  ['https://www.pinkvilla.com/entertainment/news...\n",
              "5           5  ...  ['http://juniorminingnetwork.com/junior-miner-...\n",
              "\n",
              "[5 rows x 10 columns]"
            ]
          },
          "metadata": {},
          "execution_count": 11
        }
      ]
    },
    {
      "cell_type": "markdown",
      "metadata": {
        "id": "bTuqRXAwhZek"
      },
      "source": [
        "We will now check if there are some missing values in our sample."
      ]
    },
    {
      "cell_type": "code",
      "metadata": {
        "colab": {
          "base_uri": "https://localhost:8080/"
        },
        "id": "yvnSljtqgS2f",
        "outputId": "52ca1611-5b1a-43a7-c5ac-4a66b60c8d9a"
      },
      "source": [
        "missing_values = quotes.isnull().sum(axis=1)\n",
        "sum = missing_values[missing_values > 0].count()\n",
        "print('Percentage of rows with missing values: {sum} %.'.format(sum=sum))"
      ],
      "execution_count": null,
      "outputs": [
        {
          "output_type": "stream",
          "name": "stdout",
          "text": [
            "Percentage of rows with missing values: 0 %.\n"
          ]
        }
      ]
    },
    {
      "cell_type": "markdown",
      "metadata": {
        "id": "hK-VjBGShsFu"
      },
      "source": [
        "We don't have any missing values so there is no need to take any action."
      ]
    },
    {
      "cell_type": "markdown",
      "metadata": {
        "id": "g9CKjPEfjJL5"
      },
      "source": [
        "## Feature processing"
      ]
    },
    {
      "cell_type": "markdown",
      "metadata": {
        "id": "3MdFW3pdrR7i"
      },
      "source": [
        "For the project we are trying to implement we will need the following features:\n",
        "\n",
        "1.   date\n",
        "2.   numOccurrences\n",
        "3.   qids\n",
        "4.   speaker\n",
        "5.   quotation\n",
        "6.   quoteID\n",
        "7.   urls\n",
        "\n",
        "We will not use the following features:\n",
        "\n",
        "1.   phase\n",
        "2.   probas\n",
        "\n",
        "Thus, we will drop the these features."
      ]
    },
    {
      "cell_type": "code",
      "metadata": {
        "colab": {
          "base_uri": "https://localhost:8080/",
          "height": 293
        },
        "id": "d-Z4nhQllHgE",
        "outputId": "3f8e8cfd-0f64-4150-b385-fadd820df8fb"
      },
      "source": [
        "quotes = quotes[['date', 'numOccurrences', 'qids', 'speaker', 'quotation', 'quoteID', 'urls']]\n",
        "quotes.head()"
      ],
      "execution_count": null,
      "outputs": [
        {
          "output_type": "execute_result",
          "data": {
            "text/html": [
              "<div>\n",
              "<style scoped>\n",
              "    .dataframe tbody tr th:only-of-type {\n",
              "        vertical-align: middle;\n",
              "    }\n",
              "\n",
              "    .dataframe tbody tr th {\n",
              "        vertical-align: top;\n",
              "    }\n",
              "\n",
              "    .dataframe thead th {\n",
              "        text-align: right;\n",
              "    }\n",
              "</style>\n",
              "<table border=\"1\" class=\"dataframe\">\n",
              "  <thead>\n",
              "    <tr style=\"text-align: right;\">\n",
              "      <th></th>\n",
              "      <th>date</th>\n",
              "      <th>numOccurrences</th>\n",
              "      <th>qids</th>\n",
              "      <th>speaker</th>\n",
              "      <th>quotation</th>\n",
              "      <th>quoteID</th>\n",
              "      <th>urls</th>\n",
              "    </tr>\n",
              "  </thead>\n",
              "  <tbody>\n",
              "    <tr>\n",
              "      <th>0</th>\n",
              "      <td>2020-02-18 09:39:38</td>\n",
              "      <td>1</td>\n",
              "      <td>['Q970000']</td>\n",
              "      <td>Leon Krier</td>\n",
              "      <td>A city is not an accident but the result of co...</td>\n",
              "      <td>2020-02-18-000907</td>\n",
              "      <td>['http://allafrica.com/stories/202002180401.ht...</td>\n",
              "    </tr>\n",
              "    <tr>\n",
              "      <th>1</th>\n",
              "      <td>2020-02-16 13:00:00</td>\n",
              "      <td>9</td>\n",
              "      <td>['Q2051773', 'Q21280660', 'Q24299940', 'Q37031...</td>\n",
              "      <td>David Elliott</td>\n",
              "      <td>an expectation of the contact Aboriginal and T...</td>\n",
              "      <td>2020-02-16-002091</td>\n",
              "      <td>['http://msn.com/en-au/news/australia/systemic...</td>\n",
              "    </tr>\n",
              "    <tr>\n",
              "      <th>2</th>\n",
              "      <td>2020-01-10 05:31:29</td>\n",
              "      <td>2</td>\n",
              "      <td>['Q23463606']</td>\n",
              "      <td>Jerry Yates</td>\n",
              "      <td>And because Jerry is under the age of 24, Roth...</td>\n",
              "      <td>2020-01-10-004685</td>\n",
              "      <td>['http://www.gazetteandherald.co.uk/sport/1815...</td>\n",
              "    </tr>\n",
              "    <tr>\n",
              "      <th>4</th>\n",
              "      <td>2020-03-19 12:04:38</td>\n",
              "      <td>4</td>\n",
              "      <td>['Q184885']</td>\n",
              "      <td>Kareena Kapoor Khan</td>\n",
              "      <td>Does refusing to run on the treadmill count as...</td>\n",
              "      <td>2020-03-19-013834</td>\n",
              "      <td>['https://www.pinkvilla.com/entertainment/news...</td>\n",
              "    </tr>\n",
              "    <tr>\n",
              "      <th>5</th>\n",
              "      <td>2020-03-30 15:35:01</td>\n",
              "      <td>1</td>\n",
              "      <td>['Q5537452']</td>\n",
              "      <td>George Burns</td>\n",
              "      <td>Further, although we have no immediate need fo...</td>\n",
              "      <td>2020-03-30-013219</td>\n",
              "      <td>['http://juniorminingnetwork.com/junior-miner-...</td>\n",
              "    </tr>\n",
              "  </tbody>\n",
              "</table>\n",
              "</div>"
            ],
            "text/plain": [
              "                  date  ...                                               urls\n",
              "0  2020-02-18 09:39:38  ...  ['http://allafrica.com/stories/202002180401.ht...\n",
              "1  2020-02-16 13:00:00  ...  ['http://msn.com/en-au/news/australia/systemic...\n",
              "2  2020-01-10 05:31:29  ...  ['http://www.gazetteandherald.co.uk/sport/1815...\n",
              "4  2020-03-19 12:04:38  ...  ['https://www.pinkvilla.com/entertainment/news...\n",
              "5  2020-03-30 15:35:01  ...  ['http://juniorminingnetwork.com/junior-miner-...\n",
              "\n",
              "[5 rows x 7 columns]"
            ]
          },
          "metadata": {},
          "execution_count": 13
        }
      ]
    },
    {
      "cell_type": "code",
      "metadata": {
        "colab": {
          "base_uri": "https://localhost:8080/"
        },
        "id": "NJqnQjCNneZ_",
        "outputId": "27bf2dd5-0897-4fcc-819d-54b44eea0eab"
      },
      "source": [
        "quotes.dtypes"
      ],
      "execution_count": null,
      "outputs": [
        {
          "output_type": "execute_result",
          "data": {
            "text/plain": [
              "date              object\n",
              "numOccurrences     int64\n",
              "qids              object\n",
              "speaker           object\n",
              "quotation         object\n",
              "quoteID           object\n",
              "urls              object\n",
              "dtype: object"
            ]
          },
          "metadata": {},
          "execution_count": 15
        }
      ]
    },
    {
      "cell_type": "markdown",
      "metadata": {
        "id": "SUUAhk1VQvtc"
      },
      "source": [
        "We observe that the 'date' column is dtype Object, we transform it to datetime dtype."
      ]
    },
    {
      "cell_type": "code",
      "metadata": {
        "id": "gAQ5xIDn0pJZ"
      },
      "source": [
        "quotes['date_format'] = pd.to_datetime(quotes['date'])"
      ],
      "execution_count": null,
      "outputs": []
    },
    {
      "cell_type": "markdown",
      "metadata": {
        "id": "fQMGz4mTZ3eq"
      },
      "source": [
        "## Cleaning texts"
      ]
    },
    {
      "cell_type": "markdown",
      "metadata": {
        "id": "JYiD-7rprWR2"
      },
      "source": [
        "Text is a form of unstructured data. Unfortunately, machines cannot read raw text like that so we will first clean the quotation column.\n",
        "* **Case normalization**: When we write, we capitalize various words in our sentence/paragraph for different reasons. It’s important to normalize the case of our words so that every word is in the same case and the computer doesn’t process the same word as 2 different tokens.\n",
        "* **Removing stopwords**: In English there are words that are used more frequently than others. However, they do not necessarily add more value to a sentence, hence it is safe to say that we can ignore them and remove them from our text."
      ]
    },
    {
      "cell_type": "code",
      "metadata": {
        "id": "23unL6s9cEf6",
        "colab": {
          "base_uri": "https://localhost:8080/"
        },
        "outputId": "32f12903-dbd3-487f-9a59-2ad1cec84f7a"
      },
      "source": [
        "# Importing the libraries\n",
        "import nltk\n",
        "from nltk.corpus import stopwords\n",
        "nltk.download(\"stopwords\")\n",
        "\n",
        "stop_words = set(stopwords.words(\"english\"))\n",
        "print(stop_words)"
      ],
      "execution_count": null,
      "outputs": [
        {
          "output_type": "stream",
          "name": "stdout",
          "text": [
            "[nltk_data] Downloading package stopwords to /root/nltk_data...\n",
            "[nltk_data]   Unzipping corpora/stopwords.zip.\n",
            "{'our', 'as', 'of', \"aren't\", \"weren't\", 'didn', 'is', 'during', 'than', 'll', 'myself', 'which', 'him', \"mustn't\", 'each', 'below', 'then', 'ain', 'when', 'further', 'any', \"didn't\", 'it', 'if', 'or', 'yourself', \"mightn't\", 're', 'your', 'again', 'up', 'with', 'me', 's', 'by', 'such', 'mightn', 'she', 'wasn', 'aren', 'most', 've', 'all', 'ma', 'we', 'has', 'yourselves', 'only', 't', 'do', 'herself', 'its', 'his', 'under', 'after', 'more', \"you're\", \"wasn't\", 'whom', 'this', 'needn', 'now', 'very', 'y', \"hasn't\", 'while', 'isn', 'out', 'the', 'where', \"should've\", \"shouldn't\", 'down', 'are', 'above', \"isn't\", 'won', 'doesn', 'few', \"won't\", 'have', \"it's\", 'he', 'what', 'these', 'a', \"wouldn't\", 'in', 'itself', 'been', 'was', \"needn't\", 'having', 'until', 'but', 'were', 'hasn', 'that', 'some', 'hadn', \"haven't\", 'himself', 'into', \"don't\", 'hers', 'between', 'how', 'through', 'shan', 'don', 'her', 'ourselves', 'had', 'there', 'for', \"you'd\", 'themselves', 'will', 'who', 'no', 'to', 'same', 'm', 'can', 'over', \"shan't\", 'should', 'them', 'theirs', 'couldn', \"she's\", 'why', 'mustn', 'against', 'so', 'on', \"hadn't\", 'an', 'nor', 'off', 'doing', \"couldn't\", 'i', 'those', 'at', 'being', 'once', 'here', 'they', 'does', 'did', 'both', 'o', \"you'll\", 'ours', \"that'll\", 'before', 'about', 'too', 'haven', 'not', 'my', 'yours', 'you', 'd', 'other', 'their', 'own', 'weren', \"doesn't\", 'am', \"you've\", 'from', 'just', 'shouldn', 'wouldn', 'be', 'and', 'because'}\n"
          ]
        }
      ]
    },
    {
      "cell_type": "markdown",
      "metadata": {
        "id": "KeeUqtSgiKZm"
      },
      "source": [
        "* **Removing unicode**: ASCII formats emojis and other non-ASCII characters as Unicode. Essentially, Unicode is a universal character encoding standard in which each character and symbol in all languages have an assigned code. Unicode is required because it is the only encoding standard that allows us to retrieve or join data using a variety of different languages but the issue is that it’s unreadable in ASCII format.\n",
        "* **Removing punctuation**: Punctuation is not valuable for the problem that we are attempting to solve, it just adds noise, so, we are better off removing them from our data."
      ]
    },
    {
      "cell_type": "code",
      "metadata": {
        "id": "C5sEhzwgel_9",
        "colab": {
          "base_uri": "https://localhost:8080/"
        },
        "outputId": "f717eded-625b-4c55-e352-ad1e4a50ece1"
      },
      "source": [
        "import string\n",
        "\n",
        "punctuation = set(string.punctuation) \n",
        "print(punctuation)"
      ],
      "execution_count": null,
      "outputs": [
        {
          "output_type": "stream",
          "name": "stdout",
          "text": [
            "{'+', '~', '}', '$', \"'\", '?', '(', '/', ')', '\\\\', ',', '[', '|', '.', '&', '_', ']', '>', '!', '*', '@', '{', ':', '-', '=', '#', ';', '`', '<', '^', '%', '\"'}\n"
          ]
        }
      ]
    },
    {
      "cell_type": "markdown",
      "metadata": {
        "id": "DWoYznYtiTtl"
      },
      "source": [
        "* **Stemming**: We want the computer to be able to understand that “walked”, “walk” and “walking” are all merely different tenses of the same word, otherwise, they’d be treated differently. In linguistic morphology and information retrieval, stemming is the process of reducing inflected words to their word stem, base, or root form — generally a written word form."
      ]
    },
    {
      "cell_type": "code",
      "metadata": {
        "id": "Xy8iw7_Qf5_u"
      },
      "source": [
        "import nltk\n",
        "from nltk.stem.porter import PorterStemmer\n",
        "\n",
        "stemmer = PorterStemmer()"
      ],
      "execution_count": null,
      "outputs": []
    },
    {
      "cell_type": "code",
      "metadata": {
        "id": "cH5xmGoiKBr7"
      },
      "source": [
        "\"\"\" Implement function that cleans the string text given in the parameters.\"\"\" \n",
        "def clean_text(text):\n",
        "  # 1. Case normalization: Lowercasing the text\n",
        "  text = text.lower()\n",
        "  \n",
        "  # 2. Removing Stopwords\n",
        "  text = \" \".join([word for word in text.split() if word not in stop_words])\n",
        "\n",
        "  # 3. Removing unicode: encoding text to ASCII format and decoding it after\n",
        "  text = text.encode(encoding=\"ascii\", errors=\"ignore\")\n",
        "  text = text.decode()\n",
        "\n",
        "  # 4. Removing punctuation\n",
        "  text = \"\".join([ch for ch in text if ch not in punctuation])\n",
        "\n",
        "  # 5. Stemming and removing extra whitespace\n",
        "  text = \" \".join([stemmer.stem(word) for word in text.split()])\n",
        "\n",
        "  return text"
      ],
      "execution_count": null,
      "outputs": []
    },
    {
      "cell_type": "code",
      "metadata": {
        "id": "GPlgX8TBrPh9",
        "colab": {
          "base_uri": "https://localhost:8080/"
        },
        "outputId": "b8869633-04b7-4a36-ad63-ddeac7c11670"
      },
      "source": [
        "# Example to see if function clean_text() works\n",
        "text = \"Python is easy \\u200c to learn. Let's do it!     I am starting to believe it\" \n",
        "text = clean_text(text)\n",
        "text"
      ],
      "execution_count": null,
      "outputs": [
        {
          "output_type": "execute_result",
          "data": {
            "application/vnd.google.colaboratory.intrinsic+json": {
              "type": "string"
            },
            "text/plain": [
              "'python easi learn let it start believ'"
            ]
          },
          "metadata": {},
          "execution_count": 21
        }
      ]
    },
    {
      "cell_type": "code",
      "metadata": {
        "id": "nrO3ceqShRnH"
      },
      "source": [
        "# Cleaning quotation column\n",
        "quotes['clean_quotation'] = quotes['quotation'].apply(lambda x: clean_text(x))"
      ],
      "execution_count": null,
      "outputs": []
    },
    {
      "cell_type": "markdown",
      "metadata": {
        "id": "XPQQn3Xlo3Xi"
      },
      "source": [
        "## Selecting quotations that talk about climate change"
      ]
    },
    {
      "cell_type": "markdown",
      "metadata": {
        "id": "IEFF2vx1riJB"
      },
      "source": [
        "After cleaning the text of the quotations, we can check which of them talk about climate change. In order to do that, we will check if these quotations contain words from a list of climate related words that we got from [wikipedia](https://en.wikipedia.org/wiki/Glossary_of_climate_change)."
      ]
    },
    {
      "cell_type": "code",
      "metadata": {
        "id": "Ja4UQug_r-uW",
        "colab": {
          "base_uri": "https://localhost:8080/"
        },
        "outputId": "6c3d48e5-acab-432b-8170-af8fde12708e"
      },
      "source": [
        "!pip install requests\n",
        "\n",
        "import requests\n",
        "\n",
        "response = requests.get(\n",
        "\turl=\"https://en.wikipedia.org/wiki/Glossary_of_climate_change\",\n",
        ")\n",
        "\n",
        "print(response.status_code)"
      ],
      "execution_count": null,
      "outputs": [
        {
          "output_type": "stream",
          "name": "stdout",
          "text": [
            "Requirement already satisfied: requests in /usr/local/lib/python3.7/dist-packages (2.23.0)\n",
            "Requirement already satisfied: urllib3!=1.25.0,!=1.25.1,<1.26,>=1.21.1 in /usr/local/lib/python3.7/dist-packages (from requests) (1.24.3)\n",
            "Requirement already satisfied: idna<3,>=2.5 in /usr/local/lib/python3.7/dist-packages (from requests) (2.10)\n",
            "Requirement already satisfied: certifi>=2017.4.17 in /usr/local/lib/python3.7/dist-packages (from requests) (2021.10.8)\n",
            "Requirement already satisfied: chardet<4,>=3.0.2 in /usr/local/lib/python3.7/dist-packages (from requests) (3.0.4)\n",
            "200\n"
          ]
        }
      ]
    },
    {
      "cell_type": "markdown",
      "metadata": {
        "id": "tmRDyiV0Swc1"
      },
      "source": [
        "We are also cleaning this data so it will match the quotations."
      ]
    },
    {
      "cell_type": "code",
      "metadata": {
        "id": "HHqV4MDlsogq",
        "colab": {
          "base_uri": "https://localhost:8080/",
          "height": 157
        },
        "outputId": "fe8e31f8-2976-4622-ce16-9d1ef6006f5b"
      },
      "source": [
        "!pip install beautifulsoup4\n",
        "\n",
        "from bs4 import BeautifulSoup\n",
        "\n",
        "soup = BeautifulSoup(response.content, 'html.parser')\n",
        "\n",
        "climate_set = set()\n",
        "for s in soup.find_all('dt', attrs={'glossary'}):\n",
        "  climate_set.add(str(s.text))\n",
        "\n",
        "# Clean climate set\n",
        "climate_set = [clean_text(word) for word in climate_set]\n",
        "\n",
        "climate_related_words = '|'.join([word for word in climate_set])\n",
        "climate_related_words"
      ],
      "execution_count": null,
      "outputs": [
        {
          "output_type": "stream",
          "name": "stdout",
          "text": [
            "Requirement already satisfied: beautifulsoup4 in /usr/local/lib/python3.7/dist-packages (4.6.3)\n"
          ]
        },
        {
          "output_type": "execute_result",
          "data": {
            "application/vnd.google.colaboratory.intrinsic+json": {
              "type": "string"
            },
            "text/plain": [
              "'solar wind|carbon tax|tip point climat system|climat system|arctic amplif|interdecad pacif oscil ipo|kyoto protocol|cosmic ray|climat chang|strand asset|albedo|enter ferment|global warm denial|clathrat gun hypothesi|without measur wom|world climat report|cool tropic paradox|glacial earthquak|nitrou oxid|ice core|climat forc|invas speci|polici measur pam|forest dieback|climat chang feedback|phenolog|climat sensit|emiss trade|homogen|season creep|global warm gw|climat crisi|arctic oscil ao|polar citi|holocen|carbon dioxid|freon|mediev warm period|cap trade|addit measur wam|el niosouthern oscil enso|antigreenhous effect|instrument temperatur record|argo|glacial motion|ozon layer|sea level rise|regim shift|proxi|pacif decad oscil pdo|atmospher window|irradi|paleoclimatolog|holocen climat optimum|volcan|global cool|climatolog|ozon deplet|mitig global warm|atmospher scienc|urban heat island|global climat regim|ocean planet|ecoeffici|paleoceneeocen thermal maximum petm|greenhous ga inventori|arctic shrinkag|blyttsernand system|global warm controversi|adapt|anox event|keel curv|greenhous ga|carbon footprint|addition|carbon cycl|climat cycl|measur wem|solar variat|emiss inventori|global warm period|carbon diet|climat variabl|snowbal earth|meteorolog|bond event|carbon sink|dendroclimatolog|climat|emiss intens|global dim|north atlant oscil|detect attribut|environment crime|greenhous effect|ecotax|ecosystem servic|hockey stick graph|greenhous debt|climat chang denial|insol|emiss standard|magnetospher|100000year problem|stratospher aerosol inject|ice age|climat resili|climat oscil|arctic dipol anomali|north atlant deep water|tex86|climat movement|attribut recent climat chang|orbit forc|nonradi forc|thermoclin|global warm potenti|thermohalin circul|mode variabl|carbon sequestr|ozon|mauna loa|remov unit|global climat model gcm|intergovernment panel climat chang ipcc|earth atmospher|anthropogen climat chang|carbon offset|runaway greenhous effect|polar amplif|slash burn|histor temperatur record|antarct oscil aao|antarctica cool controversi|climat ethic|climat model|atlant multidecad oscil amo|callendar effect|methan|anthropogen global warm agw|radi forc|feedback|environment migrant|climat commit|climat chang mitig|sunspot|climat stabil wedg|water vapor|littl ice age|milankovitch cycl|desertif|anthropogen|fossil fuel|earthshin|maunder minimum|climat legisl|gulf stream|weather|iri hypothesi|antarct bottom water abw|climat justic'"
            ]
          },
          "metadata": {},
          "execution_count": 24
        }
      ]
    },
    {
      "cell_type": "markdown",
      "metadata": {
        "id": "bgjWWULmS44L"
      },
      "source": [
        "Let's now filter the data and select only those rows related to climate change. For this purpose we will only take quotes that contain climate related words."
      ]
    },
    {
      "cell_type": "code",
      "metadata": {
        "id": "HQXzg78Dpd-u",
        "colab": {
          "base_uri": "https://localhost:8080/",
          "height": 449
        },
        "outputId": "a1f25abb-e0cb-4c45-c018-d17d2f6a2efe"
      },
      "source": [
        "climate_quotations = quotes[quotes['clean_quotation'].str.contains(climate_related_words)].copy()\n",
        "climate_quotations.head()"
      ],
      "execution_count": null,
      "outputs": [
        {
          "output_type": "execute_result",
          "data": {
            "text/html": [
              "<div>\n",
              "<style scoped>\n",
              "    .dataframe tbody tr th:only-of-type {\n",
              "        vertical-align: middle;\n",
              "    }\n",
              "\n",
              "    .dataframe tbody tr th {\n",
              "        vertical-align: top;\n",
              "    }\n",
              "\n",
              "    .dataframe thead th {\n",
              "        text-align: right;\n",
              "    }\n",
              "</style>\n",
              "<table border=\"1\" class=\"dataframe\">\n",
              "  <thead>\n",
              "    <tr style=\"text-align: right;\">\n",
              "      <th></th>\n",
              "      <th>date</th>\n",
              "      <th>numOccurrences</th>\n",
              "      <th>qids</th>\n",
              "      <th>speaker</th>\n",
              "      <th>quotation</th>\n",
              "      <th>quoteID</th>\n",
              "      <th>urls</th>\n",
              "      <th>date_format</th>\n",
              "      <th>clean_quotation</th>\n",
              "    </tr>\n",
              "  </thead>\n",
              "  <tbody>\n",
              "    <tr>\n",
              "      <th>31</th>\n",
              "      <td>2020-02-13 20:48:02</td>\n",
              "      <td>1</td>\n",
              "      <td>['Q5387591']</td>\n",
              "      <td>Eric Swanson</td>\n",
              "      <td>Weather is a serious issue!</td>\n",
              "      <td>2020-02-13-117618</td>\n",
              "      <td>['https://www.dvidshub.net/news/363017/third-m...</td>\n",
              "      <td>2020-02-13 20:48:02</td>\n",
              "      <td>weather seriou issu</td>\n",
              "    </tr>\n",
              "    <tr>\n",
              "      <th>179</th>\n",
              "      <td>2020-01-19 05:02:00</td>\n",
              "      <td>1</td>\n",
              "      <td>['Q62870', 'Q7608940']</td>\n",
              "      <td>Stephen Cook</td>\n",
              "      <td>Some of these ideas will play in to our existi...</td>\n",
              "      <td>2020-01-19-035805</td>\n",
              "      <td>['http://www.telegraph.co.uk/business/2020/01/...</td>\n",
              "      <td>2020-01-19 05:02:00</td>\n",
              "      <td>idea play exist oil ga busi make effici lower ...</td>\n",
              "    </tr>\n",
              "    <tr>\n",
              "      <th>445</th>\n",
              "      <td>2020-01-15 10:03:36</td>\n",
              "      <td>1</td>\n",
              "      <td>['Q471851', 'Q56597630', 'Q56725722', 'Q6140167']</td>\n",
              "      <td>James Murdoch</td>\n",
              "      <td>promoting false scepticism about climate chang...</td>\n",
              "      <td>2020-01-15-066837</td>\n",
              "      <td>['https://www.carbonbrief.org/daily-brief/blac...</td>\n",
              "      <td>2020-01-15 10:03:36</td>\n",
              "      <td>promot fals sceptic climat chang deadli bushfi...</td>\n",
              "    </tr>\n",
              "    <tr>\n",
              "      <th>452</th>\n",
              "      <td>2020-01-29 18:39:34</td>\n",
              "      <td>3</td>\n",
              "      <td>['Q15995308', 'Q16185474', 'Q24734892', 'Q2519...</td>\n",
              "      <td>Greg Miller</td>\n",
              "      <td>The tunnel work will have a huge impact on how...</td>\n",
              "      <td>2020-01-29-093546</td>\n",
              "      <td>['http://home.nzcity.co.nz/nl.aspx?4432710', '...</td>\n",
              "      <td>2020-01-29 18:39:34</td>\n",
              "      <td>tunnel work huge impact freight move northland...</td>\n",
              "    </tr>\n",
              "    <tr>\n",
              "      <th>528</th>\n",
              "      <td>2020-01-03 22:30:03</td>\n",
              "      <td>1</td>\n",
              "      <td>['Q7611923']</td>\n",
              "      <td>Steve Benen</td>\n",
              "      <td>The United States is sending approximately 3,0...</td>\n",
              "      <td>2020-01-03-061651</td>\n",
              "      <td>['http://www.msnbc.com/rachel-maddow-show/frid...</td>\n",
              "      <td>2020-01-03 22:30:03</td>\n",
              "      <td>unit state send approxim 3000 soldier middl ea...</td>\n",
              "    </tr>\n",
              "  </tbody>\n",
              "</table>\n",
              "</div>"
            ],
            "text/plain": [
              "                    date  ...                                    clean_quotation\n",
              "31   2020-02-13 20:48:02  ...                                weather seriou issu\n",
              "179  2020-01-19 05:02:00  ...  idea play exist oil ga busi make effici lower ...\n",
              "445  2020-01-15 10:03:36  ...  promot fals sceptic climat chang deadli bushfi...\n",
              "452  2020-01-29 18:39:34  ...  tunnel work huge impact freight move northland...\n",
              "528  2020-01-03 22:30:03  ...  unit state send approxim 3000 soldier middl ea...\n",
              "\n",
              "[5 rows x 9 columns]"
            ]
          },
          "metadata": {},
          "execution_count": 25
        }
      ]
    },
    {
      "cell_type": "markdown",
      "metadata": {
        "id": "ynaE565HUlqd"
      },
      "source": [
        "From now on, we will work with cleaned quotations."
      ]
    },
    {
      "cell_type": "markdown",
      "metadata": {
        "id": "2nhrDBrgz1G2"
      },
      "source": [
        "## Frequency of climate related words per quotation"
      ]
    },
    {
      "cell_type": "markdown",
      "metadata": {
        "id": "_LPavoBRrnCz"
      },
      "source": [
        "The first step will be to measure amount of climate related words we find in each quotation."
      ]
    },
    {
      "cell_type": "code",
      "metadata": {
        "id": "kVgFXuBJI8bp",
        "colab": {
          "base_uri": "https://localhost:8080/",
          "height": 521
        },
        "outputId": "97ef9161-07bb-42b9-ce77-841578a5c22b"
      },
      "source": [
        "climate_quotations['n_climate_words'] = climate_quotations['clean_quotation'].str.count(climate_related_words)\n",
        "climate_quotations.head()"
      ],
      "execution_count": null,
      "outputs": [
        {
          "output_type": "execute_result",
          "data": {
            "text/html": [
              "<div>\n",
              "<style scoped>\n",
              "    .dataframe tbody tr th:only-of-type {\n",
              "        vertical-align: middle;\n",
              "    }\n",
              "\n",
              "    .dataframe tbody tr th {\n",
              "        vertical-align: top;\n",
              "    }\n",
              "\n",
              "    .dataframe thead th {\n",
              "        text-align: right;\n",
              "    }\n",
              "</style>\n",
              "<table border=\"1\" class=\"dataframe\">\n",
              "  <thead>\n",
              "    <tr style=\"text-align: right;\">\n",
              "      <th></th>\n",
              "      <th>date</th>\n",
              "      <th>numOccurrences</th>\n",
              "      <th>qids</th>\n",
              "      <th>speaker</th>\n",
              "      <th>quotation</th>\n",
              "      <th>quoteID</th>\n",
              "      <th>urls</th>\n",
              "      <th>date_format</th>\n",
              "      <th>clean_quotation</th>\n",
              "      <th>n_climate_words</th>\n",
              "    </tr>\n",
              "  </thead>\n",
              "  <tbody>\n",
              "    <tr>\n",
              "      <th>31</th>\n",
              "      <td>2020-02-13 20:48:02</td>\n",
              "      <td>1</td>\n",
              "      <td>['Q5387591']</td>\n",
              "      <td>Eric Swanson</td>\n",
              "      <td>Weather is a serious issue!</td>\n",
              "      <td>2020-02-13-117618</td>\n",
              "      <td>['https://www.dvidshub.net/news/363017/third-m...</td>\n",
              "      <td>2020-02-13 20:48:02</td>\n",
              "      <td>weather seriou issu</td>\n",
              "      <td>1</td>\n",
              "    </tr>\n",
              "    <tr>\n",
              "      <th>179</th>\n",
              "      <td>2020-01-19 05:02:00</td>\n",
              "      <td>1</td>\n",
              "      <td>['Q62870', 'Q7608940']</td>\n",
              "      <td>Stephen Cook</td>\n",
              "      <td>Some of these ideas will play in to our existi...</td>\n",
              "      <td>2020-01-19-035805</td>\n",
              "      <td>['http://www.telegraph.co.uk/business/2020/01/...</td>\n",
              "      <td>2020-01-19 05:02:00</td>\n",
              "      <td>idea play exist oil ga busi make effici lower ...</td>\n",
              "      <td>1</td>\n",
              "    </tr>\n",
              "    <tr>\n",
              "      <th>445</th>\n",
              "      <td>2020-01-15 10:03:36</td>\n",
              "      <td>1</td>\n",
              "      <td>['Q471851', 'Q56597630', 'Q56725722', 'Q6140167']</td>\n",
              "      <td>James Murdoch</td>\n",
              "      <td>promoting false scepticism about climate chang...</td>\n",
              "      <td>2020-01-15-066837</td>\n",
              "      <td>['https://www.carbonbrief.org/daily-brief/blac...</td>\n",
              "      <td>2020-01-15 10:03:36</td>\n",
              "      <td>promot fals sceptic climat chang deadli bushfi...</td>\n",
              "      <td>1</td>\n",
              "    </tr>\n",
              "    <tr>\n",
              "      <th>452</th>\n",
              "      <td>2020-01-29 18:39:34</td>\n",
              "      <td>3</td>\n",
              "      <td>['Q15995308', 'Q16185474', 'Q24734892', 'Q2519...</td>\n",
              "      <td>Greg Miller</td>\n",
              "      <td>The tunnel work will have a huge impact on how...</td>\n",
              "      <td>2020-01-29-093546</td>\n",
              "      <td>['http://home.nzcity.co.nz/nl.aspx?4432710', '...</td>\n",
              "      <td>2020-01-29 18:39:34</td>\n",
              "      <td>tunnel work huge impact freight move northland...</td>\n",
              "      <td>1</td>\n",
              "    </tr>\n",
              "    <tr>\n",
              "      <th>528</th>\n",
              "      <td>2020-01-03 22:30:03</td>\n",
              "      <td>1</td>\n",
              "      <td>['Q7611923']</td>\n",
              "      <td>Steve Benen</td>\n",
              "      <td>The United States is sending approximately 3,0...</td>\n",
              "      <td>2020-01-03-061651</td>\n",
              "      <td>['http://www.msnbc.com/rachel-maddow-show/frid...</td>\n",
              "      <td>2020-01-03 22:30:03</td>\n",
              "      <td>unit state send approxim 3000 soldier middl ea...</td>\n",
              "      <td>1</td>\n",
              "    </tr>\n",
              "  </tbody>\n",
              "</table>\n",
              "</div>"
            ],
            "text/plain": [
              "                    date  ...  n_climate_words\n",
              "31   2020-02-13 20:48:02  ...                1\n",
              "179  2020-01-19 05:02:00  ...                1\n",
              "445  2020-01-15 10:03:36  ...                1\n",
              "452  2020-01-29 18:39:34  ...                1\n",
              "528  2020-01-03 22:30:03  ...                1\n",
              "\n",
              "[5 rows x 10 columns]"
            ]
          },
          "metadata": {},
          "execution_count": 26
        }
      ]
    },
    {
      "cell_type": "markdown",
      "metadata": {
        "id": "ewyLeC2vLKP8"
      },
      "source": [
        "We are also computing the term frequency. "
      ]
    },
    {
      "cell_type": "code",
      "metadata": {
        "id": "te9xsVaEMZ-f",
        "colab": {
          "base_uri": "https://localhost:8080/",
          "height": 521
        },
        "outputId": "fcd063a2-cfa6-4a3e-a72f-28c5f88299d7"
      },
      "source": [
        "climate_quotations['term_frequency'] = climate_quotations['n_climate_words']/climate_quotations['clean_quotation'].str.count(' ').add(1)\n",
        "climate_quotations.head()"
      ],
      "execution_count": null,
      "outputs": [
        {
          "output_type": "execute_result",
          "data": {
            "text/html": [
              "<div>\n",
              "<style scoped>\n",
              "    .dataframe tbody tr th:only-of-type {\n",
              "        vertical-align: middle;\n",
              "    }\n",
              "\n",
              "    .dataframe tbody tr th {\n",
              "        vertical-align: top;\n",
              "    }\n",
              "\n",
              "    .dataframe thead th {\n",
              "        text-align: right;\n",
              "    }\n",
              "</style>\n",
              "<table border=\"1\" class=\"dataframe\">\n",
              "  <thead>\n",
              "    <tr style=\"text-align: right;\">\n",
              "      <th></th>\n",
              "      <th>date</th>\n",
              "      <th>numOccurrences</th>\n",
              "      <th>qids</th>\n",
              "      <th>speaker</th>\n",
              "      <th>quotation</th>\n",
              "      <th>quoteID</th>\n",
              "      <th>urls</th>\n",
              "      <th>date_format</th>\n",
              "      <th>clean_quotation</th>\n",
              "      <th>n_climate_words</th>\n",
              "      <th>term_frequency</th>\n",
              "    </tr>\n",
              "  </thead>\n",
              "  <tbody>\n",
              "    <tr>\n",
              "      <th>31</th>\n",
              "      <td>2020-02-13 20:48:02</td>\n",
              "      <td>1</td>\n",
              "      <td>['Q5387591']</td>\n",
              "      <td>Eric Swanson</td>\n",
              "      <td>Weather is a serious issue!</td>\n",
              "      <td>2020-02-13-117618</td>\n",
              "      <td>['https://www.dvidshub.net/news/363017/third-m...</td>\n",
              "      <td>2020-02-13 20:48:02</td>\n",
              "      <td>weather seriou issu</td>\n",
              "      <td>1</td>\n",
              "      <td>0.333333</td>\n",
              "    </tr>\n",
              "    <tr>\n",
              "      <th>179</th>\n",
              "      <td>2020-01-19 05:02:00</td>\n",
              "      <td>1</td>\n",
              "      <td>['Q62870', 'Q7608940']</td>\n",
              "      <td>Stephen Cook</td>\n",
              "      <td>Some of these ideas will play in to our existi...</td>\n",
              "      <td>2020-01-19-035805</td>\n",
              "      <td>['http://www.telegraph.co.uk/business/2020/01/...</td>\n",
              "      <td>2020-01-19 05:02:00</td>\n",
              "      <td>idea play exist oil ga busi make effici lower ...</td>\n",
              "      <td>1</td>\n",
              "      <td>0.090909</td>\n",
              "    </tr>\n",
              "    <tr>\n",
              "      <th>445</th>\n",
              "      <td>2020-01-15 10:03:36</td>\n",
              "      <td>1</td>\n",
              "      <td>['Q471851', 'Q56597630', 'Q56725722', 'Q6140167']</td>\n",
              "      <td>James Murdoch</td>\n",
              "      <td>promoting false scepticism about climate chang...</td>\n",
              "      <td>2020-01-15-066837</td>\n",
              "      <td>['https://www.carbonbrief.org/daily-brief/blac...</td>\n",
              "      <td>2020-01-15 10:03:36</td>\n",
              "      <td>promot fals sceptic climat chang deadli bushfi...</td>\n",
              "      <td>1</td>\n",
              "      <td>0.100000</td>\n",
              "    </tr>\n",
              "    <tr>\n",
              "      <th>452</th>\n",
              "      <td>2020-01-29 18:39:34</td>\n",
              "      <td>3</td>\n",
              "      <td>['Q15995308', 'Q16185474', 'Q24734892', 'Q2519...</td>\n",
              "      <td>Greg Miller</td>\n",
              "      <td>The tunnel work will have a huge impact on how...</td>\n",
              "      <td>2020-01-29-093546</td>\n",
              "      <td>['http://home.nzcity.co.nz/nl.aspx?4432710', '...</td>\n",
              "      <td>2020-01-29 18:39:34</td>\n",
              "      <td>tunnel work huge impact freight move northland...</td>\n",
              "      <td>1</td>\n",
              "      <td>0.030303</td>\n",
              "    </tr>\n",
              "    <tr>\n",
              "      <th>528</th>\n",
              "      <td>2020-01-03 22:30:03</td>\n",
              "      <td>1</td>\n",
              "      <td>['Q7611923']</td>\n",
              "      <td>Steve Benen</td>\n",
              "      <td>The United States is sending approximately 3,0...</td>\n",
              "      <td>2020-01-03-061651</td>\n",
              "      <td>['http://www.msnbc.com/rachel-maddow-show/frid...</td>\n",
              "      <td>2020-01-03 22:30:03</td>\n",
              "      <td>unit state send approxim 3000 soldier middl ea...</td>\n",
              "      <td>1</td>\n",
              "      <td>0.037037</td>\n",
              "    </tr>\n",
              "  </tbody>\n",
              "</table>\n",
              "</div>"
            ],
            "text/plain": [
              "                    date  numOccurrences  ... n_climate_words term_frequency\n",
              "31   2020-02-13 20:48:02               1  ...               1       0.333333\n",
              "179  2020-01-19 05:02:00               1  ...               1       0.090909\n",
              "445  2020-01-15 10:03:36               1  ...               1       0.100000\n",
              "452  2020-01-29 18:39:34               3  ...               1       0.030303\n",
              "528  2020-01-03 22:30:03               1  ...               1       0.037037\n",
              "\n",
              "[5 rows x 11 columns]"
            ]
          },
          "metadata": {},
          "execution_count": 27
        }
      ]
    },
    {
      "cell_type": "markdown",
      "metadata": {
        "id": "QIn4G4J1ORWb"
      },
      "source": [
        "We display the quotes with the highest amount of climate related word and the highest frequency."
      ]
    },
    {
      "cell_type": "code",
      "metadata": {
        "id": "ugl6h69TMbz6",
        "colab": {
          "base_uri": "https://localhost:8080/",
          "height": 451
        },
        "outputId": "f1d1fc3a-1c48-46bd-a368-3cf86900d35f"
      },
      "source": [
        "climate_quotations.sort_values(by=['term_frequency'], ascending=False).head()"
      ],
      "execution_count": null,
      "outputs": [
        {
          "output_type": "execute_result",
          "data": {
            "text/html": [
              "<div>\n",
              "<style scoped>\n",
              "    .dataframe tbody tr th:only-of-type {\n",
              "        vertical-align: middle;\n",
              "    }\n",
              "\n",
              "    .dataframe tbody tr th {\n",
              "        vertical-align: top;\n",
              "    }\n",
              "\n",
              "    .dataframe thead th {\n",
              "        text-align: right;\n",
              "    }\n",
              "</style>\n",
              "<table border=\"1\" class=\"dataframe\">\n",
              "  <thead>\n",
              "    <tr style=\"text-align: right;\">\n",
              "      <th></th>\n",
              "      <th>date</th>\n",
              "      <th>numOccurrences</th>\n",
              "      <th>qids</th>\n",
              "      <th>speaker</th>\n",
              "      <th>quotation</th>\n",
              "      <th>quoteID</th>\n",
              "      <th>urls</th>\n",
              "      <th>date_format</th>\n",
              "      <th>clean_quotation</th>\n",
              "      <th>n_climate_words</th>\n",
              "      <th>term_frequency</th>\n",
              "    </tr>\n",
              "  </thead>\n",
              "  <tbody>\n",
              "    <tr>\n",
              "      <th>159623</th>\n",
              "      <td>2019-12-18 18:00:02</td>\n",
              "      <td>4</td>\n",
              "      <td>['Q7381416']</td>\n",
              "      <td>Russell Ciochon</td>\n",
              "      <td>There was a change in climate,</td>\n",
              "      <td>2019-12-18-079265</td>\n",
              "      <td>['https://phys.org/news/2019-12-age-settlement...</td>\n",
              "      <td>2019-12-18 18:00:02</td>\n",
              "      <td>chang climat</td>\n",
              "      <td>1</td>\n",
              "      <td>0.5</td>\n",
              "    </tr>\n",
              "    <tr>\n",
              "      <th>301916</th>\n",
              "      <td>2019-07-21 11:31:47</td>\n",
              "      <td>3</td>\n",
              "      <td>['Q349125']</td>\n",
              "      <td>Dejan Lovren</td>\n",
              "      <td>We adapt to everything,</td>\n",
              "      <td>2019-07-21-034743</td>\n",
              "      <td>['https://www.goal.com/en/news/pressure-wont-a...</td>\n",
              "      <td>2019-07-21 11:31:47</td>\n",
              "      <td>adapt everyth</td>\n",
              "      <td>1</td>\n",
              "      <td>0.5</td>\n",
              "    </tr>\n",
              "    <tr>\n",
              "      <th>1681685</th>\n",
              "      <td>2015-03-23 09:05:39</td>\n",
              "      <td>4</td>\n",
              "      <td>['Q18166062']</td>\n",
              "      <td>Mereseini Vuniwaqa</td>\n",
              "      <td>Climate: Knowledge for Climate Action</td>\n",
              "      <td>2015-03-23-010797</td>\n",
              "      <td>['http://reliefweb.int/report/world/wmo-statem...</td>\n",
              "      <td>2015-03-23 09:05:39</td>\n",
              "      <td>climat knowledg climat action</td>\n",
              "      <td>2</td>\n",
              "      <td>0.5</td>\n",
              "    </tr>\n",
              "    <tr>\n",
              "      <th>1358470</th>\n",
              "      <td>2016-04-20 04:19:38</td>\n",
              "      <td>5</td>\n",
              "      <td>['Q7518520']</td>\n",
              "      <td>Simon Corbell</td>\n",
              "      <td>adapt to the effects climate change</td>\n",
              "      <td>2016-04-20-003986</td>\n",
              "      <td>['http://watoday.com.au/act-news/professor-kat...</td>\n",
              "      <td>2016-04-20 04:19:38</td>\n",
              "      <td>adapt effect climat chang</td>\n",
              "      <td>2</td>\n",
              "      <td>0.5</td>\n",
              "    </tr>\n",
              "    <tr>\n",
              "      <th>3768</th>\n",
              "      <td>2020-02-11 03:26:26</td>\n",
              "      <td>10</td>\n",
              "      <td>['Q18097239']</td>\n",
              "      <td>Akinwumi Adesina</td>\n",
              "      <td>There has to be climate justice,</td>\n",
              "      <td>2020-02-11-088806</td>\n",
              "      <td>['https://www.seattletimes.com/nation-world/na...</td>\n",
              "      <td>2020-02-11 03:26:26</td>\n",
              "      <td>climat justic</td>\n",
              "      <td>1</td>\n",
              "      <td>0.5</td>\n",
              "    </tr>\n",
              "  </tbody>\n",
              "</table>\n",
              "</div>"
            ],
            "text/plain": [
              "                        date  numOccurrences  ... n_climate_words term_frequency\n",
              "159623   2019-12-18 18:00:02               4  ...               1            0.5\n",
              "301916   2019-07-21 11:31:47               3  ...               1            0.5\n",
              "1681685  2015-03-23 09:05:39               4  ...               2            0.5\n",
              "1358470  2016-04-20 04:19:38               5  ...               2            0.5\n",
              "3768     2020-02-11 03:26:26              10  ...               1            0.5\n",
              "\n",
              "[5 rows x 11 columns]"
            ]
          },
          "metadata": {},
          "execution_count": 28
        }
      ]
    },
    {
      "cell_type": "markdown",
      "metadata": {
        "id": "qcH_wSzLU5eA"
      },
      "source": [
        "We believe that there are quotations that, even if they contain climate related word, they are not related to climate change as the term frequency is not high enough. We will then discard all the quotes where the frequency is lower than the median."
      ]
    },
    {
      "cell_type": "code",
      "metadata": {
        "colab": {
          "base_uri": "https://localhost:8080/",
          "height": 590
        },
        "id": "4-PWQ_I65Lxv",
        "outputId": "7db6414a-c0ea-4edf-88ac-f38c35392c15"
      },
      "source": [
        "median = climate_quotations['term_frequency'].median()\n",
        "climate_quotations = climate_quotations[climate_quotations['term_frequency'] > median]\n",
        "\n",
        "print('Number of quotes:', climate_quotations.shape[0])\n",
        "print('')\n",
        "\n",
        "climate_quotations.head()"
      ],
      "execution_count": null,
      "outputs": [
        {
          "output_type": "stream",
          "name": "stdout",
          "text": [
            "Number of quotes: 4601\n",
            "\n"
          ]
        },
        {
          "output_type": "execute_result",
          "data": {
            "text/html": [
              "<div>\n",
              "<style scoped>\n",
              "    .dataframe tbody tr th:only-of-type {\n",
              "        vertical-align: middle;\n",
              "    }\n",
              "\n",
              "    .dataframe tbody tr th {\n",
              "        vertical-align: top;\n",
              "    }\n",
              "\n",
              "    .dataframe thead th {\n",
              "        text-align: right;\n",
              "    }\n",
              "</style>\n",
              "<table border=\"1\" class=\"dataframe\">\n",
              "  <thead>\n",
              "    <tr style=\"text-align: right;\">\n",
              "      <th></th>\n",
              "      <th>date</th>\n",
              "      <th>numOccurrences</th>\n",
              "      <th>qids</th>\n",
              "      <th>speaker</th>\n",
              "      <th>quotation</th>\n",
              "      <th>quoteID</th>\n",
              "      <th>urls</th>\n",
              "      <th>date_format</th>\n",
              "      <th>clean_quotation</th>\n",
              "      <th>n_climate_words</th>\n",
              "      <th>term_frequency</th>\n",
              "    </tr>\n",
              "  </thead>\n",
              "  <tbody>\n",
              "    <tr>\n",
              "      <th>31</th>\n",
              "      <td>2020-02-13 20:48:02</td>\n",
              "      <td>1</td>\n",
              "      <td>['Q5387591']</td>\n",
              "      <td>Eric Swanson</td>\n",
              "      <td>Weather is a serious issue!</td>\n",
              "      <td>2020-02-13-117618</td>\n",
              "      <td>['https://www.dvidshub.net/news/363017/third-m...</td>\n",
              "      <td>2020-02-13 20:48:02</td>\n",
              "      <td>weather seriou issu</td>\n",
              "      <td>1</td>\n",
              "      <td>0.333333</td>\n",
              "    </tr>\n",
              "    <tr>\n",
              "      <th>179</th>\n",
              "      <td>2020-01-19 05:02:00</td>\n",
              "      <td>1</td>\n",
              "      <td>['Q62870', 'Q7608940']</td>\n",
              "      <td>Stephen Cook</td>\n",
              "      <td>Some of these ideas will play in to our existi...</td>\n",
              "      <td>2020-01-19-035805</td>\n",
              "      <td>['http://www.telegraph.co.uk/business/2020/01/...</td>\n",
              "      <td>2020-01-19 05:02:00</td>\n",
              "      <td>idea play exist oil ga busi make effici lower ...</td>\n",
              "      <td>1</td>\n",
              "      <td>0.090909</td>\n",
              "    </tr>\n",
              "    <tr>\n",
              "      <th>445</th>\n",
              "      <td>2020-01-15 10:03:36</td>\n",
              "      <td>1</td>\n",
              "      <td>['Q471851', 'Q56597630', 'Q56725722', 'Q6140167']</td>\n",
              "      <td>James Murdoch</td>\n",
              "      <td>promoting false scepticism about climate chang...</td>\n",
              "      <td>2020-01-15-066837</td>\n",
              "      <td>['https://www.carbonbrief.org/daily-brief/blac...</td>\n",
              "      <td>2020-01-15 10:03:36</td>\n",
              "      <td>promot fals sceptic climat chang deadli bushfi...</td>\n",
              "      <td>1</td>\n",
              "      <td>0.100000</td>\n",
              "    </tr>\n",
              "    <tr>\n",
              "      <th>1398</th>\n",
              "      <td>2020-01-22 20:13:58</td>\n",
              "      <td>2</td>\n",
              "      <td>['Q6767411']</td>\n",
              "      <td>Mark Dreyfus</td>\n",
              "      <td>We are going to be demanding from now until th...</td>\n",
              "      <td>2020-01-22-103088</td>\n",
              "      <td>['http://www.hawkesburygazette.com.au/story/65...</td>\n",
              "      <td>2020-01-22 20:13:58</td>\n",
              "      <td>go demand next elect govern take real action c...</td>\n",
              "      <td>1</td>\n",
              "      <td>0.111111</td>\n",
              "    </tr>\n",
              "    <tr>\n",
              "      <th>1739</th>\n",
              "      <td>2020-04-13 11:35:20</td>\n",
              "      <td>1</td>\n",
              "      <td>['Q3641334', 'Q4933705']</td>\n",
              "      <td>Bob Quick</td>\n",
              "      <td>The world changed, and our team had to figure ...</td>\n",
              "      <td>2020-04-13-048415</td>\n",
              "      <td>['https://www.lanereport.com/124254/2020/04/ma...</td>\n",
              "      <td>2020-04-13 11:35:20</td>\n",
              "      <td>world chang team figur effect way adapt</td>\n",
              "      <td>1</td>\n",
              "      <td>0.142857</td>\n",
              "    </tr>\n",
              "  </tbody>\n",
              "</table>\n",
              "</div>"
            ],
            "text/plain": [
              "                     date  numOccurrences  ... n_climate_words term_frequency\n",
              "31    2020-02-13 20:48:02               1  ...               1       0.333333\n",
              "179   2020-01-19 05:02:00               1  ...               1       0.090909\n",
              "445   2020-01-15 10:03:36               1  ...               1       0.100000\n",
              "1398  2020-01-22 20:13:58               2  ...               1       0.111111\n",
              "1739  2020-04-13 11:35:20               1  ...               1       0.142857\n",
              "\n",
              "[5 rows x 11 columns]"
            ]
          },
          "metadata": {},
          "execution_count": 30
        }
      ]
    },
    {
      "cell_type": "markdown",
      "metadata": {
        "id": "EBiMpPS1tkMx"
      },
      "source": [
        "\\For the moment we will be using the median as threshold but as we know that this is not the optimal way to go, we will improve it for next milestone. For the M3 we will rely on ClimateBERT, a transformer model that is able to extract climate change related text."
      ]
    },
    {
      "cell_type": "markdown",
      "metadata": {
        "id": "PHva5IwOPrmX"
      },
      "source": [
        "## Time series analysis"
      ]
    },
    {
      "cell_type": "markdown",
      "metadata": {
        "id": "Jbwg2jeF_8qn"
      },
      "source": [
        "Let's analyze now the frequency of climate change related quotes through the years and months in order to find the time lapses where climate change was a hot topic."
      ]
    },
    {
      "cell_type": "markdown",
      "metadata": {
        "id": "k_SWsyBjSONY"
      },
      "source": [
        "First, we will group the quotes by year."
      ]
    },
    {
      "cell_type": "code",
      "metadata": {
        "id": "9fUhnwMDMbIR"
      },
      "source": [
        "climate_quotations['year'] = climate_quotations['date_format'].dt.year"
      ],
      "execution_count": null,
      "outputs": []
    },
    {
      "cell_type": "code",
      "metadata": {
        "colab": {
          "base_uri": "https://localhost:8080/",
          "height": 269
        },
        "id": "lMtZahjaB7xd",
        "outputId": "e2998188-0c5a-42e6-9735-93fa10da0b2f"
      },
      "source": [
        "yearly_quotes = climate_quotations.groupby( ['year'] ).size().to_frame(name = 'count')\n",
        "yearly_quotes"
      ],
      "execution_count": null,
      "outputs": [
        {
          "output_type": "execute_result",
          "data": {
            "text/html": [
              "<div>\n",
              "<style scoped>\n",
              "    .dataframe tbody tr th:only-of-type {\n",
              "        vertical-align: middle;\n",
              "    }\n",
              "\n",
              "    .dataframe tbody tr th {\n",
              "        vertical-align: top;\n",
              "    }\n",
              "\n",
              "    .dataframe thead th {\n",
              "        text-align: right;\n",
              "    }\n",
              "</style>\n",
              "<table border=\"1\" class=\"dataframe\">\n",
              "  <thead>\n",
              "    <tr style=\"text-align: right;\">\n",
              "      <th></th>\n",
              "      <th>count</th>\n",
              "    </tr>\n",
              "    <tr>\n",
              "      <th>year</th>\n",
              "      <th></th>\n",
              "    </tr>\n",
              "  </thead>\n",
              "  <tbody>\n",
              "    <tr>\n",
              "      <th>2015</th>\n",
              "      <td>364</td>\n",
              "    </tr>\n",
              "    <tr>\n",
              "      <th>2016</th>\n",
              "      <td>209</td>\n",
              "    </tr>\n",
              "    <tr>\n",
              "      <th>2017</th>\n",
              "      <td>397</td>\n",
              "    </tr>\n",
              "    <tr>\n",
              "      <th>2018</th>\n",
              "      <td>380</td>\n",
              "    </tr>\n",
              "    <tr>\n",
              "      <th>2019</th>\n",
              "      <td>438</td>\n",
              "    </tr>\n",
              "    <tr>\n",
              "      <th>2020</th>\n",
              "      <td>95</td>\n",
              "    </tr>\n",
              "  </tbody>\n",
              "</table>\n",
              "</div>"
            ],
            "text/plain": [
              "      count\n",
              "year       \n",
              "2015    364\n",
              "2016    209\n",
              "2017    397\n",
              "2018    380\n",
              "2019    438\n",
              "2020     95"
            ]
          },
          "metadata": {},
          "execution_count": 47
        }
      ]
    },
    {
      "cell_type": "code",
      "metadata": {
        "id": "lH4T3v-l0G7B",
        "colab": {
          "base_uri": "https://localhost:8080/",
          "height": 295
        },
        "outputId": "3a39e5db-e7d8-4167-9f3f-b2b117f08c45"
      },
      "source": [
        "plot = yearly_quotes.plot(xlabel='year', ylabel='count', title='Number of quotes per year')"
      ],
      "execution_count": null,
      "outputs": [
        {
          "output_type": "display_data",
          "data": {
            "image/png": "[encoded data removed]",
            "text/plain": [
              "<Figure size 432x288 with 1 Axes>"
            ]
          },
          "metadata": {
            "needs_background": "light"
          }
        }
      ]
    },
    {
      "cell_type": "markdown",
      "metadata": {
        "id": "dp0ThOCmCjyw"
      },
      "source": [
        "We observe that the number of climate quotations increases through the years so it seems that the population is getting more concern about climate change. However, to fully capture this we should look at the proportion of quotes that are climate related. To do this we will look at the proportion of quotes in a specific year that are climate related. \n",
        "\n",
        "We also observe that the number of quotes in 2020 is significantly lower, this can be attribute to the fact that the quotes stop on March 2020."
      ]
    },
    {
      "cell_type": "markdown",
      "metadata": {
        "id": "vtGPPhLIvicN"
      },
      "source": [
        "Now let's zoom in, grouping by month."
      ]
    },
    {
      "cell_type": "code",
      "metadata": {
        "id": "OfFsQ8Of17NA"
      },
      "source": [
        "climate_quotations['month'] = climate_quotations['date_format'].dt.month"
      ],
      "execution_count": null,
      "outputs": []
    },
    {
      "cell_type": "code",
      "metadata": {
        "id": "bzWmjEkp6XP7",
        "colab": {
          "base_uri": "https://localhost:8080/",
          "height": 455
        },
        "outputId": "96058780-ae4a-4a98-dfb5-bdb319e91418"
      },
      "source": [
        "monthly_quotes = climate_quotations.groupby( ['year', 'month'] ).size().to_frame(name = 'count')\n",
        "monthly_quotes"
      ],
      "execution_count": null,
      "outputs": [
        {
          "output_type": "execute_result",
          "data": {
            "text/html": [
              "<div>\n",
              "<style scoped>\n",
              "    .dataframe tbody tr th:only-of-type {\n",
              "        vertical-align: middle;\n",
              "    }\n",
              "\n",
              "    .dataframe tbody tr th {\n",
              "        vertical-align: top;\n",
              "    }\n",
              "\n",
              "    .dataframe thead th {\n",
              "        text-align: right;\n",
              "    }\n",
              "</style>\n",
              "<table border=\"1\" class=\"dataframe\">\n",
              "  <thead>\n",
              "    <tr style=\"text-align: right;\">\n",
              "      <th></th>\n",
              "      <th></th>\n",
              "      <th>count</th>\n",
              "    </tr>\n",
              "    <tr>\n",
              "      <th>year</th>\n",
              "      <th>month</th>\n",
              "      <th></th>\n",
              "    </tr>\n",
              "  </thead>\n",
              "  <tbody>\n",
              "    <tr>\n",
              "      <th rowspan=\"5\" valign=\"top\">2015</th>\n",
              "      <th>1</th>\n",
              "      <td>75</td>\n",
              "    </tr>\n",
              "    <tr>\n",
              "      <th>2</th>\n",
              "      <td>57</td>\n",
              "    </tr>\n",
              "    <tr>\n",
              "      <th>3</th>\n",
              "      <td>72</td>\n",
              "    </tr>\n",
              "    <tr>\n",
              "      <th>4</th>\n",
              "      <td>64</td>\n",
              "    </tr>\n",
              "    <tr>\n",
              "      <th>5</th>\n",
              "      <td>33</td>\n",
              "    </tr>\n",
              "    <tr>\n",
              "      <th>...</th>\n",
              "      <th>...</th>\n",
              "      <td>...</td>\n",
              "    </tr>\n",
              "    <tr>\n",
              "      <th>2019</th>\n",
              "      <th>12</th>\n",
              "      <td>93</td>\n",
              "    </tr>\n",
              "    <tr>\n",
              "      <th rowspan=\"4\" valign=\"top\">2020</th>\n",
              "      <th>1</th>\n",
              "      <td>100</td>\n",
              "    </tr>\n",
              "    <tr>\n",
              "      <th>2</th>\n",
              "      <td>84</td>\n",
              "    </tr>\n",
              "    <tr>\n",
              "      <th>3</th>\n",
              "      <td>54</td>\n",
              "    </tr>\n",
              "    <tr>\n",
              "      <th>4</th>\n",
              "      <td>21</td>\n",
              "    </tr>\n",
              "  </tbody>\n",
              "</table>\n",
              "<p>63 rows × 1 columns</p>\n",
              "</div>"
            ],
            "text/plain": [
              "            count\n",
              "year month       \n",
              "2015 1         75\n",
              "     2         57\n",
              "     3         72\n",
              "     4         64\n",
              "     5         33\n",
              "...           ...\n",
              "2019 12        93\n",
              "2020 1        100\n",
              "     2         84\n",
              "     3         54\n",
              "     4         21\n",
              "\n",
              "[63 rows x 1 columns]"
            ]
          },
          "metadata": {},
          "execution_count": 50
        }
      ]
    },
    {
      "cell_type": "code",
      "metadata": {
        "id": "ia_rACMm7ayO",
        "colab": {
          "base_uri": "https://localhost:8080/",
          "height": 295
        },
        "outputId": "1b3775cd-d287-42ec-fc6d-e81f54f79469"
      },
      "source": [
        "plot = monthly_quotes.plot(xlabel='month', ylabel='count', title='Number of quotes per month')"
      ],
      "execution_count": null,
      "outputs": [
        {
          "output_type": "display_data",
          "data": {
            "image/png": "[encoded data removed]",
            "text/plain": [
              "<Figure size 432x288 with 1 Axes>"
            ]
          },
          "metadata": {
            "needs_background": "light"
          }
        }
      ]
    },
    {
      "cell_type": "markdown",
      "metadata": {
        "id": "erpLbW9I69S_"
      },
      "source": [
        "This plot reveals a high-degree of variance across months. In particular, in 2016 there the conversation surrounding climate change was far less uniform and experienced spikes likely related with external events. After 2016 the conversation seems to become more uniform. "
      ]
    },
    {
      "cell_type": "markdown",
      "metadata": {
        "id": "wJ-H0LUuFDph"
      },
      "source": [
        "## Quote occurrences distribution\n",
        "\n",
        "Let's see which are the most mentioned quotes in journals. This quotes will have a more important value."
      ]
    },
    {
      "cell_type": "code",
      "metadata": {
        "colab": {
          "base_uri": "https://localhost:8080/",
          "height": 295
        },
        "id": "yTNWnjUsFaGZ",
        "outputId": "98f00705-040e-464b-de9c-1ee6ae6313ce"
      },
      "source": [
        "plot = climate_quotations['numOccurrences'].plot(xlabel='quoteID', ylabel='occurrences', title='Number of occurrences per quote')"
      ],
      "execution_count": null,
      "outputs": [
        {
          "output_type": "display_data",
          "data": {
            "image/png": "[encoded data removed]",
            "text/plain": [
              "<Figure size 432x288 with 1 Axes>"
            ]
          },
          "metadata": {
            "needs_background": "light"
          }
        }
      ]
    },
    {
      "cell_type": "markdown",
      "metadata": {
        "id": "_s6rZq_XhOov"
      },
      "source": [
        "We observe that the data look heterogeneous. Quotes can be either frequently or barely mentioned."
      ]
    },
    {
      "cell_type": "code",
      "metadata": {
        "id": "11qNW39Tigtf"
      },
      "source": [
        "occurrences = climate_quotations.groupby(['numOccurrences']).size().to_frame(name = 'count')\n",
        "plot = occurrences.plot(xlabel='numOccurrences', ylabel='count', title='Quote distribution')"
      ],
      "execution_count": null,
      "outputs": []
    },
    {
      "cell_type": "code",
      "metadata": {
        "colab": {
          "base_uri": "https://localhost:8080/",
          "height": 469
        },
        "id": "SSnA8PDcFk9X",
        "outputId": "a3db5a5d-e393-415b-c314-84efa99af605"
      },
      "source": [
        "climate_quotations.sort_values(by=['numOccurrences'], ascending=False).head()"
      ],
      "execution_count": null,
      "outputs": [
        {
          "output_type": "execute_result",
          "data": {
            "text/html": [
              "<div>\n",
              "<style scoped>\n",
              "    .dataframe tbody tr th:only-of-type {\n",
              "        vertical-align: middle;\n",
              "    }\n",
              "\n",
              "    .dataframe tbody tr th {\n",
              "        vertical-align: top;\n",
              "    }\n",
              "\n",
              "    .dataframe thead th {\n",
              "        text-align: right;\n",
              "    }\n",
              "</style>\n",
              "<table border=\"1\" class=\"dataframe\">\n",
              "  <thead>\n",
              "    <tr style=\"text-align: right;\">\n",
              "      <th></th>\n",
              "      <th>date</th>\n",
              "      <th>numOccurrences</th>\n",
              "      <th>qids</th>\n",
              "      <th>speaker</th>\n",
              "      <th>quotation</th>\n",
              "      <th>quoteID</th>\n",
              "      <th>urls</th>\n",
              "      <th>clean_quotation</th>\n",
              "      <th>n_climate_words</th>\n",
              "      <th>tf</th>\n",
              "      <th>term_frequency</th>\n",
              "      <th>date_format</th>\n",
              "      <th>month</th>\n",
              "      <th>year</th>\n",
              "    </tr>\n",
              "  </thead>\n",
              "  <tbody>\n",
              "    <tr>\n",
              "      <th>1066279</th>\n",
              "      <td>2017-06-01 02:05:00</td>\n",
              "      <td>252</td>\n",
              "      <td>['Q57661']</td>\n",
              "      <td>Jean-Claude Juncker</td>\n",
              "      <td>the full implementation, without nuances, of t...</td>\n",
              "      <td>2017-06-01-116013</td>\n",
              "      <td>['http://www.timescolonist.com/protests-new-cl...</td>\n",
              "      <td>full implement without nuanc pari climat agree...</td>\n",
              "      <td>1</td>\n",
              "      <td>0.142857</td>\n",
              "      <td>0.142857</td>\n",
              "      <td>2017-06-01 02:05:00</td>\n",
              "      <td>6</td>\n",
              "      <td>2017</td>\n",
              "    </tr>\n",
              "    <tr>\n",
              "      <th>1337639</th>\n",
              "      <td>2016-08-30 01:36:12</td>\n",
              "      <td>166</td>\n",
              "      <td>['Q4756372']</td>\n",
              "      <td>Andrew Blakers</td>\n",
              "      <td>After the fiasco involving CSIRO climate scien...</td>\n",
              "      <td>2016-08-30-004143</td>\n",
              "      <td>['http://armidaleexpress.com.au/story/4130508/...</td>\n",
              "      <td>fiasco involv csiro climat scientist potenti f...</td>\n",
              "      <td>2</td>\n",
              "      <td>0.200000</td>\n",
              "      <td>0.200000</td>\n",
              "      <td>2016-08-30 01:36:12</td>\n",
              "      <td>8</td>\n",
              "      <td>2016</td>\n",
              "    </tr>\n",
              "    <tr>\n",
              "      <th>839935</th>\n",
              "      <td>2017-10-18 00:00:00</td>\n",
              "      <td>163</td>\n",
              "      <td>['Q14948632', 'Q22095942', 'Q6307307']</td>\n",
              "      <td>Julian King</td>\n",
              "      <td>terrorists don't stand still. They change and ...</td>\n",
              "      <td>2017-10-18-121498</td>\n",
              "      <td>['http://montrealgazette.com/pmn/news-pmn/eu-u...</td>\n",
              "      <td>terrorist stand still chang adapt method need ...</td>\n",
              "      <td>2</td>\n",
              "      <td>0.200000</td>\n",
              "      <td>0.200000</td>\n",
              "      <td>2017-10-18 00:00:00</td>\n",
              "      <td>10</td>\n",
              "      <td>2017</td>\n",
              "    </tr>\n",
              "    <tr>\n",
              "      <th>1459791</th>\n",
              "      <td>2015-08-28 02:25:30</td>\n",
              "      <td>158</td>\n",
              "      <td>['Q15525008']</td>\n",
              "      <td>Jackie Kelly</td>\n",
              "      <td>There's just no feedback there, so you rely co...</td>\n",
              "      <td>2015-08-28-097084</td>\n",
              "      <td>['http://www.brisbanetimes.com.au/act-news/can...</td>\n",
              "      <td>there feedback there reli complet school repor...</td>\n",
              "      <td>1</td>\n",
              "      <td>0.125000</td>\n",
              "      <td>0.125000</td>\n",
              "      <td>2015-08-28 02:25:30</td>\n",
              "      <td>8</td>\n",
              "      <td>2015</td>\n",
              "    </tr>\n",
              "    <tr>\n",
              "      <th>1632886</th>\n",
              "      <td>2015-12-12 17:37:57</td>\n",
              "      <td>146</td>\n",
              "      <td>['Q3675860', 'Q5112653']</td>\n",
              "      <td>Christopher Joyce</td>\n",
              "      <td>Any greenhouse gases emitted would be balanced...</td>\n",
              "      <td>2015-12-12-004436</td>\n",
              "      <td>['http://www.ktoo.org/2015/12/12/2-degrees-100...</td>\n",
              "      <td>greenhous gase emit would balanc zero remov eq...</td>\n",
              "      <td>3</td>\n",
              "      <td>0.142857</td>\n",
              "      <td>0.142857</td>\n",
              "      <td>2015-12-12 17:37:57</td>\n",
              "      <td>12</td>\n",
              "      <td>2015</td>\n",
              "    </tr>\n",
              "  </tbody>\n",
              "</table>\n",
              "</div>"
            ],
            "text/plain": [
              "                        date  numOccurrences  ... month  year\n",
              "1066279  2017-06-01 02:05:00             252  ...     6  2017\n",
              "1337639  2016-08-30 01:36:12             166  ...     8  2016\n",
              "839935   2017-10-18 00:00:00             163  ...    10  2017\n",
              "1459791  2015-08-28 02:25:30             158  ...     8  2015\n",
              "1632886  2015-12-12 17:37:57             146  ...    12  2015\n",
              "\n",
              "[5 rows x 14 columns]"
            ]
          },
          "metadata": {},
          "execution_count": 53
        }
      ]
    },
    {
      "cell_type": "markdown",
      "metadata": {
        "id": "Ow2AUNmAGVaS"
      },
      "source": [
        "## Building the embedding"
      ]
    },
    {
      "cell_type": "markdown",
      "metadata": {
        "id": "Ej_JYqgjHLMp"
      },
      "source": [
        "- We first define a function to get the top level domains of the urls in order to get the journal name.\n",
        "- Next we calculate the tf-idf for speaker-domain pairs.\n",
        "- after we calculate the cosine similarity between sites"
      ]
    },
    {
      "cell_type": "code",
      "metadata": {
        "id": "WHZ-1GS_Fk55"
      },
      "source": [
        "from tld import get_tld\n",
        "\n",
        "def get_domain(urls):\n",
        "    tlds = [get_tld(k, as_object=True).fld for k in urls]\n",
        "    return tlds\n",
        "\n",
        "get_domain_udf = udf(get_domain, ArrayType(StringType()))"
      ],
      "execution_count": null,
      "outputs": []
    },
    {
      "cell_type": "code",
      "metadata": {
        "id": "3pjrGHeJFk3m"
      },
      "source": [
        "climate_quotations['clean_quotation'] = climate_quotations['quotation'].apply(lambda x: clean_text(x))\n",
        "\n"
      ],
      "execution_count": null,
      "outputs": []
    },
    {
      "cell_type": "code",
      "metadata": {
        "id": "S8v7mbgmFk0N"
      },
      "source": [
        "import glob\n",
        "quote_files = glob.glob(\"/content/drive/MyDrive/Quotebank/*\")\n",
        "\n",
        "# define a function to get the top level domains \n",
        "from tld import get_tld\n",
        "\n",
        "def get_domain(urls):\n",
        "    tlds = [get_tld(k, as_object=True).fld for k in urls]\n",
        "    return tlds\n",
        "\n",
        "get_domain_udf = udf(get_domain, ArrayType(StringType()))\n",
        "\n",
        "limited = quotes.limit(3000000)\n",
        "\n",
        "quotes_2019 = limited.withColumn(\"flds\", get_domain_udf(\"urls\"))\n",
        "\n",
        "# drop speakers with None\n",
        "quotes_2019 = quotes_2019.filter(quotes_2019.speaker != \"None\")\n",
        "\n",
        "speakers = quotes_2019.groupBy('speaker').count()\n",
        "speakers = speakers.filter(col(\"count\")>9)\n",
        "# join onto the speakers\n",
        "quotes_2019 = quotes_2019.join(speakers, on = 'speaker', how = 'inner')\n",
        "quotes_2019_exploded = quotes_2019.select(*['speaker','flds'])\n",
        "\n",
        "# here we explode on the flds list\n",
        "# this will provide us with a row for every fld\n",
        "quotes_2019_exploded = quotes_2019_exploded.select(quotes_2019_exploded.speaker, explode(quotes_2019_exploded.flds).alias('fld'))\n",
        "count_fld = quotes_2019_exploded.groupBy('fld').agg({'fld':'count'})\n",
        "\n",
        "count_fld = count_fld.filter(count_fld['count(fld)'] > 99)\n",
        "\n",
        "# analysis to get the term-frequencies and idf\n",
        "quotes_2019_exploded = quotes_2019_exploded.join(count_fld, on ='fld')\n",
        "quotes_2019_exploded = quotes_2019_exploded.cache()\n",
        "quotes_2019_exploded= quotes_2019_exploded.select('fld','speaker')\n",
        "quotes_2019_grouped = quotes_2019_exploded.groupBy(*['speaker','fld']).count()\n",
        "quotes_2019_idf = quotes_2019_grouped.groupBy(\"speaker\").count()\n",
        "quotes_2019_idf = quotes_2019_idf.select(col('speaker').alias('speaker'), col('count').alias('unique_speakers'))\n",
        "quotes_2019_grouped = quotes_2019_grouped.join(quotes_2019_idf, on = 'speaker')\n",
        "quotes_2019_grouped.write.parquet(\"frequency_table2.parquet\")\n",
        "frequencies = spark.read.load('frequency_table2.parquet').toPandas()\n",
        "\n",
        "frequencies.to_csv('/content/drive/MyDrive/frequency_table.csv')"
      ],
      "execution_count": null,
      "outputs": []
    },
    {
      "cell_type": "code",
      "metadata": {
        "id": "_iCIaGaQFkxq"
      },
      "source": [
        "frequencies = pd.read_csv('/content/drive/MyDrive/frequency_table.csv')"
      ],
      "execution_count": null,
      "outputs": []
    },
    {
      "cell_type": "code",
      "metadata": {
        "colab": {
          "base_uri": "https://localhost:8080/"
        },
        "id": "Ks-UHwLO03Su",
        "outputId": "287b1ef0-6db4-4bf7-ebb2-08db2c031d0b"
      },
      "source": [
        "frequencies['fld_count'] = frequencies.groupby('fld')['count'].transform('sum')\n",
        "\n",
        "frequencies = frequencies[frequencies['fld_count'] > 60]"
      ],
      "execution_count": null,
      "outputs": [
        {
          "output_type": "stream",
          "name": "stderr",
          "text": [
            "/usr/local/lib/python3.7/dist-packages/ipykernel_launcher.py:1: SettingWithCopyWarning: \n",
            "A value is trying to be set on a copy of a slice from a DataFrame.\n",
            "Try using .loc[row_indexer,col_indexer] = value instead\n",
            "\n",
            "See the caveats in the documentation: https://pandas.pydata.org/pandas-docs/stable/user_guide/indexing.html#returning-a-view-versus-a-copy\n",
            "  \"\"\"Entry point for launching an IPython kernel.\n"
          ]
        }
      ]
    },
    {
      "cell_type": "code",
      "metadata": {
        "id": "bU1g5kXQFkuj"
      },
      "source": [
        "import numpy as np\n",
        "N = frequencies['fld'].nunique()\n",
        "frequencies['idf'] = frequencies['unique_speakers'].apply(lambda x: np.log(N/x))\n",
        "frequencies['tfidf'] = frequencies['idf'] * frequencies['count']\n",
        "\n",
        "# we will pivot \n",
        "pivoted = frequencies.pivot(index='fld',columns ='speaker', values='tfidf')\n",
        "\n",
        "pivoted = pivoted.fillna(0)\n",
        "\n",
        "\n",
        "# to do the LSA we need to run PCA\n",
        "from sklearn.decomposition import PCA \n",
        "pca = PCA(150)\n",
        "vecs = pca.fit_transform(pivoted)\n",
        "\n",
        "vecs_df = pd.DataFrame(vecs, index=pivoted.index)\n",
        "\n",
        "\n",
        "# we will use cosine similarity to find similarity\n",
        "from sklearn.metrics import pairwise\n",
        "cosine_similarity = pairwise.cosine_similarity(vecs_df.values)\n",
        "\n",
        "cosine_similarity_df = pd.DataFrame(cosine_similarity, index=vecs_df.index,columns = vecs_df.index)\n",
        "\n",
        "breitbart_sim = cosine_similarity_df['breitbart.com'].sort_values(ascending=False).reset_index()"
      ],
      "execution_count": null,
      "outputs": []
    },
    {
      "cell_type": "code",
      "metadata": {
        "colab": {
          "base_uri": "https://localhost:8080/",
          "height": 359
        },
        "id": "3LSbdn2wRIvU",
        "outputId": "25d7446b-6cf5-4339-838d-4449cc7b8d2b"
      },
      "source": [
        "breitbart_sim.head(10)"
      ],
      "execution_count": null,
      "outputs": [
        {
          "output_type": "execute_result",
          "data": {
            "text/html": [
              "<div>\n",
              "<style scoped>\n",
              "    .dataframe tbody tr th:only-of-type {\n",
              "        vertical-align: middle;\n",
              "    }\n",
              "\n",
              "    .dataframe tbody tr th {\n",
              "        vertical-align: top;\n",
              "    }\n",
              "\n",
              "    .dataframe thead th {\n",
              "        text-align: right;\n",
              "    }\n",
              "</style>\n",
              "<table border=\"1\" class=\"dataframe\">\n",
              "  <thead>\n",
              "    <tr style=\"text-align: right;\">\n",
              "      <th></th>\n",
              "      <th>fld</th>\n",
              "      <th>breitbart.com</th>\n",
              "    </tr>\n",
              "  </thead>\n",
              "  <tbody>\n",
              "    <tr>\n",
              "      <th>0</th>\n",
              "      <td>breitbart.com</td>\n",
              "      <td>1.000000</td>\n",
              "    </tr>\n",
              "    <tr>\n",
              "      <th>1</th>\n",
              "      <td>upi.com</td>\n",
              "      <td>0.807099</td>\n",
              "    </tr>\n",
              "    <tr>\n",
              "      <th>2</th>\n",
              "      <td>voanews.com</td>\n",
              "      <td>0.721127</td>\n",
              "    </tr>\n",
              "    <tr>\n",
              "      <th>3</th>\n",
              "      <td>metro.us</td>\n",
              "      <td>0.713068</td>\n",
              "    </tr>\n",
              "    <tr>\n",
              "      <th>4</th>\n",
              "      <td>westernjournal.com</td>\n",
              "      <td>0.709644</td>\n",
              "    </tr>\n",
              "    <tr>\n",
              "      <th>5</th>\n",
              "      <td>newdelhitimes.com</td>\n",
              "      <td>0.702803</td>\n",
              "    </tr>\n",
              "    <tr>\n",
              "      <th>6</th>\n",
              "      <td>news12.com</td>\n",
              "      <td>0.697857</td>\n",
              "    </tr>\n",
              "    <tr>\n",
              "      <th>7</th>\n",
              "      <td>kdhnews.com</td>\n",
              "      <td>0.692948</td>\n",
              "    </tr>\n",
              "    <tr>\n",
              "      <th>8</th>\n",
              "      <td>newsmax.com</td>\n",
              "      <td>0.687800</td>\n",
              "    </tr>\n",
              "    <tr>\n",
              "      <th>9</th>\n",
              "      <td>ibtimes.com</td>\n",
              "      <td>0.685697</td>\n",
              "    </tr>\n",
              "  </tbody>\n",
              "</table>\n",
              "</div>"
            ],
            "text/plain": [
              "                  fld  breitbart.com\n",
              "0       breitbart.com       1.000000\n",
              "1             upi.com       0.807099\n",
              "2         voanews.com       0.721127\n",
              "3            metro.us       0.713068\n",
              "4  westernjournal.com       0.709644\n",
              "5   newdelhitimes.com       0.702803\n",
              "6          news12.com       0.697857\n",
              "7         kdhnews.com       0.692948\n",
              "8         newsmax.com       0.687800\n",
              "9         ibtimes.com       0.685697"
            ]
          },
          "metadata": {},
          "execution_count": 89
        }
      ]
    },
    {
      "cell_type": "code",
      "metadata": {
        "id": "vq6vxmAXRJAd"
      },
      "source": [
        ""
      ],
      "execution_count": null,
      "outputs": []
    },
    {
      "cell_type": "code",
      "metadata": {
        "id": "OzJUAueh6QTk"
      },
      "source": [
        "# save for tensorflow embedding\n",
        "vecs_df.to_csv(\"/content/drive/MyDrive/vecs.tsv\", sep='\\t',header=False)\n",
        "metadata = vecs_df.reset_index('fld')['fld'].to_csv(\"/content/drive/MyDrive/metadata.tsv\", header=False, sep='\\t',index=False)\n"
      ],
      "execution_count": null,
      "outputs": []
    },
    {
      "cell_type": "code",
      "metadata": {
        "id": "-sEhgIK-Fkbp"
      },
      "source": [
        "# we will import the bias scores from https://dataverse.harvard.edu/dataset.xhtml?persistentId=doi:10.7910/DVN/QAN5VX\n",
        "bias_scores = pd.read_csv('/content/drive/MyDrive/bias_scores.csv')"
      ],
      "execution_count": null,
      "outputs": []
    },
    {
      "cell_type": "code",
      "metadata": {
        "colab": {
          "base_uri": "https://localhost:8080/",
          "height": 419
        },
        "id": "FoM-gcXAyQTa",
        "outputId": "c12db416-227f-4109-8460-079135bd44f1"
      },
      "source": [
        "# we want to find which news site is farthest left and right\n",
        "# next step will be define a partisan_dimension using these values\n",
        "bias_scores.sort_values(by='fb_score').dropna(subset=['fb_score'])"
      ],
      "execution_count": null,
      "outputs": [
        {
          "output_type": "execute_result",
          "data": {
            "text/html": [
              "<div>\n",
              "<style scoped>\n",
              "    .dataframe tbody tr th:only-of-type {\n",
              "        vertical-align: middle;\n",
              "    }\n",
              "\n",
              "    .dataframe tbody tr th {\n",
              "        vertical-align: top;\n",
              "    }\n",
              "\n",
              "    .dataframe thead th {\n",
              "        text-align: right;\n",
              "    }\n",
              "</style>\n",
              "<table border=\"1\" class=\"dataframe\">\n",
              "  <thead>\n",
              "    <tr style=\"text-align: right;\">\n",
              "      <th></th>\n",
              "      <th>domain</th>\n",
              "      <th>score</th>\n",
              "      <th>fb_score</th>\n",
              "      <th>mturk_score</th>\n",
              "      <th>budak_score</th>\n",
              "      <th>allsides_score</th>\n",
              "      <th>allsides_score_community</th>\n",
              "      <th>pew_score</th>\n",
              "    </tr>\n",
              "  </thead>\n",
              "  <tbody>\n",
              "    <tr>\n",
              "      <th>2367</th>\n",
              "      <td>readersupportednews.org</td>\n",
              "      <td>-0.7836</td>\n",
              "      <td>-0.9984</td>\n",
              "      <td>NaN</td>\n",
              "      <td>NaN</td>\n",
              "      <td>NaN</td>\n",
              "      <td>NaN</td>\n",
              "      <td>NaN</td>\n",
              "    </tr>\n",
              "    <tr>\n",
              "      <th>1001</th>\n",
              "      <td>act.weareultraviolet.org</td>\n",
              "      <td>-0.8069</td>\n",
              "      <td>-0.9710</td>\n",
              "      <td>NaN</td>\n",
              "      <td>NaN</td>\n",
              "      <td>NaN</td>\n",
              "      <td>NaN</td>\n",
              "      <td>NaN</td>\n",
              "    </tr>\n",
              "    <tr>\n",
              "      <th>1070</th>\n",
              "      <td>commondreams.org</td>\n",
              "      <td>-0.6526</td>\n",
              "      <td>-0.9673</td>\n",
              "      <td>-0.166667</td>\n",
              "      <td>NaN</td>\n",
              "      <td>NaN</td>\n",
              "      <td>NaN</td>\n",
              "      <td>NaN</td>\n",
              "    </tr>\n",
              "    <tr>\n",
              "      <th>943</th>\n",
              "      <td>thenewcivilrightsmovement.com</td>\n",
              "      <td>-0.7471</td>\n",
              "      <td>-0.9643</td>\n",
              "      <td>-0.500000</td>\n",
              "      <td>NaN</td>\n",
              "      <td>NaN</td>\n",
              "      <td>NaN</td>\n",
              "      <td>NaN</td>\n",
              "    </tr>\n",
              "    <tr>\n",
              "      <th>241</th>\n",
              "      <td>jezebel.com</td>\n",
              "      <td>-0.6633</td>\n",
              "      <td>-0.9487</td>\n",
              "      <td>NaN</td>\n",
              "      <td>NaN</td>\n",
              "      <td>NaN</td>\n",
              "      <td>NaN</td>\n",
              "      <td>NaN</td>\n",
              "    </tr>\n",
              "    <tr>\n",
              "      <th>...</th>\n",
              "      <td>...</td>\n",
              "      <td>...</td>\n",
              "      <td>...</td>\n",
              "      <td>...</td>\n",
              "      <td>...</td>\n",
              "      <td>...</td>\n",
              "      <td>...</td>\n",
              "      <td>...</td>\n",
              "    </tr>\n",
              "    <tr>\n",
              "      <th>1090</th>\n",
              "      <td>lifenews.com</td>\n",
              "      <td>0.8814</td>\n",
              "      <td>0.9664</td>\n",
              "      <td>NaN</td>\n",
              "      <td>NaN</td>\n",
              "      <td>NaN</td>\n",
              "      <td>NaN</td>\n",
              "      <td>NaN</td>\n",
              "    </tr>\n",
              "    <tr>\n",
              "      <th>854</th>\n",
              "      <td>youngcons.com</td>\n",
              "      <td>0.9023</td>\n",
              "      <td>0.9685</td>\n",
              "      <td>NaN</td>\n",
              "      <td>NaN</td>\n",
              "      <td>NaN</td>\n",
              "      <td>NaN</td>\n",
              "      <td>NaN</td>\n",
              "    </tr>\n",
              "    <tr>\n",
              "      <th>1617</th>\n",
              "      <td>glennbeck.com</td>\n",
              "      <td>0.9013</td>\n",
              "      <td>0.9690</td>\n",
              "      <td>NaN</td>\n",
              "      <td>NaN</td>\n",
              "      <td>NaN</td>\n",
              "      <td>NaN</td>\n",
              "      <td>0.250</td>\n",
              "    </tr>\n",
              "    <tr>\n",
              "      <th>2198</th>\n",
              "      <td>rushlimbaugh.com</td>\n",
              "      <td>0.8715</td>\n",
              "      <td>1.0077</td>\n",
              "      <td>NaN</td>\n",
              "      <td>NaN</td>\n",
              "      <td>NaN</td>\n",
              "      <td>NaN</td>\n",
              "      <td>0.282</td>\n",
              "    </tr>\n",
              "    <tr>\n",
              "      <th>1790</th>\n",
              "      <td>weaselzippers.us</td>\n",
              "      <td>0.9087</td>\n",
              "      <td>1.0295</td>\n",
              "      <td>NaN</td>\n",
              "      <td>NaN</td>\n",
              "      <td>NaN</td>\n",
              "      <td>NaN</td>\n",
              "      <td>NaN</td>\n",
              "    </tr>\n",
              "  </tbody>\n",
              "</table>\n",
              "<p>447 rows × 8 columns</p>\n",
              "</div>"
            ],
            "text/plain": [
              "                             domain  ...  pew_score\n",
              "2367        readersupportednews.org  ...        NaN\n",
              "1001       act.weareultraviolet.org  ...        NaN\n",
              "1070               commondreams.org  ...        NaN\n",
              "943   thenewcivilrightsmovement.com  ...        NaN\n",
              "241                     jezebel.com  ...        NaN\n",
              "...                             ...  ...        ...\n",
              "1090                   lifenews.com  ...        NaN\n",
              "854                   youngcons.com  ...        NaN\n",
              "1617                  glennbeck.com  ...      0.250\n",
              "2198               rushlimbaugh.com  ...      0.282\n",
              "1790               weaselzippers.us  ...        NaN\n",
              "\n",
              "[447 rows x 8 columns]"
            ]
          },
          "metadata": {},
          "execution_count": 81
        }
      ]
    },
    {
      "cell_type": "code",
      "metadata": {
        "id": "4B-0KOa1yf1z"
      },
      "source": [
        ""
      ],
      "execution_count": null,
      "outputs": []
    }
  ]
}